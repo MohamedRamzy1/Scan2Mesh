{
 "cells": [
  {
   "cell_type": "code",
   "execution_count": 1,
   "id": "f0750b6f",
   "metadata": {},
   "outputs": [],
   "source": [
    "import torch\n",
    "from data.shapenet import ShapeNet\n",
    "from model.vertix_model import VertixModel\n",
    "import tqdm\n",
    "from util.visualization import visualize_pointcloud, visualize_mesh\n",
    "import random\n",
    "%load_ext autoreload\n",
    "%autoreload 2\n",
    "import numpy as np\n",
    "from scipy.spatial import distance_matrix"
   ]
  },
  {
   "cell_type": "code",
   "execution_count": 2,
   "id": "33e8e034",
   "metadata": {},
   "outputs": [
    {
     "name": "stdout",
     "output_type": "stream",
     "text": [
      "Looking in links: https://dl.fbaipublicfiles.com/pytorch3d/packaging/wheels/py39_cu102_pyt1101/download.html\r\n",
      "Requirement already satisfied: pytorch3d in /home/mohamed/anaconda3/envs/pytorch3d/lib/python3.9/site-packages (0.0.1)\r\n"
     ]
    }
   ],
   "source": [
    "import sys\n",
    "import torch\n",
    "pyt_version_str=torch.__version__.split(\"+\")[0].replace(\".\", \"\")\n",
    "version_str=\"\".join([\n",
    "    f\"py3{sys.version_info.minor}_cu\",\n",
    "    torch.version.cuda.replace(\".\",\"\"),\n",
    "    f\"_pyt{pyt_version_str}\"\n",
    "])\n",
    "!pip install pytorch3d -f https://dl.fbaipublicfiles.com/pytorch3d/packaging/wheels/{version_str}/download.html"
   ]
  },
  {
   "cell_type": "code",
   "execution_count": 3,
   "id": "62ecccda",
   "metadata": {},
   "outputs": [],
   "source": [
    "num_vertices = 100"
   ]
  },
  {
   "cell_type": "code",
   "execution_count": 4,
   "id": "cbe67a4b",
   "metadata": {},
   "outputs": [],
   "source": [
    "config = {\n",
    "    'experiment_name': 'vertix_hungarian_overfit',\n",
    "    'device': 'cuda:0',  \n",
    "    'is_overfit': True,\n",
    "    'batch_size': 10,\n",
    "    'resume_ckpt': None,\n",
    "    'learning_rate': 1e-3,\n",
    "    'max_epochs': 10000,\n",
    "    'print_every_n': 1,\n",
    "    'validate_every_n': 1,\n",
    "    'sdf_path': 'data/shapenet_dim32_sdf',\n",
    "    'meshes_path': 'data/shapenet_reduced',\n",
    "    'class_mapping': 'data/shape_info.json',\n",
    "    'split': 'overfit',\n",
    "    'num_vertices': num_vertices,\n",
    "    'feature_size': 512,\n",
    "    'num_trajectories': 2\n",
    "}"
   ]
  },
  {
   "cell_type": "code",
   "execution_count": 5,
   "id": "33d4f501",
   "metadata": {},
   "outputs": [],
   "source": [
    "dataset = ShapeNet(sdf_path=config[\"sdf_path\"],\n",
    "                         meshes_path=config[\"meshes_path\"],\n",
    "                         class_mapping=config[\"class_mapping\"],\n",
    "                         split = \"overfit\", threshold=config[\"num_vertices\"], num_trajectories=config[\"num_trajectories\"])\n"
   ]
  },
  {
   "cell_type": "code",
   "execution_count": 6,
   "id": "d148f352",
   "metadata": {},
   "outputs": [
    {
     "name": "stdout",
     "output_type": "stream",
     "text": [
      "Length of dataset: 91\n",
      "Filtering data ..\n"
     ]
    },
    {
     "name": "stderr",
     "output_type": "stream",
     "text": [
      "100%|█████████████████████████████████████████| 91/91 [00:00<00:00, 3732.57it/s]"
     ]
    },
    {
     "name": "stdout",
     "output_type": "stream",
     "text": [
      "Length of dataset: 10\n"
     ]
    },
    {
     "name": "stderr",
     "output_type": "stream",
     "text": [
      "\n"
     ]
    }
   ],
   "source": [
    "dataset.filter_data()"
   ]
  },
  {
   "cell_type": "code",
   "execution_count": 7,
   "id": "0a969311",
   "metadata": {
    "scrolled": true
   },
   "outputs": [
    {
     "ename": "ModuleNotFoundError",
     "evalue": "No module named 'pytorch3d'",
     "output_type": "error",
     "traceback": [
      "\u001b[0;31m---------------------------------------------------------------------------\u001b[0m",
      "\u001b[0;31mModuleNotFoundError\u001b[0m                       Traceback (most recent call last)",
      "Input \u001b[0;32mIn [7]\u001b[0m, in \u001b[0;36m<module>\u001b[0;34m\u001b[0m\n\u001b[0;32m----> 1\u001b[0m \u001b[38;5;28;01mfrom\u001b[39;00m \u001b[38;5;21;01mtraining\u001b[39;00m \u001b[38;5;28;01mimport\u001b[39;00m vertix_train_chamfer\n\u001b[1;32m      3\u001b[0m vertix_train\u001b[38;5;241m.\u001b[39mmain(config)\n",
      "File \u001b[0;32m~/TUM/first_semester/ML43D_Geometry/Scan2Mesh/training/vertix_train_chamfer.py:16\u001b[0m, in \u001b[0;36m<module>\u001b[0;34m\u001b[0m\n\u001b[1;32m     11\u001b[0m \u001b[38;5;28;01mfrom\u001b[39;00m \u001b[38;5;21;01mscipy\u001b[39;00m\u001b[38;5;21;01m.\u001b[39;00m\u001b[38;5;21;01moptimize\u001b[39;00m \u001b[38;5;28;01mimport\u001b[39;00m linear_sum_assignment\n\u001b[1;32m     13\u001b[0m \u001b[38;5;28;01mfrom\u001b[39;00m \u001b[38;5;21;01mscipy\u001b[39;00m\u001b[38;5;21;01m.\u001b[39;00m\u001b[38;5;21;01mspatial\u001b[39;00m \u001b[38;5;28;01mimport\u001b[39;00m distance_matrix\n\u001b[0;32m---> 16\u001b[0m \u001b[38;5;28;01mfrom\u001b[39;00m \u001b[38;5;21;01mpytorch3d\u001b[39;00m\u001b[38;5;21;01m.\u001b[39;00m\u001b[38;5;21;01mloss\u001b[39;00m \u001b[38;5;28;01mimport\u001b[39;00m chamfer_distance\n\u001b[1;32m     19\u001b[0m \u001b[38;5;28;01mdef\u001b[39;00m \u001b[38;5;21mtrain\u001b[39m(model, train_dataloader, val_dataloader, device, config):\n\u001b[1;32m     21\u001b[0m     optimizer \u001b[38;5;241m=\u001b[39m torch\u001b[38;5;241m.\u001b[39moptim\u001b[38;5;241m.\u001b[39mAdam(model\u001b[38;5;241m.\u001b[39mparameters(), lr\u001b[38;5;241m=\u001b[39mconfig[\u001b[38;5;124m'\u001b[39m\u001b[38;5;124mlearning_rate\u001b[39m\u001b[38;5;124m'\u001b[39m])\n",
      "\u001b[0;31mModuleNotFoundError\u001b[0m: No module named 'pytorch3d'"
     ]
    }
   ],
   "source": [
    "from training import vertix_train_chamfer\n",
    "\n",
    "vertix_train.main(config)"
   ]
  },
  {
   "cell_type": "code",
   "execution_count": 21,
   "id": "fe04aceb",
   "metadata": {},
   "outputs": [],
   "source": [
    "from inference.inference_vertix import InferenceHandlerVertixModel\n",
    "\n",
    "# create a handler for inference using a trained checkpoint\n",
    "inferer = InferenceHandlerVertixModel('runs/vertix_hungarian_overfit/model_best.ckpt', config[\"num_vertices\"])"
   ]
  },
  {
   "cell_type": "code",
   "execution_count": 13,
   "id": "dcadb433",
   "metadata": {},
   "outputs": [],
   "source": [
    "x_indices = []\n",
    "y_indices = []\n",
    "\n",
    "graph = np.ones((1,config[\"num_vertices\"], config[\"num_vertices\"],1))\n",
    "\n",
    "for i in range(config[\"num_vertices\"]):\n",
    "    for j in range(config[\"num_vertices\"]):\n",
    "        x_indices.append(i)\n",
    "        y_indices.append(j)"
   ]
  },
  {
   "cell_type": "code",
   "execution_count": 13,
   "id": "60263481",
   "metadata": {},
   "outputs": [],
   "source": [
    "random_sample = random.randint(0,len(dataset))"
   ]
  },
  {
   "cell_type": "code",
   "execution_count": 14,
   "id": "3d9be6cd",
   "metadata": {},
   "outputs": [],
   "source": [
    "input_sdf, target_vertices, mask, target_edges, edges_adj = dataset[random_sample]"
   ]
  },
  {
   "cell_type": "code",
   "execution_count": 15,
   "id": "b09f2a46",
   "metadata": {},
   "outputs": [],
   "source": [
    "faces = []\n",
    "\n",
    "for i in range(num_vertices):\n",
    "    for j in range(num_vertices):\n",
    "        for k in range(num_vertices):\n",
    "            if target_edges[i][j] and target_edges[j][k]:\n",
    "                faces.append(np.array([i,j,k]).reshape(1,-1))"
   ]
  },
  {
   "cell_type": "code",
   "execution_count": null,
   "id": "5d8e0ca0",
   "metadata": {},
   "outputs": [],
   "source": []
  },
  {
   "cell_type": "code",
   "execution_count": 16,
   "id": "bff03402",
   "metadata": {},
   "outputs": [],
   "source": [
    "faces = np.concatenate(faces,0)"
   ]
  },
  {
   "cell_type": "code",
   "execution_count": 17,
   "id": "c738f0f8",
   "metadata": {},
   "outputs": [
    {
     "data": {
      "application/vnd.jupyter.widget-view+json": {
       "model_id": "4a02908f625c43a29ad7313f2f150386",
       "version_major": 2,
       "version_minor": 0
      },
      "text/plain": [
       "Output()"
      ]
     },
     "metadata": {},
     "output_type": "display_data"
    }
   ],
   "source": [
    "visualize_pointcloud(target_vertices, point_size=0.01)"
   ]
  },
  {
   "cell_type": "code",
   "execution_count": null,
   "id": "a4105b7c",
   "metadata": {},
   "outputs": [],
   "source": []
  },
  {
   "cell_type": "code",
   "execution_count": null,
   "id": "03334c13",
   "metadata": {},
   "outputs": [],
   "source": []
  },
  {
   "cell_type": "code",
   "execution_count": 22,
   "id": "5f2e1184",
   "metadata": {},
   "outputs": [],
   "source": [
    "output_pointcloud = inferer.infer_single(input_sdf)"
   ]
  },
  {
   "cell_type": "code",
   "execution_count": 23,
   "id": "6c652215",
   "metadata": {},
   "outputs": [],
   "source": [
    "from scipy.optimize import linear_sum_assignment"
   ]
  },
  {
   "cell_type": "code",
   "execution_count": null,
   "id": "be734189",
   "metadata": {},
   "outputs": [],
   "source": []
  },
  {
   "cell_type": "code",
   "execution_count": 24,
   "id": "795bd0be",
   "metadata": {},
   "outputs": [
    {
     "data": {
      "application/vnd.jupyter.widget-view+json": {
       "model_id": "7dadb6b9984f49ffbe6467a7fa55406e",
       "version_major": 2,
       "version_minor": 0
      },
      "text/plain": [
       "Output()"
      ]
     },
     "metadata": {},
     "output_type": "display_data"
    }
   ],
   "source": [
    "visualize_pointcloud(output_pointcloud,point_size=0.01)"
   ]
  },
  {
   "cell_type": "code",
   "execution_count": 70,
   "id": "3fa3ff6b",
   "metadata": {},
   "outputs": [],
   "source": [
    "faces = []\n",
    "\n",
    "for i in range(num_vertices):\n",
    "    for j in range(num_vertices):\n",
    "        for k in range(num_vertices):\n",
    "            if target_edges[i][j] and target_edges[j][k]:\n",
    "                faces.append(np.array([i,j,k]).reshape(1,-1))"
   ]
  },
  {
   "cell_type": "code",
   "execution_count": 71,
   "id": "032884d8",
   "metadata": {},
   "outputs": [],
   "source": [
    "cost = distance_matrix(output_pointcloud, target_vertices)\n",
    "                        \n",
    "vertix_idx, target_idx = linear_sum_assignment(cost)"
   ]
  },
  {
   "cell_type": "code",
   "execution_count": 72,
   "id": "41f2cb07",
   "metadata": {},
   "outputs": [],
   "source": [
    "faces = np.concatenate(faces,0)"
   ]
  },
  {
   "cell_type": "code",
   "execution_count": 73,
   "id": "9cf6bf6d",
   "metadata": {},
   "outputs": [
    {
     "data": {
      "application/vnd.jupyter.widget-view+json": {
       "model_id": "6ce83eae87824db1adfef250347b528a",
       "version_major": 2,
       "version_minor": 0
      },
      "text/plain": [
       "Output()"
      ]
     },
     "metadata": {},
     "output_type": "display_data"
    }
   ],
   "source": [
    "visualize_mesh(output_pointcloud[vertix_idx],faces)"
   ]
  },
  {
   "cell_type": "code",
   "execution_count": null,
   "id": "e66d0cea",
   "metadata": {},
   "outputs": [],
   "source": []
  },
  {
   "cell_type": "code",
   "execution_count": null,
   "id": "729713a6",
   "metadata": {},
   "outputs": [],
   "source": []
  }
 ],
 "metadata": {
  "kernelspec": {
   "display_name": "Python [conda env:pytorch3d]",
   "language": "python",
   "name": "conda-env-pytorch3d-py"
  },
  "language_info": {
   "codemirror_mode": {
    "name": "ipython",
    "version": 3
   },
   "file_extension": ".py",
   "mimetype": "text/x-python",
   "name": "python",
   "nbconvert_exporter": "python",
   "pygments_lexer": "ipython3",
   "version": "3.9.7"
  }
 },
 "nbformat": 4,
 "nbformat_minor": 5
}
