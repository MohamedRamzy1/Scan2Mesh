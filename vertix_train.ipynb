{
 "cells": [
  {
   "cell_type": "code",
   "execution_count": 3,
   "id": "f0750b6f",
   "metadata": {},
   "outputs": [
    {
     "name": "stdout",
     "output_type": "stream",
     "text": [
      "The autoreload extension is already loaded. To reload it, use:\n",
      "  %reload_ext autoreload\n"
     ]
    }
   ],
   "source": [
    "import torch\n",
    "from data.shapenet import ShapeNet\n",
    "from model.vertix_model import VertixModel\n",
    "import tqdm\n",
    "from util.visualization import visualize_pointcloud, visualize_mesh\n",
    "import random\n",
    "%load_ext autoreload\n",
    "%autoreload 2\n",
    "import numpy as np"
   ]
  },
  {
   "cell_type": "code",
   "execution_count": 4,
   "id": "62ecccda",
   "metadata": {},
   "outputs": [],
   "source": [
    "num_vertices = 100"
   ]
  },
  {
   "cell_type": "code",
   "execution_count": 6,
   "id": "cbe67a4b",
   "metadata": {},
   "outputs": [],
   "source": [
    "config = {\n",
    "    'experiment_name': 'vertix_hungarian_train',\n",
    "    'device': 'cuda:0',  \n",
    "    'is_overfit': False,\n",
    "    'batch_size': 8,\n",
    "    'resume_ckpt': None,\n",
    "    'learning_rate': 1e-3,\n",
    "    'max_epochs': 5,\n",
    "    'print_every_n': 100,\n",
    "    'validate_every_n': 1000,\n",
    "    'sdf_path': 'data/shapenet_dim32_sdf',\n",
    "    'meshes_path': 'data/shapenet_reduced',\n",
    "    'class_mapping': 'data/shape_info.json',\n",
    "    'split': 'train',\n",
    "    'num_vertices': num_vertices,\n",
    "    'feature_size': 512,\n",
    "    'num_trajectories': 2\n",
    "}"
   ]
  },
  {
   "cell_type": "code",
   "execution_count": 7,
   "id": "33d4f501",
   "metadata": {},
   "outputs": [],
   "source": [
    "dataset = ShapeNet(sdf_path=config[\"sdf_path\"],\n",
    "                         meshes_path=config[\"meshes_path\"],\n",
    "                         class_mapping=config[\"class_mapping\"],\n",
    "                         split = \"overfit\", threshold=config[\"num_vertices\"], num_trajectories=config[\"num_trajectories\"])\n"
   ]
  },
  {
   "cell_type": "code",
   "execution_count": 8,
   "id": "d148f352",
   "metadata": {},
   "outputs": [
    {
     "name": "stdout",
     "output_type": "stream",
     "text": [
      "Length of dataset: 91\n",
      "Filtering data ..\n"
     ]
    },
    {
     "name": "stderr",
     "output_type": "stream",
     "text": [
      "100%|█████████████████████████████████████████| 91/91 [00:00<00:00, 3493.91it/s]"
     ]
    },
    {
     "name": "stdout",
     "output_type": "stream",
     "text": [
      "Length of dataset: 10\n"
     ]
    },
    {
     "name": "stderr",
     "output_type": "stream",
     "text": [
      "\n"
     ]
    }
   ],
   "source": [
    "dataset.filter_data()"
   ]
  },
  {
   "cell_type": "code",
   "execution_count": 9,
   "id": "0a969311",
   "metadata": {
    "scrolled": false
   },
   "outputs": [
    {
     "name": "stdout",
     "output_type": "stream",
     "text": [
      "Device: cuda:0\n",
      "Length of dataset: 153528\n",
      "Filtering data ..\n"
     ]
    },
    {
     "name": "stderr",
     "output_type": "stream",
     "text": [
      "100%|█████████████████████████████████| 153528/153528 [00:27<00:00, 5490.83it/s]\n"
     ]
    },
    {
     "name": "stdout",
     "output_type": "stream",
     "text": [
      "Length of dataset: 26196\n"
     ]
    },
    {
     "name": "stderr",
     "output_type": "stream",
     "text": [
      "100%|████████████████████████████████| 26196/26196 [00:00<00:00, 1156470.90it/s]\n"
     ]
    },
    {
     "name": "stdout",
     "output_type": "stream",
     "text": [
      "Class 03001627 has 4072 shapes\n",
      "Class 04530566 has 2424 shapes\n",
      "Class 04379243 has 6162 shapes\n",
      "Class 03636649 has 1518 shapes\n",
      "Class 02691156 has 2360 shapes\n",
      "Class 02958343 has 3372 shapes\n",
      "Class 04256520 has 4574 shapes\n",
      "Class 02933112 has 1714 shapes\n",
      "Length of dataset: 32304\n",
      "Filtering data ..\n"
     ]
    },
    {
     "name": "stderr",
     "output_type": "stream",
     "text": [
      "100%|███████████████████████████████████| 32304/32304 [00:19<00:00, 1616.97it/s]\n"
     ]
    },
    {
     "name": "stdout",
     "output_type": "stream",
     "text": [
      "Length of dataset: 5474\n"
     ]
    },
    {
     "name": "stderr",
     "output_type": "stream",
     "text": [
      "100%|██████████████████████████████████| 5474/5474 [00:00<00:00, 1001728.63it/s]\n"
     ]
    },
    {
     "name": "stdout",
     "output_type": "stream",
     "text": [
      "Class 02691156 has 456 shapes\n",
      "Class 04379243 has 1254 shapes\n",
      "Class 02958343 has 700 shapes\n",
      "Class 04256520 has 1016 shapes\n",
      "Class 03636649 has 394 shapes\n",
      "Class 02933112 has 360 shapes\n",
      "Class 04530566 has 500 shapes\n",
      "Class 03001627 has 794 shapes\n",
      "[000/00099] train_loss: 0.102143\n",
      "[000/00199] train_loss: 0.090373\n",
      "[000/00299] train_loss: 0.086802\n",
      "[000/00399] train_loss: 0.086395\n",
      "[000/00499] train_loss: 0.083871\n",
      "[000/00599] train_loss: 0.082954\n",
      "[000/00699] train_loss: 0.078138\n",
      "[000/00799] train_loss: 0.077803\n",
      "[000/00899] train_loss: 0.077688\n",
      "[000/00999] train_loss: 0.074215\n",
      "[000/00999] val_loss: 0.082684 | best_loss_val: 0.082684\n",
      "[000/01099] train_loss: 0.074380\n",
      "[000/01199] train_loss: 0.073560\n",
      "[000/01299] train_loss: 0.072092\n",
      "[000/01399] train_loss: 0.068959\n",
      "[000/01499] train_loss: 0.070014\n",
      "[000/01599] train_loss: 0.067455\n",
      "[000/01699] train_loss: 0.066268\n",
      "[000/01799] train_loss: 0.066157\n",
      "[000/01899] train_loss: 0.063957\n",
      "[000/01999] train_loss: 0.065086\n",
      "[000/01999] val_loss: 0.061445 | best_loss_val: 0.061445\n",
      "[000/02099] train_loss: 0.063450\n",
      "[000/02199] train_loss: 0.063157\n",
      "[000/02299] train_loss: 0.063683\n",
      "[000/02399] train_loss: 0.061956\n",
      "[000/02499] train_loss: 0.058853\n",
      "[000/02599] train_loss: 0.060677\n",
      "[000/02699] train_loss: 0.059761\n",
      "[000/02799] train_loss: 0.058880\n",
      "[000/02899] train_loss: 0.057835\n",
      "[000/02999] train_loss: 0.057752\n",
      "[000/02999] val_loss: 0.055736 | best_loss_val: 0.055736\n",
      "[000/03099] train_loss: 0.055689\n",
      "[000/03199] train_loss: 0.056819\n",
      "[001/00024] train_loss: 0.014410\n",
      "[001/00124] train_loss: 0.054598\n",
      "[001/00224] train_loss: 0.054423\n",
      "[001/00324] train_loss: 0.056724\n",
      "[001/00424] train_loss: 0.053685\n",
      "[001/00524] train_loss: 0.053999\n",
      "[001/00624] train_loss: 0.052525\n",
      "[001/00724] train_loss: 0.053959\n",
      "[001/00724] val_loss: 0.050622 | best_loss_val: 0.050622\n",
      "[001/00824] train_loss: 0.055429\n",
      "[001/00924] train_loss: 0.056854\n",
      "[001/01024] train_loss: 0.054333\n",
      "[001/01124] train_loss: 0.055473\n",
      "[001/01224] train_loss: 0.054771\n",
      "[001/01324] train_loss: 0.052490\n",
      "[001/01424] train_loss: 0.054134\n",
      "[001/01524] train_loss: 0.053189\n",
      "[001/01624] train_loss: 0.051517\n",
      "[001/01724] train_loss: 0.053928\n",
      "[001/01724] val_loss: 0.050251 | best_loss_val: 0.050251\n",
      "[001/01824] train_loss: 0.052170\n",
      "[001/01924] train_loss: 0.051936\n",
      "[001/02024] train_loss: 0.052562\n",
      "[001/02124] train_loss: 0.051411\n",
      "[001/02224] train_loss: 0.051620\n",
      "[001/02324] train_loss: 0.051268\n",
      "[001/02424] train_loss: 0.052936\n",
      "[001/02524] train_loss: 0.051779\n",
      "[001/02624] train_loss: 0.051352\n",
      "[001/02724] train_loss: 0.048704\n",
      "[001/02724] val_loss: 0.046941 | best_loss_val: 0.046941\n",
      "[001/02824] train_loss: 0.051131\n",
      "[001/02924] train_loss: 0.049755\n",
      "[001/03024] train_loss: 0.050093\n",
      "[001/03124] train_loss: 0.049262\n",
      "[001/03224] train_loss: 0.051018\n",
      "[002/00049] train_loss: 0.025237\n",
      "[002/00149] train_loss: 0.050557\n",
      "[002/00249] train_loss: 0.048420\n",
      "[002/00349] train_loss: 0.049292\n",
      "[002/00449] train_loss: 0.049910\n",
      "[002/00449] val_loss: 0.045890 | best_loss_val: 0.045890\n",
      "[002/00549] train_loss: 0.048678\n",
      "[002/00649] train_loss: 0.050015\n",
      "[002/00749] train_loss: 0.049192\n",
      "[002/00849] train_loss: 0.047364\n"
     ]
    },
    {
     "ename": "KeyboardInterrupt",
     "evalue": "",
     "output_type": "error",
     "traceback": [
      "\u001b[0;31m---------------------------------------------------------------------------\u001b[0m",
      "\u001b[0;31mKeyboardInterrupt\u001b[0m                         Traceback (most recent call last)",
      "Input \u001b[0;32mIn [9]\u001b[0m, in \u001b[0;36m<module>\u001b[0;34m\u001b[0m\n\u001b[1;32m      1\u001b[0m \u001b[38;5;28;01mfrom\u001b[39;00m \u001b[38;5;21;01mtraining\u001b[39;00m \u001b[38;5;28;01mimport\u001b[39;00m vertix_train\n\u001b[0;32m----> 3\u001b[0m \u001b[43mvertix_train\u001b[49m\u001b[38;5;241;43m.\u001b[39;49m\u001b[43mmain\u001b[49m\u001b[43m(\u001b[49m\u001b[43mconfig\u001b[49m\u001b[43m)\u001b[49m\n",
      "File \u001b[0;32m~/TUM/first_semester/ML43D_Geometry/Scan2Mesh/training/vertix_train.py:216\u001b[0m, in \u001b[0;36mmain\u001b[0;34m(config)\u001b[0m\n\u001b[1;32m    213\u001b[0m Path(\u001b[38;5;124mf\u001b[39m\u001b[38;5;124m'\u001b[39m\u001b[38;5;124mruns/\u001b[39m\u001b[38;5;132;01m{\u001b[39;00mconfig[\u001b[38;5;124m\"\u001b[39m\u001b[38;5;124mexperiment_name\u001b[39m\u001b[38;5;124m\"\u001b[39m]\u001b[38;5;132;01m}\u001b[39;00m\u001b[38;5;124m'\u001b[39m)\u001b[38;5;241m.\u001b[39mmkdir(exist_ok\u001b[38;5;241m=\u001b[39m\u001b[38;5;28;01mTrue\u001b[39;00m, parents\u001b[38;5;241m=\u001b[39m\u001b[38;5;28;01mTrue\u001b[39;00m)\n\u001b[1;32m    215\u001b[0m \u001b[38;5;66;03m# Start training\u001b[39;00m\n\u001b[0;32m--> 216\u001b[0m \u001b[43mtrain\u001b[49m\u001b[43m(\u001b[49m\u001b[43mmodel\u001b[49m\u001b[43m,\u001b[49m\u001b[43m \u001b[49m\u001b[43mtrain_dataloader\u001b[49m\u001b[43m,\u001b[49m\u001b[43m \u001b[49m\u001b[43mval_dataloader\u001b[49m\u001b[43m,\u001b[49m\u001b[43m \u001b[49m\u001b[43mdevice\u001b[49m\u001b[43m,\u001b[49m\u001b[43m \u001b[49m\u001b[43mconfig\u001b[49m\u001b[43m)\u001b[49m\n",
      "File \u001b[0;32m~/TUM/first_semester/ML43D_Geometry/Scan2Mesh/training/vertix_train.py:64\u001b[0m, in \u001b[0;36mtrain\u001b[0;34m(model, train_dataloader, val_dataloader, device, config)\u001b[0m\n\u001b[1;32m     62\u001b[0m     \u001b[38;5;28;01mfor\u001b[39;00m j \u001b[38;5;129;01min\u001b[39;00m \u001b[38;5;28mrange\u001b[39m(config[\u001b[38;5;124m\"\u001b[39m\u001b[38;5;124mnum_vertices\u001b[39m\u001b[38;5;124m\"\u001b[39m]):\n\u001b[1;32m     63\u001b[0m         distance \u001b[38;5;241m=\u001b[39m torch\u001b[38;5;241m.\u001b[39mnorm(target[b,i] \u001b[38;5;241m-\u001b[39m vertices[b,j])\n\u001b[0;32m---> 64\u001b[0m         cost[i][j] \u001b[38;5;241m=\u001b[39m distance\n\u001b[1;32m     66\u001b[0m target_idx, vertix_idx \u001b[38;5;241m=\u001b[39m linear_sum_assignment(cost)\n\u001b[1;32m     68\u001b[0m loss \u001b[38;5;241m=\u001b[39m vertix_loss(vertices[b,vertix_idx], target[b, target_idx])\n",
      "\u001b[0;31mKeyboardInterrupt\u001b[0m: "
     ]
    }
   ],
   "source": [
    "from training import vertix_train\n",
    "\n",
    "vertix_train.main(config)"
   ]
  },
  {
   "cell_type": "code",
   "execution_count": 7,
   "id": "fe04aceb",
   "metadata": {},
   "outputs": [],
   "source": [
    "from inference.inference_vertix import InferenceHandlerVertixModel\n",
    "\n",
    "# create a handler for inference using a trained checkpoint\n",
    "inferer = InferenceHandlerVertixModel('runs/vertix_hungarian_overfit/model_best.ckpt', config[\"num_vertices\"])"
   ]
  },
  {
   "cell_type": "code",
   "execution_count": 8,
   "id": "dcadb433",
   "metadata": {},
   "outputs": [],
   "source": [
    "x_indices = []\n",
    "y_indices = []\n",
    "\n",
    "graph = np.ones((1,config[\"num_vertices\"], config[\"num_vertices\"],1))\n",
    "\n",
    "for i in range(config[\"num_vertices\"]):\n",
    "    for j in range(config[\"num_vertices\"]):\n",
    "        x_indices.append(i)\n",
    "        y_indices.append(j)"
   ]
  },
  {
   "cell_type": "code",
   "execution_count": 9,
   "id": "60263481",
   "metadata": {},
   "outputs": [],
   "source": [
    "random_sample = random.randint(0,len(dataset))"
   ]
  },
  {
   "cell_type": "code",
   "execution_count": 10,
   "id": "3d9be6cd",
   "metadata": {},
   "outputs": [],
   "source": [
    "random_input = dataset[random_sample][\"input_sdf\"]\n",
    "gt_pointcloud = dataset[random_sample][\"target_vertices\"]\n",
    "gt_mask = dataset[random_sample][\"input_mask\"]\n",
    "gt_edges = dataset[random_sample][\"target_edges\"]\n",
    "#faces = dataset[random_sample][\"faces\"]"
   ]
  },
  {
   "cell_type": "code",
   "execution_count": 19,
   "id": "b09f2a46",
   "metadata": {},
   "outputs": [],
   "source": [
    "faces = []\n",
    "\n",
    "for i in range(num_vertices):\n",
    "    for j in range(num_vertices):\n",
    "        for k in range(num_vertices):\n",
    "            if gt_edges[i][j] and gt_edges[j][k]:\n",
    "                faces.append(np.array([i,j,k]).reshape(1,-1))"
   ]
  },
  {
   "cell_type": "code",
   "execution_count": null,
   "id": "5d8e0ca0",
   "metadata": {},
   "outputs": [],
   "source": []
  },
  {
   "cell_type": "code",
   "execution_count": 11,
   "id": "bff03402",
   "metadata": {},
   "outputs": [
    {
     "ename": "NameError",
     "evalue": "name 'faces' is not defined",
     "output_type": "error",
     "traceback": [
      "\u001b[0;31m---------------------------------------------------------------------------\u001b[0m",
      "\u001b[0;31mNameError\u001b[0m                                 Traceback (most recent call last)",
      "Input \u001b[0;32mIn [11]\u001b[0m, in \u001b[0;36m<module>\u001b[0;34m\u001b[0m\n\u001b[0;32m----> 1\u001b[0m faces \u001b[38;5;241m=\u001b[39m np\u001b[38;5;241m.\u001b[39mconcatenate(\u001b[43mfaces\u001b[49m,\u001b[38;5;241m0\u001b[39m)\n",
      "\u001b[0;31mNameError\u001b[0m: name 'faces' is not defined"
     ]
    }
   ],
   "source": [
    "faces = np.concatenate(faces,0)"
   ]
  },
  {
   "cell_type": "code",
   "execution_count": 12,
   "id": "c738f0f8",
   "metadata": {},
   "outputs": [
    {
     "data": {
      "application/vnd.jupyter.widget-view+json": {
       "model_id": "d478a4ff5540418992f5149a2c8b01f0",
       "version_major": 2,
       "version_minor": 0
      },
      "text/plain": [
       "Output()"
      ]
     },
     "metadata": {},
     "output_type": "display_data"
    }
   ],
   "source": [
    "visualize_pointcloud(gt_pointcloud, point_size=0.01)"
   ]
  },
  {
   "cell_type": "code",
   "execution_count": 13,
   "id": "a4105b7c",
   "metadata": {},
   "outputs": [
    {
     "data": {
      "text/plain": [
       "(150, 3)"
      ]
     },
     "execution_count": 13,
     "metadata": {},
     "output_type": "execute_result"
    }
   ],
   "source": [
    "gt_pointcloud.shape"
   ]
  },
  {
   "cell_type": "code",
   "execution_count": 14,
   "id": "03334c13",
   "metadata": {},
   "outputs": [
    {
     "ename": "NameError",
     "evalue": "name 'faces' is not defined",
     "output_type": "error",
     "traceback": [
      "\u001b[0;31m---------------------------------------------------------------------------\u001b[0m",
      "\u001b[0;31mNameError\u001b[0m                                 Traceback (most recent call last)",
      "Input \u001b[0;32mIn [14]\u001b[0m, in \u001b[0;36m<module>\u001b[0;34m\u001b[0m\n\u001b[0;32m----> 1\u001b[0m visualize_mesh(gt_pointcloud, \u001b[43mfaces\u001b[49m)\n",
      "\u001b[0;31mNameError\u001b[0m: name 'faces' is not defined"
     ]
    }
   ],
   "source": [
    "visualize_mesh(gt_pointcloud, faces)"
   ]
  },
  {
   "cell_type": "code",
   "execution_count": 15,
   "id": "5f2e1184",
   "metadata": {},
   "outputs": [],
   "source": [
    "output_pointcloud = inferer.infer_single(random_input)"
   ]
  },
  {
   "cell_type": "code",
   "execution_count": null,
   "id": "6c652215",
   "metadata": {},
   "outputs": [],
   "source": []
  },
  {
   "cell_type": "code",
   "execution_count": null,
   "id": "be734189",
   "metadata": {},
   "outputs": [],
   "source": []
  },
  {
   "cell_type": "code",
   "execution_count": 25,
   "id": "0e5f7ffc",
   "metadata": {},
   "outputs": [],
   "source": [
    "faces = []\n",
    "\n",
    "for i in range(num_vertices):\n",
    "    for j in range(num_vertices):\n",
    "        for k in range(num_vertices):\n",
    "            if gt_edges[i][j] and gt_edges[j][k]:\n",
    "                faces.append(np.array([i,j,k]).reshape(1,-1))\n",
    "faces = np.concatenate(faces,0)"
   ]
  },
  {
   "cell_type": "code",
   "execution_count": 16,
   "id": "795bd0be",
   "metadata": {},
   "outputs": [
    {
     "data": {
      "application/vnd.jupyter.widget-view+json": {
       "model_id": "c244dc487c254354ae021c56cd6f5f0d",
       "version_major": 2,
       "version_minor": 0
      },
      "text/plain": [
       "Output()"
      ]
     },
     "metadata": {},
     "output_type": "display_data"
    }
   ],
   "source": [
    "visualize_pointcloud(output_pointcloud,point_size=0.01)"
   ]
  },
  {
   "cell_type": "code",
   "execution_count": 27,
   "id": "1aa10618",
   "metadata": {},
   "outputs": [
    {
     "ename": "NameError",
     "evalue": "name 'linear_sum_assignment' is not defined",
     "output_type": "error",
     "traceback": [
      "\u001b[0;31m---------------------------------------------------------------------------\u001b[0m",
      "\u001b[0;31mNameError\u001b[0m                                 Traceback (most recent call last)",
      "Input \u001b[0;32mIn [27]\u001b[0m, in \u001b[0;36m<module>\u001b[0;34m\u001b[0m\n\u001b[1;32m      7\u001b[0m         distance \u001b[38;5;241m=\u001b[39m np\u001b[38;5;241m.\u001b[39mlinalg\u001b[38;5;241m.\u001b[39mnorm(gt_pointcloud[i] \u001b[38;5;241m-\u001b[39m output_pointcloud[j])\n\u001b[1;32m      8\u001b[0m         cost[i][j] \u001b[38;5;241m=\u001b[39m distance\n\u001b[0;32m---> 10\u001b[0m target_idx, vertix_idx \u001b[38;5;241m=\u001b[39m \u001b[43mlinear_sum_assignment\u001b[49m(cost)\n",
      "\u001b[0;31mNameError\u001b[0m: name 'linear_sum_assignment' is not defined"
     ]
    }
   ],
   "source": [
    "target_size = int(gt_mask.sum())\n",
    "\n",
    "cost = np.zeros((target_size, target_size))\n",
    "\n",
    "for i in range(target_size):\n",
    "    for j in range(target_size):\n",
    "        distance = np.linalg.norm(gt_pointcloud[i] - output_pointcloud[j])\n",
    "        cost[i][j] = distance\n",
    "\n",
    "target_idx, vertix_idx = linear_sum_assignment(cost)"
   ]
  },
  {
   "cell_type": "code",
   "execution_count": 53,
   "id": "2651e1a9",
   "metadata": {},
   "outputs": [
    {
     "ename": "AttributeError",
     "evalue": "'numpy.ndarray' object has no attribute 'detach'",
     "output_type": "error",
     "traceback": [
      "\u001b[0;31m---------------------------------------------------------------------------\u001b[0m",
      "\u001b[0;31mAttributeError\u001b[0m                            Traceback (most recent call last)",
      "Input \u001b[0;32mIn [53]\u001b[0m, in \u001b[0;36m<module>\u001b[0;34m\u001b[0m\n\u001b[0;32m----> 1\u001b[0m visualize_pointcloud(\u001b[43moutput_pointcloud\u001b[49m\u001b[43m[\u001b[49m\u001b[43m:\u001b[49m\u001b[38;5;28;43mint\u001b[39;49m\u001b[43m(\u001b[49m\u001b[43mgt_mask\u001b[49m\u001b[38;5;241;43m.\u001b[39;49m\u001b[43msum\u001b[49m\u001b[43m(\u001b[49m\u001b[43m)\u001b[49m\u001b[43m)\u001b[49m\u001b[43m]\u001b[49m\u001b[38;5;241;43m.\u001b[39;49m\u001b[43mdetach\u001b[49m()\u001b[38;5;241m.\u001b[39mnumpy()\u001b[38;5;241m.\u001b[39msqueeze(),point_size\u001b[38;5;241m=\u001b[39m\u001b[38;5;241m0.01\u001b[39m)\n",
      "\u001b[0;31mAttributeError\u001b[0m: 'numpy.ndarray' object has no attribute 'detach'"
     ]
    }
   ],
   "source": [
    "visualize_pointcloud(output_pointcloud[:int(gt_mask.sum())].detach().numpy().squeeze(),point_size=0.01)"
   ]
  },
  {
   "cell_type": "code",
   "execution_count": 19,
   "id": "ddbdd227",
   "metadata": {},
   "outputs": [
    {
     "ename": "NameError",
     "evalue": "name 'edges' is not defined",
     "output_type": "error",
     "traceback": [
      "\u001b[0;31m---------------------------------------------------------------------------\u001b[0m",
      "\u001b[0;31mNameError\u001b[0m                                 Traceback (most recent call last)",
      "Input \u001b[0;32mIn [19]\u001b[0m, in \u001b[0;36m<module>\u001b[0;34m\u001b[0m\n\u001b[0;32m----> 1\u001b[0m edges \u001b[38;5;241m=\u001b[39m \u001b[43medges\u001b[49m\u001b[38;5;241m.\u001b[39mdetach()\u001b[38;5;241m.\u001b[39mnumpy()\u001b[38;5;241m.\u001b[39msqueeze()\n",
      "\u001b[0;31mNameError\u001b[0m: name 'edges' is not defined"
     ]
    }
   ],
   "source": [
    "edges = edges.detach().numpy().squeeze()"
   ]
  },
  {
   "cell_type": "code",
   "execution_count": 20,
   "id": "3fa3ff6b",
   "metadata": {},
   "outputs": [
    {
     "ename": "NameError",
     "evalue": "name 'edges' is not defined",
     "output_type": "error",
     "traceback": [
      "\u001b[0;31m---------------------------------------------------------------------------\u001b[0m",
      "\u001b[0;31mNameError\u001b[0m                                 Traceback (most recent call last)",
      "Input \u001b[0;32mIn [20]\u001b[0m, in \u001b[0;36m<module>\u001b[0;34m\u001b[0m\n\u001b[1;32m      4\u001b[0m \u001b[38;5;28;01mfor\u001b[39;00m j \u001b[38;5;129;01min\u001b[39;00m \u001b[38;5;28mrange\u001b[39m(num_vertices):\n\u001b[1;32m      5\u001b[0m     \u001b[38;5;28;01mfor\u001b[39;00m k \u001b[38;5;129;01min\u001b[39;00m \u001b[38;5;28mrange\u001b[39m(num_vertices):\n\u001b[0;32m----> 6\u001b[0m         \u001b[38;5;28;01mif\u001b[39;00m \u001b[43medges\u001b[49m[i][j] \u001b[38;5;129;01mand\u001b[39;00m edges[j][k]:\n\u001b[1;32m      7\u001b[0m             faces\u001b[38;5;241m.\u001b[39mappend(np\u001b[38;5;241m.\u001b[39marray([i,j,k])\u001b[38;5;241m.\u001b[39mreshape(\u001b[38;5;241m1\u001b[39m,\u001b[38;5;241m-\u001b[39m\u001b[38;5;241m1\u001b[39m))\n",
      "\u001b[0;31mNameError\u001b[0m: name 'edges' is not defined"
     ]
    }
   ],
   "source": [
    "faces = []\n",
    "\n",
    "for i in range(num_vertices):\n",
    "    for j in range(num_vertices):\n",
    "        for k in range(num_vertices):\n",
    "            if edges[i][j] and edges[j][k]:\n",
    "                faces.append(np.array([i,j,k]).reshape(1,-1))"
   ]
  },
  {
   "cell_type": "code",
   "execution_count": 21,
   "id": "41f2cb07",
   "metadata": {},
   "outputs": [
    {
     "ename": "ValueError",
     "evalue": "need at least one array to concatenate",
     "output_type": "error",
     "traceback": [
      "\u001b[0;31m---------------------------------------------------------------------------\u001b[0m",
      "\u001b[0;31mValueError\u001b[0m                                Traceback (most recent call last)",
      "Input \u001b[0;32mIn [21]\u001b[0m, in \u001b[0;36m<module>\u001b[0;34m\u001b[0m\n\u001b[0;32m----> 1\u001b[0m faces \u001b[38;5;241m=\u001b[39m \u001b[43mnp\u001b[49m\u001b[38;5;241;43m.\u001b[39;49m\u001b[43mconcatenate\u001b[49m\u001b[43m(\u001b[49m\u001b[43mfaces\u001b[49m\u001b[43m,\u001b[49m\u001b[38;5;241;43m0\u001b[39;49m\u001b[43m)\u001b[49m\n",
      "File \u001b[0;32m<__array_function__ internals>:5\u001b[0m, in \u001b[0;36mconcatenate\u001b[0;34m(*args, **kwargs)\u001b[0m\n",
      "\u001b[0;31mValueError\u001b[0m: need at least one array to concatenate"
     ]
    }
   ],
   "source": [
    "faces = np.concatenate(faces,0)"
   ]
  },
  {
   "cell_type": "code",
   "execution_count": 28,
   "id": "9cf6bf6d",
   "metadata": {},
   "outputs": [
    {
     "data": {
      "application/vnd.jupyter.widget-view+json": {
       "model_id": "c0e44fb966914432bd0e2b42b1de4550",
       "version_major": 2,
       "version_minor": 0
      },
      "text/plain": [
       "Output()"
      ]
     },
     "metadata": {},
     "output_type": "display_data"
    }
   ],
   "source": [
    "visualize_mesh(output_pointcloud,faces)"
   ]
  },
  {
   "cell_type": "code",
   "execution_count": null,
   "id": "e66d0cea",
   "metadata": {},
   "outputs": [],
   "source": []
  },
  {
   "cell_type": "code",
   "execution_count": null,
   "id": "729713a6",
   "metadata": {},
   "outputs": [],
   "source": []
  }
 ],
 "metadata": {
  "kernelspec": {
   "display_name": "Python [conda env:pytorch3d]",
   "language": "python",
   "name": "conda-env-pytorch3d-py"
  },
  "language_info": {
   "codemirror_mode": {
    "name": "ipython",
    "version": 3
   },
   "file_extension": ".py",
   "mimetype": "text/x-python",
   "name": "python",
   "nbconvert_exporter": "python",
   "pygments_lexer": "ipython3",
   "version": "3.9.7"
  }
 },
 "nbformat": 4,
 "nbformat_minor": 5
}
