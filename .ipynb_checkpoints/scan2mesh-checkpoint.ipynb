{
 "cells": [
  {
   "cell_type": "code",
   "execution_count": 1,
   "id": "f0750b6f",
   "metadata": {},
   "outputs": [],
   "source": [
    "import torch\n",
    "from data.shapenet import ShapeNet\n",
    "from model.vertix_model import VertixModel\n",
    "import tqdm\n",
    "from util.visualization import visualize_pointcloud\n",
    "import random\n",
    "%load_ext autoreload\n",
    "%autoreload 2\n",
    "from chamferdist import ChamferDistance"
   ]
  },
  {
   "cell_type": "code",
   "execution_count": 5,
   "id": "909addf0",
   "metadata": {},
   "outputs": [
    {
     "name": "stdout",
     "output_type": "stream",
     "text": [
      "Looking in links: https://dl.fbaipublicfiles.com/pytorch3d/packaging/wheels/py38_cu102_pyt1100/download.html\n",
      "Requirement already satisfied: pytorch3d in /home/mohamed/anaconda3/lib/python3.7/site-packages (0.3.0)\n",
      "Requirement already satisfied: torchvision>=0.4 in /home/mohamed/anaconda3/lib/python3.7/site-packages (from pytorch3d) (0.11.2)\n",
      "Requirement already satisfied: fvcore in /home/mohamed/anaconda3/lib/python3.7/site-packages (from pytorch3d) (0.1.5.post20210915)\n",
      "Requirement already satisfied: torch==1.10.1 in /home/mohamed/anaconda3/lib/python3.7/site-packages (from torchvision>=0.4->pytorch3d) (1.10.1)\n",
      "Requirement already satisfied: numpy in /home/mohamed/anaconda3/lib/python3.7/site-packages (from torchvision>=0.4->pytorch3d) (1.21.2)\n",
      "Requirement already satisfied: pillow!=8.3.0,>=5.3.0 in /home/mohamed/anaconda3/lib/python3.7/site-packages (from torchvision>=0.4->pytorch3d) (8.4.0)\n",
      "Requirement already satisfied: typing-extensions in /home/mohamed/anaconda3/lib/python3.7/site-packages (from torch==1.10.1->torchvision>=0.4->pytorch3d) (3.10.0.2)\n",
      "Requirement already satisfied: yacs>=0.1.6 in /home/mohamed/anaconda3/lib/python3.7/site-packages (from fvcore->pytorch3d) (0.1.8)\n",
      "Requirement already satisfied: pyyaml>=5.1 in /home/mohamed/anaconda3/lib/python3.7/site-packages (from fvcore->pytorch3d) (6.0)\n",
      "Requirement already satisfied: tqdm in /home/mohamed/anaconda3/lib/python3.7/site-packages (from fvcore->pytorch3d) (4.62.3)\n",
      "Requirement already satisfied: termcolor>=1.1 in /home/mohamed/anaconda3/lib/python3.7/site-packages (from fvcore->pytorch3d) (1.1.0)\n",
      "Requirement already satisfied: tabulate in /home/mohamed/anaconda3/lib/python3.7/site-packages (from fvcore->pytorch3d) (0.8.9)\n",
      "Requirement already satisfied: iopath>=0.1.7 in /home/mohamed/anaconda3/lib/python3.7/site-packages (from fvcore->pytorch3d) (0.1.9)\n",
      "Requirement already satisfied: portalocker in /home/mohamed/anaconda3/lib/python3.7/site-packages (from iopath>=0.1.7->fvcore->pytorch3d) (2.3.0)\n",
      "\u001b[31mERROR: Could not install packages due to an OSError: [Errno 2] No such file or directory: '/home/mohamed/anaconda3/lib/python3.7/site-packages/numpy-1.21.2.dist-info/METADATA'\n",
      "\u001b[0m\n",
      "Note: you may need to restart the kernel to use updated packages.\n"
     ]
    }
   ],
   "source": [
    "pip install pytorch3d -f https://dl.fbaipublicfiles.com/pytorch3d/packaging/wheels/py38_cu102_pyt1100/download.html"
   ]
  },
  {
   "cell_type": "code",
   "execution_count": 4,
   "id": "62ecccda",
   "metadata": {},
   "outputs": [],
   "source": [
    "num_vertices = 150"
   ]
  },
  {
   "cell_type": "code",
   "execution_count": 5,
   "id": "cbe67a4b",
   "metadata": {},
   "outputs": [],
   "source": [
    "config = {\n",
    "    'experiment_name': 'vertix_training',\n",
    "    'device': 'cuda:0',  \n",
    "    'is_overfit': False,\n",
    "    'batch_size': 8,\n",
    "    'resume_ckpt': None,\n",
    "    'learning_rate': 0.0005,\n",
    "    'max_epochs': 1000,\n",
    "    'print_every_n': 100,\n",
    "    'validate_every_n': 14000,\n",
    "    'sdf_path': 'data/shapenet_dim32_sdf',\n",
    "    'meshes_path': 'data/shapenet_reduced',\n",
    "    'class_mapping': 'data/shape_info.json',\n",
    "    'split': 'train',\n",
    "    'num_vertices': num_vertices,\n",
    "    'feature_size': 512,\n",
    "    'num_trajectories': 2\n",
    "}"
   ]
  },
  {
   "cell_type": "code",
   "execution_count": 4,
   "id": "33d4f501",
   "metadata": {},
   "outputs": [],
   "source": [
    "train_dataset = ShapeNet(sdf_path=config[\"sdf_path\"],\n",
    "                         meshes_path=config[\"meshes_path\"],\n",
    "                         class_mapping=config[\"class_mapping\"],\n",
    "                         split = \"overfit\", threshold=config[\"num_vertices\"])\n"
   ]
  },
  {
   "cell_type": "code",
   "execution_count": 5,
   "id": "d148f352",
   "metadata": {},
   "outputs": [
    {
     "name": "stdout",
     "output_type": "stream",
     "text": [
      "Length of dataset: 20\n",
      "Filtering data ..\n"
     ]
    },
    {
     "name": "stderr",
     "output_type": "stream",
     "text": [
      "100%|█████████████████████████████████████████| 20/20 [00:00<00:00, 1335.23it/s]"
     ]
    },
    {
     "name": "stdout",
     "output_type": "stream",
     "text": [
      "Length of dataset: 16\n"
     ]
    },
    {
     "name": "stderr",
     "output_type": "stream",
     "text": [
      "\n"
     ]
    }
   ],
   "source": [
    "overfit_dataset.filter_data()"
   ]
  },
  {
   "cell_type": "code",
   "execution_count": null,
   "id": "0a969311",
   "metadata": {
    "scrolled": true
   },
   "outputs": [
    {
     "name": "stdout",
     "output_type": "stream",
     "text": [
      "Device: cuda:0\n",
      "Length of dataset: 153528\n",
      "Filtering data ..\n"
     ]
    },
    {
     "name": "stderr",
     "output_type": "stream",
     "text": [
      "100%|█████████████████████████████████| 153528/153528 [01:28<00:00, 1731.98it/s]\n"
     ]
    },
    {
     "name": "stdout",
     "output_type": "stream",
     "text": [
      "Length of dataset: 107520\n"
     ]
    },
    {
     "name": "stderr",
     "output_type": "stream",
     "text": [
      "100%|██████████████████████████████| 107520/107520 [00:00<00:00, 1075065.18it/s]\n"
     ]
    },
    {
     "name": "stdout",
     "output_type": "stream",
     "text": [
      "Class 03001627 has 19536 shapes\n",
      "Class 04256520 has 14532 shapes\n",
      "Class 04379243 has 25332 shapes\n",
      "Class 04530566 has 8040 shapes\n",
      "Class 02691156 has 17628 shapes\n",
      "Class 03636649 has 6168 shapes\n",
      "Class 02933112 has 5604 shapes\n",
      "Class 02958343 has 10680 shapes\n",
      "Length of dataset: 32304\n",
      "Filtering data ..\n"
     ]
    },
    {
     "name": "stderr",
     "output_type": "stream",
     "text": [
      "100%|███████████████████████████████████| 32304/32304 [00:18<00:00, 1703.86it/s]\n"
     ]
    },
    {
     "name": "stdout",
     "output_type": "stream",
     "text": [
      "Length of dataset: 22644\n"
     ]
    },
    {
     "name": "stderr",
     "output_type": "stream",
     "text": [
      "100%|████████████████████████████████| 22644/22644 [00:00<00:00, 1042098.55it/s]\n"
     ]
    },
    {
     "name": "stdout",
     "output_type": "stream",
     "text": [
      "Class 02691156 has 3966 shapes\n",
      "Class 04530566 has 1668 shapes\n",
      "Class 04379243 has 5088 shapes\n",
      "Class 03001627 has 3888 shapes\n",
      "Class 04256520 has 3180 shapes\n",
      "Class 03636649 has 1512 shapes\n",
      "Class 02958343 has 2178 shapes\n",
      "Class 02933112 has 1164 shapes\n",
      "[000/00099] train_loss: 4.016510, train_vertices_loss: 3.904749, train_edges_loss: 0.111761\n",
      "[000/00199] train_loss: 0.711421, train_vertices_loss: 0.620668, train_edges_loss: 0.090753\n",
      "[000/00299] train_loss: 0.440895, train_vertices_loss: 0.350690, train_edges_loss: 0.090205\n",
      "[000/00399] train_loss: 0.336945, train_vertices_loss: 0.246883, train_edges_loss: 0.090062\n",
      "[000/00499] train_loss: 0.288050, train_vertices_loss: 0.196516, train_edges_loss: 0.091534\n",
      "[000/00599] train_loss: 0.280709, train_vertices_loss: 0.189969, train_edges_loss: 0.090741\n",
      "[000/00699] train_loss: 0.280850, train_vertices_loss: 0.190182, train_edges_loss: 0.090668\n",
      "[000/00799] train_loss: 0.313246, train_vertices_loss: 0.222445, train_edges_loss: 0.090801\n",
      "[000/00899] train_loss: 0.313833, train_vertices_loss: 0.223541, train_edges_loss: 0.090292\n",
      "[000/00999] train_loss: 0.363977, train_vertices_loss: 0.272616, train_edges_loss: 0.091361\n",
      "[000/01099] train_loss: 0.357191, train_vertices_loss: 0.266838, train_edges_loss: 0.090352\n",
      "[000/01199] train_loss: 0.339740, train_vertices_loss: 0.248635, train_edges_loss: 0.091105\n",
      "[000/01299] train_loss: 0.367838, train_vertices_loss: 0.277575, train_edges_loss: 0.090263\n",
      "[000/01399] train_loss: 0.414398, train_vertices_loss: 0.323212, train_edges_loss: 0.091186\n",
      "[000/01499] train_loss: 0.315924, train_vertices_loss: 0.226408, train_edges_loss: 0.089516\n",
      "[000/01599] train_loss: 0.395055, train_vertices_loss: 0.303644, train_edges_loss: 0.091411\n",
      "[000/01699] train_loss: 0.374641, train_vertices_loss: 0.283207, train_edges_loss: 0.091435\n",
      "[000/01799] train_loss: 0.409141, train_vertices_loss: 0.317280, train_edges_loss: 0.091862\n",
      "[000/01899] train_loss: 0.436955, train_vertices_loss: 0.346348, train_edges_loss: 0.090607\n",
      "[000/01999] train_loss: 0.375239, train_vertices_loss: 0.284643, train_edges_loss: 0.090597\n",
      "[000/02099] train_loss: 0.243425, train_vertices_loss: 0.154506, train_edges_loss: 0.088919\n",
      "[000/02199] train_loss: 0.401321, train_vertices_loss: 0.309123, train_edges_loss: 0.092198\n",
      "[000/02299] train_loss: 0.456245, train_vertices_loss: 0.365829, train_edges_loss: 0.090416\n",
      "[000/02399] train_loss: 0.333979, train_vertices_loss: 0.243496, train_edges_loss: 0.090484\n",
      "[000/02499] train_loss: 0.435596, train_vertices_loss: 0.343811, train_edges_loss: 0.091785\n",
      "[000/02599] train_loss: 0.409857, train_vertices_loss: 0.319783, train_edges_loss: 0.090073\n",
      "[000/02699] train_loss: 0.363040, train_vertices_loss: 0.273896, train_edges_loss: 0.089144\n",
      "[000/02799] train_loss: 0.423783, train_vertices_loss: 0.334095, train_edges_loss: 0.089688\n",
      "[000/02899] train_loss: 0.363113, train_vertices_loss: 0.273074, train_edges_loss: 0.090039\n",
      "[000/02999] train_loss: 0.397928, train_vertices_loss: 0.308537, train_edges_loss: 0.089391\n",
      "[000/03099] train_loss: 0.477348, train_vertices_loss: 0.387956, train_edges_loss: 0.089392\n",
      "[000/03199] train_loss: 0.375240, train_vertices_loss: 0.283221, train_edges_loss: 0.092020\n",
      "[000/03299] train_loss: 0.435575, train_vertices_loss: 0.344646, train_edges_loss: 0.090929\n",
      "[000/03399] train_loss: 0.332180, train_vertices_loss: 0.241165, train_edges_loss: 0.091016\n",
      "[000/03499] train_loss: 0.292037, train_vertices_loss: 0.202073, train_edges_loss: 0.089964\n",
      "[000/03599] train_loss: 0.391276, train_vertices_loss: 0.300694, train_edges_loss: 0.090582\n",
      "[000/03699] train_loss: 0.370456, train_vertices_loss: 0.279389, train_edges_loss: 0.091067\n",
      "[000/03799] train_loss: 0.312490, train_vertices_loss: 0.223015, train_edges_loss: 0.089475\n",
      "[000/03899] train_loss: 0.397950, train_vertices_loss: 0.308495, train_edges_loss: 0.089454\n",
      "[000/03999] train_loss: 0.359632, train_vertices_loss: 0.270064, train_edges_loss: 0.089569\n",
      "[000/04099] train_loss: 0.321620, train_vertices_loss: 0.231218, train_edges_loss: 0.090402\n",
      "[000/04199] train_loss: 0.344986, train_vertices_loss: 0.255322, train_edges_loss: 0.089665\n",
      "[000/04299] train_loss: 0.267514, train_vertices_loss: 0.177054, train_edges_loss: 0.090461\n",
      "[000/04399] train_loss: 0.267174, train_vertices_loss: 0.179413, train_edges_loss: 0.087761\n",
      "[000/04499] train_loss: 0.295268, train_vertices_loss: 0.206595, train_edges_loss: 0.088673\n",
      "[000/04599] train_loss: 0.276684, train_vertices_loss: 0.188011, train_edges_loss: 0.088674\n",
      "[000/04699] train_loss: 0.300969, train_vertices_loss: 0.209760, train_edges_loss: 0.091209\n",
      "[000/04799] train_loss: 0.240178, train_vertices_loss: 0.151234, train_edges_loss: 0.088944\n",
      "[000/04899] train_loss: 0.233212, train_vertices_loss: 0.143038, train_edges_loss: 0.090174\n"
     ]
    }
   ],
   "source": [
    "from training import vertix_edge_train\n",
    "\n",
    "vertix_edge_train.main(config)"
   ]
  },
  {
   "cell_type": "code",
   "execution_count": null,
   "id": "fe04aceb",
   "metadata": {},
   "outputs": [],
   "source": [
    "from inference.inference_vertix import InferenceHandlerVertixModel\n",
    "\n",
    "# create a handler for inference using a trained checkpoint\n",
    "inferer = InferenceHandlerVertixModel('runs/vertix_training/model_best.ckpt', num_vertices)"
   ]
  },
  {
   "cell_type": "code",
   "execution_count": 111,
   "id": "60263481",
   "metadata": {},
   "outputs": [],
   "source": [
    "random_sample = random.randint(0,len(train_dataset))"
   ]
  },
  {
   "cell_type": "code",
   "execution_count": 112,
   "id": "3d9be6cd",
   "metadata": {},
   "outputs": [],
   "source": [
    "random_input = train_dataset[random_sample][\"input_sdf\"]\n",
    "gt_pointcloud = train_dataset[random_sample][\"target_vertices\"]\n",
    "num_points = int(train_dataset[random_sample][\"input_mask\"].sum())"
   ]
  },
  {
   "cell_type": "code",
   "execution_count": 113,
   "id": "c738f0f8",
   "metadata": {},
   "outputs": [
    {
     "data": {
      "text/plain": [
       "20"
      ]
     },
     "execution_count": 113,
     "metadata": {},
     "output_type": "execute_result"
    }
   ],
   "source": [
    "num_points"
   ]
  },
  {
   "cell_type": "code",
   "execution_count": 115,
   "id": "03334c13",
   "metadata": {},
   "outputs": [
    {
     "data": {
      "application/vnd.jupyter.widget-view+json": {
       "model_id": "0d6faa2b916d4db7b85e55bf90239128",
       "version_major": 2,
       "version_minor": 0
      },
      "text/plain": [
       "Output()"
      ]
     },
     "metadata": {},
     "output_type": "display_data"
    }
   ],
   "source": [
    "visualize_pointcloud(gt_pointcloud, point_size=0.01)"
   ]
  },
  {
   "cell_type": "code",
   "execution_count": null,
   "id": "a47a0ce8",
   "metadata": {},
   "outputs": [],
   "source": []
  },
  {
   "cell_type": "code",
   "execution_count": 118,
   "id": "5f2e1184",
   "metadata": {},
   "outputs": [],
   "source": [
    "output_pointcloud = inferer.infer_single(random_input)"
   ]
  },
  {
   "cell_type": "code",
   "execution_count": 120,
   "id": "795bd0be",
   "metadata": {},
   "outputs": [
    {
     "data": {
      "application/vnd.jupyter.widget-view+json": {
       "model_id": "7f9ade924c8c43519b009f0920974005",
       "version_major": 2,
       "version_minor": 0
      },
      "text/plain": [
       "Output()"
      ]
     },
     "metadata": {},
     "output_type": "display_data"
    }
   ],
   "source": [
    "visualize_pointcloud(output_pointcloud, point_size=0.01)"
   ]
  },
  {
   "cell_type": "code",
   "execution_count": null,
   "id": "2651e1a9",
   "metadata": {},
   "outputs": [],
   "source": []
  }
 ],
 "metadata": {
  "kernelspec": {
   "display_name": "Python 3 (ipykernel)",
   "language": "python",
   "name": "python3"
  },
  "language_info": {
   "codemirror_mode": {
    "name": "ipython",
    "version": 3
   },
   "file_extension": ".py",
   "mimetype": "text/x-python",
   "name": "python",
   "nbconvert_exporter": "python",
   "pygments_lexer": "ipython3",
   "version": "3.7.11"
  }
 },
 "nbformat": 4,
 "nbformat_minor": 5
}
