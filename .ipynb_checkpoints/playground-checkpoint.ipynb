{
 "cells": [
  {
   "cell_type": "code",
   "execution_count": 96,
   "id": "514a4c70",
   "metadata": {},
   "outputs": [
    {
     "name": "stdout",
     "output_type": "stream",
     "text": [
      "The autoreload extension is already loaded. To reload it, use:\n",
      "  %reload_ext autoreload\n"
     ]
    }
   ],
   "source": [
    "import torch\n",
    "from model.edge_model import EdgeModel\n",
    "from model.message_passing import *\n",
    "import numpy as np\n",
    "%load_ext autoreload\n",
    "%autoreload 2"
   ]
  },
  {
   "cell_type": "code",
   "execution_count": 97,
   "id": "ae20b38e",
   "metadata": {},
   "outputs": [],
   "source": [
    "num_vertices = 250\n",
    "x_indices = []\n",
    "y_indices = []\n",
    "\n",
    "for i in range(num_vertices):\n",
    "    for j in range(num_vertices):\n",
    "        x_indices.append(i)\n",
    "        y_indices.append(j)"
   ]
  },
  {
   "cell_type": "code",
   "execution_count": 98,
   "id": "481d5e75",
   "metadata": {},
   "outputs": [],
   "source": [
    "x_indices = torch.from_numpy(np.array(x_indices))"
   ]
  },
  {
   "cell_type": "code",
   "execution_count": 99,
   "id": "da7e4133",
   "metadata": {},
   "outputs": [],
   "source": [
    "adj = torch.ones((8,num_vertices,num_vertices,1))"
   ]
  },
  {
   "cell_type": "code",
   "execution_count": 100,
   "id": "7cd67c2f",
   "metadata": {},
   "outputs": [],
   "source": [
    "node_to_edge = NodeToEdge(x_indices, y_indices)\n",
    "edge_to_node = EdgeToNode(adj)"
   ]
  },
  {
   "cell_type": "code",
   "execution_count": 101,
   "id": "eaf9364d",
   "metadata": {},
   "outputs": [],
   "source": [
    "hv = torch.randn((8,num_vertices,512))"
   ]
  },
  {
   "cell_type": "code",
   "execution_count": 102,
   "id": "7adce4aa",
   "metadata": {},
   "outputs": [],
   "source": [
    "he = torch.randn((8,num_vertices,num_vertices,512))"
   ]
  },
  {
   "cell_type": "code",
   "execution_count": 103,
   "id": "d1901d7f",
   "metadata": {},
   "outputs": [],
   "source": [
    "edge_model = EdgeModel(512,x_indices,y_indices,adj)"
   ]
  },
  {
   "cell_type": "code",
   "execution_count": 141,
   "id": "36c94b4f",
   "metadata": {},
   "outputs": [],
   "source": [
    "f2 = torch.randn(8,32,7,7,7)"
   ]
  },
  {
   "cell_type": "code",
   "execution_count": null,
   "id": "116c1c66",
   "metadata": {},
   "outputs": [],
   "source": []
  },
  {
   "cell_type": "code",
   "execution_count": 129,
   "id": "51e01144",
   "metadata": {},
   "outputs": [
    {
     "data": {
      "text/plain": [
       "tensor(0.0316)"
      ]
     },
     "execution_count": 129,
     "metadata": {},
     "output_type": "execute_result"
    }
   ],
   "source": [
    "vertices.min()"
   ]
  },
  {
   "cell_type": "code",
   "execution_count": 150,
   "id": "f33ec377",
   "metadata": {},
   "outputs": [
    {
     "name": "stdout",
     "output_type": "stream",
     "text": [
      "tensor(1.9979)\n"
     ]
    },
    {
     "ename": "IndexError",
     "evalue": "index 10 is out of bounds for dimension 0 with size 7",
     "output_type": "error",
     "traceback": [
      "\u001b[0;31m---------------------------------------------------------------------------\u001b[0m",
      "\u001b[0;31mIndexError\u001b[0m                                Traceback (most recent call last)",
      "\u001b[0;32m<ipython-input-150-0307e7e55dd0>\u001b[0m in \u001b[0;36m<module>\u001b[0;34m\u001b[0m\n\u001b[1;32m     18\u001b[0m     \u001b[0mcurr_z\u001b[0m \u001b[0;34m=\u001b[0m \u001b[0mzs\u001b[0m\u001b[0;34m[\u001b[0m\u001b[0mb\u001b[0m\u001b[0;34m,\u001b[0m\u001b[0;34m:\u001b[0m\u001b[0;34m]\u001b[0m\u001b[0;34m\u001b[0m\u001b[0;34m\u001b[0m\u001b[0m\n\u001b[1;32m     19\u001b[0m \u001b[0;34m\u001b[0m\u001b[0m\n\u001b[0;32m---> 20\u001b[0;31m     \u001b[0mcurr_extracted\u001b[0m \u001b[0;34m=\u001b[0m \u001b[0mf2\u001b[0m\u001b[0;34m[\u001b[0m\u001b[0mb\u001b[0m\u001b[0;34m,\u001b[0m\u001b[0;34m:\u001b[0m\u001b[0;34m,\u001b[0m\u001b[0mcurr_x\u001b[0m\u001b[0;34m,\u001b[0m\u001b[0mcurr_y\u001b[0m\u001b[0;34m,\u001b[0m\u001b[0mcurr_z\u001b[0m\u001b[0;34m]\u001b[0m\u001b[0;34m.\u001b[0m\u001b[0munsqueeze\u001b[0m\u001b[0;34m(\u001b[0m\u001b[0;36m0\u001b[0m\u001b[0;34m)\u001b[0m\u001b[0;34m\u001b[0m\u001b[0;34m\u001b[0m\u001b[0m\n\u001b[0m\u001b[1;32m     21\u001b[0m \u001b[0;34m\u001b[0m\u001b[0m\n\u001b[1;32m     22\u001b[0m     \u001b[0mf2_extracted\u001b[0m\u001b[0;34m.\u001b[0m\u001b[0mappend\u001b[0m\u001b[0;34m(\u001b[0m\u001b[0mcurr_extracted\u001b[0m\u001b[0;34m)\u001b[0m\u001b[0;34m\u001b[0m\u001b[0;34m\u001b[0m\u001b[0m\n",
      "\u001b[0;31mIndexError\u001b[0m: index 10 is out of bounds for dimension 0 with size 7"
     ]
    }
   ],
   "source": [
    "vertices = torch.nn.functional.sigmoid(torch.randn(8,num_vertices,3))\n",
    "\n",
    "batch_size, num_vertices, _ = vertices.shape \n",
    "\n",
    "v_norm = vertices + vertices.min()\n",
    "\n",
    "v_norm = v_norm / v_norm.max()\n",
    "\n",
    "v_norm = v_norm * 6\n",
    "\n",
    "xs = indices[:,:,0].long()\n",
    "ys = indices[:,:,1].long()\n",
    "zs = indices[:,:,2].long()\n",
    "\n",
    "f2_extracted = []\n",
    "\n",
    "for b in range(batch_size):\n",
    "    curr_x = xs[b,:]\n",
    "    curr_y = ys[b,:]\n",
    "    curr_z = zs[b,:]\n",
    "    \n",
    "    curr_extracted = f2[b,:,curr_x,curr_y,curr_z].unsqueeze(0)\n",
    "    \n",
    "    f2_extracted.append(curr_extracted)\n",
    "    \n",
    "f2_extracted = torch.cat(f2_extracted, axis=0)"
   ]
  },
  {
   "cell_type": "code",
   "execution_count": 146,
   "id": "23c93664",
   "metadata": {},
   "outputs": [
    {
     "data": {
      "text/plain": [
       "torch.Size([8, 32, 250])"
      ]
     },
     "execution_count": 146,
     "metadata": {},
     "output_type": "execute_result"
    }
   ],
   "source": [
    "f2_extracted.shape"
   ]
  },
  {
   "cell_type": "code",
   "execution_count": 143,
   "id": "f0009e88",
   "metadata": {},
   "outputs": [
    {
     "data": {
      "text/plain": [
       "torch.Size([8, 32, 8, 250])"
      ]
     },
     "execution_count": 143,
     "metadata": {},
     "output_type": "execute_result"
    }
   ],
   "source": [
    "f2_extracted.shape"
   ]
  },
  {
   "cell_type": "code",
   "execution_count": 136,
   "id": "211d0382",
   "metadata": {},
   "outputs": [
    {
     "data": {
      "text/plain": [
       "torch.Size([1, 32, 7, 7, 7])"
      ]
     },
     "execution_count": 136,
     "metadata": {},
     "output_type": "execute_result"
    }
   ],
   "source": [
    "f2.shape"
   ]
  },
  {
   "cell_type": "code",
   "execution_count": 137,
   "id": "1a43982f",
   "metadata": {},
   "outputs": [
    {
     "data": {
      "text/plain": [
       "torch.Size([250])"
      ]
     },
     "execution_count": 137,
     "metadata": {},
     "output_type": "execute_result"
    }
   ],
   "source": [
    "xs.shape"
   ]
  },
  {
   "cell_type": "code",
   "execution_count": 138,
   "id": "3a8acd33",
   "metadata": {},
   "outputs": [
    {
     "ename": "IndexError",
     "evalue": "too many indices for tensor of dimension 3",
     "output_type": "error",
     "traceback": [
      "\u001b[0;31m---------------------------------------------------------------------------\u001b[0m",
      "\u001b[0;31mIndexError\u001b[0m                                Traceback (most recent call last)",
      "\u001b[0;32m<ipython-input-138-808318a2d1cf>\u001b[0m in \u001b[0;36m<module>\u001b[0;34m\u001b[0m\n\u001b[0;32m----> 1\u001b[0;31m \u001b[0mf2_extracted\u001b[0m\u001b[0;34m[\u001b[0m\u001b[0;34m:\u001b[0m\u001b[0;34m,\u001b[0m\u001b[0;34m:\u001b[0m\u001b[0;34m,\u001b[0m\u001b[0mxs\u001b[0m\u001b[0;34m,\u001b[0m\u001b[0mys\u001b[0m\u001b[0;34m,\u001b[0m\u001b[0mzs\u001b[0m\u001b[0;34m]\u001b[0m\u001b[0;34m\u001b[0m\u001b[0;34m\u001b[0m\u001b[0m\n\u001b[0m",
      "\u001b[0;31mIndexError\u001b[0m: too many indices for tensor of dimension 3"
     ]
    }
   ],
   "source": [
    "f2_extracted[:,:,xs,ys,zs]"
   ]
  },
  {
   "cell_type": "code",
   "execution_count": null,
   "id": "3e590da9",
   "metadata": {},
   "outputs": [],
   "source": []
  }
 ],
 "metadata": {
  "kernelspec": {
   "display_name": "Python 3",
   "language": "python",
   "name": "python3"
  },
  "language_info": {
   "codemirror_mode": {
    "name": "ipython",
    "version": 3
   },
   "file_extension": ".py",
   "mimetype": "text/x-python",
   "name": "python",
   "nbconvert_exporter": "python",
   "pygments_lexer": "ipython3",
   "version": "3.7.11"
  }
 },
 "nbformat": 4,
 "nbformat_minor": 5
}
