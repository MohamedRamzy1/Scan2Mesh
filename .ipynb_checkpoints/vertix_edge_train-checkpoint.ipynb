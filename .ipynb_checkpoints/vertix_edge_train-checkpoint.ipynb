{
 "cells": [
  {
   "cell_type": "code",
   "execution_count": 1,
   "id": "f0750b6f",
   "metadata": {},
   "outputs": [],
   "source": [
    "import torch\n",
    "from data.shapenet import ShapeNet\n",
    "from model.vertix_model import VertixModel\n",
    "import tqdm\n",
    "from util.visualization import visualize_pointcloud, visualize_mesh\n",
    "import random\n",
    "%load_ext autoreload\n",
    "%autoreload 2\n",
    "import numpy as np"
   ]
  },
  {
   "cell_type": "code",
   "execution_count": 2,
   "id": "62ecccda",
   "metadata": {},
   "outputs": [],
   "source": [
    "num_vertices = 150"
   ]
  },
  {
   "cell_type": "code",
   "execution_count": 3,
   "id": "cbe67a4b",
   "metadata": {},
   "outputs": [],
   "source": [
    "config = {\n",
    "    'experiment_name': 'vertix_edge_training_l1_greedy',\n",
    "    'device': 'cuda:0',  \n",
    "    'is_overfit': False,\n",
    "    'batch_size': 8,\n",
    "    'resume_ckpt': None,\n",
    "    'learning_rate': 1e-3,\n",
    "    'max_epochs': 5000,\n",
    "    'print_every_n': 1,\n",
    "    'validate_every_n': 50,\n",
    "    'sdf_path': 'data/shapenet_dim32_sdf',\n",
    "    'meshes_path': 'data/shapenet_reduced',\n",
    "    'class_mapping': 'data/shape_info.json',\n",
    "    'split': 'overfit',\n",
    "    'num_vertices': num_vertices,\n",
    "    'feature_size': 512,\n",
    "    'num_trajectories': 2\n",
    "}"
   ]
  },
  {
   "cell_type": "code",
   "execution_count": 4,
   "id": "33d4f501",
   "metadata": {},
   "outputs": [],
   "source": [
    "dataset = ShapeNet(sdf_path=config[\"sdf_path\"],\n",
    "                         meshes_path=config[\"meshes_path\"],\n",
    "                         class_mapping=config[\"class_mapping\"],\n",
    "                         split = \"overfit\", threshold=config[\"num_vertices\"], num_trajectories=config[\"num_trajectories\"])\n"
   ]
  },
  {
   "cell_type": "code",
   "execution_count": 5,
   "id": "d148f352",
   "metadata": {},
   "outputs": [
    {
     "name": "stdout",
     "output_type": "stream",
     "text": [
      "Length of dataset: 91\n",
      "Filtering data ..\n"
     ]
    },
    {
     "name": "stderr",
     "output_type": "stream",
     "text": [
      "100%|█████████████████████████████████████████| 91/91 [00:00<00:00, 3573.13it/s]"
     ]
    },
    {
     "name": "stdout",
     "output_type": "stream",
     "text": [
      "Length of dataset: 19\n"
     ]
    },
    {
     "name": "stderr",
     "output_type": "stream",
     "text": [
      "\n"
     ]
    }
   ],
   "source": [
    "dataset.filter_data()"
   ]
  },
  {
   "cell_type": "code",
   "execution_count": 6,
   "id": "0a969311",
   "metadata": {
    "scrolled": false
   },
   "outputs": [
    {
     "name": "stdout",
     "output_type": "stream",
     "text": [
      "Device: cuda:0\n",
      "Length of dataset: 91\n",
      "Filtering data ..\n"
     ]
    },
    {
     "name": "stderr",
     "output_type": "stream",
     "text": [
      "100%|█████████████████████████████████████████| 91/91 [00:00<00:00, 5260.22it/s]\n"
     ]
    },
    {
     "name": "stdout",
     "output_type": "stream",
     "text": [
      "Length of dataset: 19\n"
     ]
    },
    {
     "name": "stderr",
     "output_type": "stream",
     "text": [
      "100%|███████████████████████████████████████| 19/19 [00:00<00:00, 326605.64it/s]\n"
     ]
    },
    {
     "name": "stdout",
     "output_type": "stream",
     "text": [
      "Class 04256520 has 3 shapes\n",
      "Class 02933112 has 2 shapes\n",
      "Class 04379243 has 5 shapes\n",
      "Class 02958343 has 2 shapes\n",
      "Class 02691156 has 5 shapes\n",
      "Class 03001627 has 1 shapes\n",
      "Class 04530566 has 1 shapes\n",
      "Length of dataset: 91\n",
      "Filtering data ..\n"
     ]
    },
    {
     "name": "stderr",
     "output_type": "stream",
     "text": [
      "100%|█████████████████████████████████████████| 91/91 [00:00<00:00, 5093.64it/s]\n"
     ]
    },
    {
     "name": "stdout",
     "output_type": "stream",
     "text": [
      "Length of dataset: 19\n"
     ]
    },
    {
     "name": "stderr",
     "output_type": "stream",
     "text": [
      "100%|███████████████████████████████████████| 19/19 [00:00<00:00, 179082.64it/s]"
     ]
    },
    {
     "name": "stdout",
     "output_type": "stream",
     "text": [
      "Class 04256520 has 3 shapes\n",
      "Class 02933112 has 2 shapes\n",
      "Class 04379243 has 5 shapes\n",
      "Class 02958343 has 2 shapes\n",
      "Class 02691156 has 5 shapes\n",
      "Class 03001627 has 1 shapes\n",
      "Class 04530566 has 1 shapes\n"
     ]
    },
    {
     "name": "stderr",
     "output_type": "stream",
     "text": [
      "\n"
     ]
    },
    {
     "name": "stdout",
     "output_type": "stream",
     "text": [
      "[000/00000] train_loss: 0.711810, train_vertices_loss: 0.196907, train_edges_loss: 0.514903\n",
      "[000/00001] train_loss: 0.681547, train_vertices_loss: 0.192445, train_edges_loss: 0.489103\n",
      "[001/00000] train_loss: 0.692341, train_vertices_loss: 0.225597, train_edges_loss: 0.466744\n",
      "[001/00001] train_loss: 0.346470, train_vertices_loss: 0.098731, train_edges_loss: 0.247739\n",
      "[002/00000] train_loss: 0.284879, train_vertices_loss: 0.117785, train_edges_loss: 0.167094\n",
      "[002/00001] train_loss: 0.333027, train_vertices_loss: 0.175468, train_edges_loss: 0.157559\n",
      "[003/00000] train_loss: 0.210073, train_vertices_loss: 0.105970, train_edges_loss: 0.104103\n",
      "[003/00001] train_loss: 0.261931, train_vertices_loss: 0.150690, train_edges_loss: 0.111241\n",
      "[004/00000] train_loss: 0.199696, train_vertices_loss: 0.108934, train_edges_loss: 0.090762\n",
      "[004/00001] train_loss: 0.208454, train_vertices_loss: 0.111616, train_edges_loss: 0.096838\n",
      "[005/00000] train_loss: 0.209854, train_vertices_loss: 0.119388, train_edges_loss: 0.090466\n",
      "[005/00001] train_loss: 0.175100, train_vertices_loss: 0.093625, train_edges_loss: 0.081475\n",
      "[006/00000] train_loss: 0.200475, train_vertices_loss: 0.102916, train_edges_loss: 0.097559\n",
      "[006/00001] train_loss: 0.155280, train_vertices_loss: 0.084745, train_edges_loss: 0.070536\n",
      "[007/00000] train_loss: 0.139573, train_vertices_loss: 0.068517, train_edges_loss: 0.071056\n",
      "[007/00001] train_loss: 0.209029, train_vertices_loss: 0.106919, train_edges_loss: 0.102109\n",
      "[008/00000] train_loss: 0.143084, train_vertices_loss: 0.070460, train_edges_loss: 0.072623\n",
      "[008/00001] train_loss: 0.206599, train_vertices_loss: 0.106935, train_edges_loss: 0.099664\n",
      "[009/00000] train_loss: 0.139674, train_vertices_loss: 0.064057, train_edges_loss: 0.075617\n",
      "[009/00001] train_loss: 0.189231, train_vertices_loss: 0.097058, train_edges_loss: 0.092173\n",
      "[010/00000] train_loss: 0.142105, train_vertices_loss: 0.064593, train_edges_loss: 0.077512\n",
      "[010/00001] train_loss: 0.175081, train_vertices_loss: 0.085511, train_edges_loss: 0.089569\n",
      "[011/00000] train_loss: 0.112013, train_vertices_loss: 0.050545, train_edges_loss: 0.061469\n",
      "[011/00001] train_loss: 0.197422, train_vertices_loss: 0.089058, train_edges_loss: 0.108364\n",
      "[012/00000] train_loss: 0.157827, train_vertices_loss: 0.070631, train_edges_loss: 0.087196\n",
      "[012/00001] train_loss: 0.142719, train_vertices_loss: 0.067085, train_edges_loss: 0.075635\n",
      "[013/00000] train_loss: 0.127982, train_vertices_loss: 0.058118, train_edges_loss: 0.069864\n",
      "[013/00001] train_loss: 0.163957, train_vertices_loss: 0.074562, train_edges_loss: 0.089395\n",
      "[014/00000] train_loss: 0.110005, train_vertices_loss: 0.047951, train_edges_loss: 0.062054\n",
      "[014/00001] train_loss: 0.179774, train_vertices_loss: 0.081258, train_edges_loss: 0.098515\n",
      "[015/00000] train_loss: 0.089376, train_vertices_loss: 0.036581, train_edges_loss: 0.052795\n",
      "[015/00001] train_loss: 0.209645, train_vertices_loss: 0.092033, train_edges_loss: 0.117612\n",
      "[016/00000] train_loss: 0.148701, train_vertices_loss: 0.063278, train_edges_loss: 0.085423\n",
      "[016/00001] train_loss: 0.126290, train_vertices_loss: 0.057985, train_edges_loss: 0.068305\n",
      "[017/00000] train_loss: 0.168706, train_vertices_loss: 0.085940, train_edges_loss: 0.082766\n",
      "[017/00001] train_loss: 0.128547, train_vertices_loss: 0.056114, train_edges_loss: 0.072433\n",
      "[018/00000] train_loss: 0.177581, train_vertices_loss: 0.084501, train_edges_loss: 0.093080\n",
      "[018/00001] train_loss: 0.109674, train_vertices_loss: 0.049239, train_edges_loss: 0.060434\n",
      "[019/00000] train_loss: 0.107109, train_vertices_loss: 0.045029, train_edges_loss: 0.062080\n",
      "[019/00001] train_loss: 0.164036, train_vertices_loss: 0.071909, train_edges_loss: 0.092127\n",
      "[020/00000] train_loss: 0.136595, train_vertices_loss: 0.055335, train_edges_loss: 0.081260\n",
      "[020/00001] train_loss: 0.121160, train_vertices_loss: 0.052883, train_edges_loss: 0.068277\n",
      "[021/00000] train_loss: 0.135409, train_vertices_loss: 0.055470, train_edges_loss: 0.079939\n",
      "[021/00001] train_loss: 0.130423, train_vertices_loss: 0.060064, train_edges_loss: 0.070360\n",
      "[022/00000] train_loss: 0.110212, train_vertices_loss: 0.045116, train_edges_loss: 0.065096\n",
      "[022/00001] train_loss: 0.140434, train_vertices_loss: 0.056996, train_edges_loss: 0.083438\n",
      "[023/00000] train_loss: 0.105021, train_vertices_loss: 0.040926, train_edges_loss: 0.064095\n",
      "[023/00001] train_loss: 0.144891, train_vertices_loss: 0.062588, train_edges_loss: 0.082303\n",
      "[024/00000] train_loss: 0.126340, train_vertices_loss: 0.047253, train_edges_loss: 0.079087\n",
      "[024/00001] train_loss: 0.111278, train_vertices_loss: 0.046766, train_edges_loss: 0.064512\n",
      "[024/00001] val_loss: 0.115434 | best_loss_val: 0.115434 | loss_vertices: 0.041826 | loss_edges: 0.073608\n",
      "[025/00000] train_loss: 0.108612, train_vertices_loss: 0.041966, train_edges_loss: 0.066646\n",
      "[025/00001] train_loss: 0.127254, train_vertices_loss: 0.050801, train_edges_loss: 0.076453\n",
      "[026/00000] train_loss: 0.106235, train_vertices_loss: 0.038676, train_edges_loss: 0.067559\n",
      "[026/00001] train_loss: 0.116384, train_vertices_loss: 0.043295, train_edges_loss: 0.073088\n",
      "[027/00000] train_loss: 0.125275, train_vertices_loss: 0.048291, train_edges_loss: 0.076983\n",
      "[027/00001] train_loss: 0.097429, train_vertices_loss: 0.035245, train_edges_loss: 0.062184\n",
      "[028/00000] train_loss: 0.153403, train_vertices_loss: 0.064743, train_edges_loss: 0.088660\n",
      "[028/00001] train_loss: 0.084110, train_vertices_loss: 0.034566, train_edges_loss: 0.049544\n",
      "[029/00000] train_loss: 0.085780, train_vertices_loss: 0.031965, train_edges_loss: 0.053815\n",
      "[029/00001] train_loss: 0.143941, train_vertices_loss: 0.056833, train_edges_loss: 0.087108\n",
      "[030/00000] train_loss: 0.092411, train_vertices_loss: 0.035661, train_edges_loss: 0.056750\n",
      "[030/00001] train_loss: 0.152530, train_vertices_loss: 0.067780, train_edges_loss: 0.084750\n",
      "[031/00000] train_loss: 0.094657, train_vertices_loss: 0.033000, train_edges_loss: 0.061656\n",
      "[031/00001] train_loss: 0.122004, train_vertices_loss: 0.049295, train_edges_loss: 0.072709\n",
      "[032/00000] train_loss: 0.094465, train_vertices_loss: 0.033924, train_edges_loss: 0.060541\n",
      "[032/00001] train_loss: 0.132268, train_vertices_loss: 0.056433, train_edges_loss: 0.075834\n",
      "[033/00000] train_loss: 0.167807, train_vertices_loss: 0.069539, train_edges_loss: 0.098269\n",
      "[033/00001] train_loss: 0.060255, train_vertices_loss: 0.025078, train_edges_loss: 0.035177\n",
      "[034/00000] train_loss: 0.095323, train_vertices_loss: 0.036847, train_edges_loss: 0.058476\n",
      "[034/00001] train_loss: 0.118535, train_vertices_loss: 0.041816, train_edges_loss: 0.076719\n",
      "[035/00000] train_loss: 0.108323, train_vertices_loss: 0.039735, train_edges_loss: 0.068588\n",
      "[035/00001] train_loss: 0.099066, train_vertices_loss: 0.037561, train_edges_loss: 0.061504\n",
      "[036/00000] train_loss: 0.092618, train_vertices_loss: 0.032005, train_edges_loss: 0.060613\n",
      "[036/00001] train_loss: 0.114217, train_vertices_loss: 0.043343, train_edges_loss: 0.070875\n",
      "[037/00000] train_loss: 0.094683, train_vertices_loss: 0.032794, train_edges_loss: 0.061889\n",
      "[037/00001] train_loss: 0.102751, train_vertices_loss: 0.038595, train_edges_loss: 0.064156\n",
      "[038/00000] train_loss: 0.099570, train_vertices_loss: 0.034476, train_edges_loss: 0.065093\n",
      "[038/00001] train_loss: 0.098518, train_vertices_loss: 0.037200, train_edges_loss: 0.061318\n",
      "[039/00000] train_loss: 0.152797, train_vertices_loss: 0.061711, train_edges_loss: 0.091086\n",
      "[039/00001] train_loss: 0.059576, train_vertices_loss: 0.022447, train_edges_loss: 0.037129\n",
      "[040/00000] train_loss: 0.093282, train_vertices_loss: 0.029931, train_edges_loss: 0.063351\n",
      "[040/00001] train_loss: 0.096842, train_vertices_loss: 0.036990, train_edges_loss: 0.059852\n",
      "[041/00000] train_loss: 0.085351, train_vertices_loss: 0.029389, train_edges_loss: 0.055962\n",
      "[041/00001] train_loss: 0.103942, train_vertices_loss: 0.036808, train_edges_loss: 0.067133\n",
      "[042/00000] train_loss: 0.098992, train_vertices_loss: 0.036236, train_edges_loss: 0.062756\n",
      "[042/00001] train_loss: 0.097102, train_vertices_loss: 0.035513, train_edges_loss: 0.061589\n",
      "[043/00000] train_loss: 0.143010, train_vertices_loss: 0.058024, train_edges_loss: 0.084986\n",
      "[043/00001] train_loss: 0.064254, train_vertices_loss: 0.025363, train_edges_loss: 0.038891\n"
     ]
    },
    {
     "name": "stdout",
     "output_type": "stream",
     "text": [
      "[044/00000] train_loss: 0.080860, train_vertices_loss: 0.028571, train_edges_loss: 0.052289\n",
      "[044/00001] train_loss: 0.108368, train_vertices_loss: 0.038223, train_edges_loss: 0.070145\n",
      "[045/00000] train_loss: 0.097994, train_vertices_loss: 0.037310, train_edges_loss: 0.060685\n",
      "[045/00001] train_loss: 0.100115, train_vertices_loss: 0.038033, train_edges_loss: 0.062082\n",
      "[046/00000] train_loss: 0.092367, train_vertices_loss: 0.031434, train_edges_loss: 0.060933\n",
      "[046/00001] train_loss: 0.087219, train_vertices_loss: 0.029370, train_edges_loss: 0.057849\n",
      "[047/00000] train_loss: 0.092556, train_vertices_loss: 0.030561, train_edges_loss: 0.061995\n",
      "[047/00001] train_loss: 0.082224, train_vertices_loss: 0.027380, train_edges_loss: 0.054844\n",
      "[048/00000] train_loss: 0.122030, train_vertices_loss: 0.043789, train_edges_loss: 0.078242\n",
      "[048/00001] train_loss: 0.063313, train_vertices_loss: 0.023570, train_edges_loss: 0.039743\n",
      "[049/00000] train_loss: 0.091052, train_vertices_loss: 0.030348, train_edges_loss: 0.060704\n",
      "[049/00001] train_loss: 0.088771, train_vertices_loss: 0.032122, train_edges_loss: 0.056649\n",
      "[049/00001] val_loss: 0.083391 | best_loss_val: 0.083391 | loss_vertices: 0.025461 | loss_edges: 0.057929\n",
      "[050/00000] train_loss: 0.101042, train_vertices_loss: 0.034614, train_edges_loss: 0.066428\n",
      "[050/00001] train_loss: 0.075002, train_vertices_loss: 0.024862, train_edges_loss: 0.050140\n",
      "[051/00000] train_loss: 0.082036, train_vertices_loss: 0.028330, train_edges_loss: 0.053707\n",
      "[051/00001] train_loss: 0.099360, train_vertices_loss: 0.033554, train_edges_loss: 0.065805\n",
      "[052/00000] train_loss: 0.071478, train_vertices_loss: 0.024712, train_edges_loss: 0.046766\n",
      "[052/00001] train_loss: 0.108626, train_vertices_loss: 0.037060, train_edges_loss: 0.071566\n",
      "[053/00000] train_loss: 0.139432, train_vertices_loss: 0.059897, train_edges_loss: 0.079535\n",
      "[053/00001] train_loss: 0.065922, train_vertices_loss: 0.025402, train_edges_loss: 0.040520\n",
      "[054/00000] train_loss: 0.079808, train_vertices_loss: 0.027692, train_edges_loss: 0.052116\n",
      "[054/00001] train_loss: 0.099844, train_vertices_loss: 0.034771, train_edges_loss: 0.065073\n",
      "[055/00000] train_loss: 0.085032, train_vertices_loss: 0.029124, train_edges_loss: 0.055909\n",
      "[055/00001] train_loss: 0.095196, train_vertices_loss: 0.035132, train_edges_loss: 0.060064\n",
      "[056/00000] train_loss: 0.072848, train_vertices_loss: 0.025567, train_edges_loss: 0.047282\n",
      "[056/00001] train_loss: 0.117581, train_vertices_loss: 0.045525, train_edges_loss: 0.072056\n",
      "[057/00000] train_loss: 0.108494, train_vertices_loss: 0.038520, train_edges_loss: 0.069974\n",
      "[057/00001] train_loss: 0.065207, train_vertices_loss: 0.022412, train_edges_loss: 0.042795\n",
      "[058/00000] train_loss: 0.070939, train_vertices_loss: 0.023274, train_edges_loss: 0.047665\n",
      "[058/00001] train_loss: 0.115180, train_vertices_loss: 0.045024, train_edges_loss: 0.070157\n",
      "[059/00000] train_loss: 0.098921, train_vertices_loss: 0.034373, train_edges_loss: 0.064548\n",
      "[059/00001] train_loss: 0.068166, train_vertices_loss: 0.022562, train_edges_loss: 0.045604\n",
      "[060/00000] train_loss: 0.080168, train_vertices_loss: 0.026020, train_edges_loss: 0.054148\n",
      "[060/00001] train_loss: 0.085554, train_vertices_loss: 0.029697, train_edges_loss: 0.055857\n",
      "[061/00000] train_loss: 0.112442, train_vertices_loss: 0.045537, train_edges_loss: 0.066905\n",
      "[061/00001] train_loss: 0.070672, train_vertices_loss: 0.025042, train_edges_loss: 0.045630\n",
      "[062/00000] train_loss: 0.079579, train_vertices_loss: 0.025213, train_edges_loss: 0.054366\n",
      "[062/00001] train_loss: 0.080349, train_vertices_loss: 0.025572, train_edges_loss: 0.054777\n",
      "[063/00000] train_loss: 0.061707, train_vertices_loss: 0.021382, train_edges_loss: 0.040325\n",
      "[063/00001] train_loss: 0.138913, train_vertices_loss: 0.058907, train_edges_loss: 0.080006\n",
      "[064/00000] train_loss: 0.105630, train_vertices_loss: 0.037243, train_edges_loss: 0.068387\n",
      "[064/00001] train_loss: 0.069847, train_vertices_loss: 0.023345, train_edges_loss: 0.046502\n",
      "[065/00000] train_loss: 0.085245, train_vertices_loss: 0.029867, train_edges_loss: 0.055377\n",
      "[065/00001] train_loss: 0.082348, train_vertices_loss: 0.027842, train_edges_loss: 0.054506\n",
      "[066/00000] train_loss: 0.090541, train_vertices_loss: 0.030708, train_edges_loss: 0.059833\n",
      "[066/00001] train_loss: 0.077084, train_vertices_loss: 0.024422, train_edges_loss: 0.052662\n",
      "[067/00000] train_loss: 0.086912, train_vertices_loss: 0.027720, train_edges_loss: 0.059192\n",
      "[067/00001] train_loss: 0.079024, train_vertices_loss: 0.027181, train_edges_loss: 0.051843\n",
      "[068/00000] train_loss: 0.071332, train_vertices_loss: 0.023988, train_edges_loss: 0.047344\n",
      "[068/00001] train_loss: 0.093212, train_vertices_loss: 0.029511, train_edges_loss: 0.063701\n",
      "[069/00000] train_loss: 0.071610, train_vertices_loss: 0.022332, train_edges_loss: 0.049278\n",
      "[069/00001] train_loss: 0.087397, train_vertices_loss: 0.029241, train_edges_loss: 0.058156\n",
      "[070/00000] train_loss: 0.087082, train_vertices_loss: 0.031213, train_edges_loss: 0.055869\n",
      "[070/00001] train_loss: 0.081278, train_vertices_loss: 0.027580, train_edges_loss: 0.053698\n",
      "[071/00000] train_loss: 0.101001, train_vertices_loss: 0.033914, train_edges_loss: 0.067087\n",
      "[071/00001] train_loss: 0.060418, train_vertices_loss: 0.020407, train_edges_loss: 0.040010\n",
      "[072/00000] train_loss: 0.079030, train_vertices_loss: 0.027257, train_edges_loss: 0.051772\n",
      "[072/00001] train_loss: 0.083491, train_vertices_loss: 0.026943, train_edges_loss: 0.056548\n",
      "[073/00000] train_loss: 0.110368, train_vertices_loss: 0.043790, train_edges_loss: 0.066578\n",
      "[073/00001] train_loss: 0.061010, train_vertices_loss: 0.019565, train_edges_loss: 0.041445\n",
      "[074/00000] train_loss: 0.073785, train_vertices_loss: 0.024698, train_edges_loss: 0.049087\n",
      "[074/00001] train_loss: 0.085854, train_vertices_loss: 0.029484, train_edges_loss: 0.056369\n",
      "[074/00001] val_loss: 0.072109 | best_loss_val: 0.072109 | loss_vertices: 0.022374 | loss_edges: 0.049735\n",
      "[075/00000] train_loss: 0.077144, train_vertices_loss: 0.027314, train_edges_loss: 0.049830\n",
      "[075/00001] train_loss: 0.080749, train_vertices_loss: 0.026439, train_edges_loss: 0.054310\n",
      "[076/00000] train_loss: 0.069729, train_vertices_loss: 0.022766, train_edges_loss: 0.046963\n",
      "[076/00001] train_loss: 0.091226, train_vertices_loss: 0.030404, train_edges_loss: 0.060823\n",
      "[077/00000] train_loss: 0.100721, train_vertices_loss: 0.033923, train_edges_loss: 0.066797\n",
      "[077/00001] train_loss: 0.055980, train_vertices_loss: 0.017933, train_edges_loss: 0.038047\n",
      "[078/00000] train_loss: 0.059093, train_vertices_loss: 0.019452, train_edges_loss: 0.039640\n",
      "[078/00001] train_loss: 0.117999, train_vertices_loss: 0.047007, train_edges_loss: 0.070992\n",
      "[079/00000] train_loss: 0.077028, train_vertices_loss: 0.026305, train_edges_loss: 0.050724\n",
      "[079/00001] train_loss: 0.083908, train_vertices_loss: 0.028871, train_edges_loss: 0.055036\n",
      "[080/00000] train_loss: 0.067053, train_vertices_loss: 0.024693, train_edges_loss: 0.042360\n",
      "[080/00001] train_loss: 0.144610, train_vertices_loss: 0.073309, train_edges_loss: 0.071301\n",
      "[081/00000] train_loss: 0.087043, train_vertices_loss: 0.033032, train_edges_loss: 0.054012\n",
      "[081/00001] train_loss: 0.079629, train_vertices_loss: 0.026954, train_edges_loss: 0.052675\n",
      "[082/00000] train_loss: 0.078865, train_vertices_loss: 0.027766, train_edges_loss: 0.051099\n",
      "[082/00001] train_loss: 0.078387, train_vertices_loss: 0.026909, train_edges_loss: 0.051478\n",
      "[083/00000] train_loss: 0.085320, train_vertices_loss: 0.029096, train_edges_loss: 0.056224\n",
      "[083/00001] train_loss: 0.071097, train_vertices_loss: 0.025012, train_edges_loss: 0.046084\n",
      "[084/00000] train_loss: 0.088439, train_vertices_loss: 0.029950, train_edges_loss: 0.058490\n",
      "[084/00001] train_loss: 0.065161, train_vertices_loss: 0.022921, train_edges_loss: 0.042240\n",
      "[085/00000] train_loss: 0.078198, train_vertices_loss: 0.026175, train_edges_loss: 0.052023\n",
      "[085/00001] train_loss: 0.080339, train_vertices_loss: 0.030281, train_edges_loss: 0.050058\n",
      "[086/00000] train_loss: 0.067935, train_vertices_loss: 0.021446, train_edges_loss: 0.046489\n",
      "[086/00001] train_loss: 0.086906, train_vertices_loss: 0.032438, train_edges_loss: 0.054468\n",
      "[087/00000] train_loss: 0.077508, train_vertices_loss: 0.026813, train_edges_loss: 0.050696\n"
     ]
    },
    {
     "name": "stdout",
     "output_type": "stream",
     "text": [
      "[087/00001] train_loss: 0.071292, train_vertices_loss: 0.023766, train_edges_loss: 0.047525\n",
      "[088/00000] train_loss: 0.070116, train_vertices_loss: 0.023471, train_edges_loss: 0.046645\n",
      "[088/00001] train_loss: 0.078597, train_vertices_loss: 0.026512, train_edges_loss: 0.052085\n",
      "[089/00000] train_loss: 0.075337, train_vertices_loss: 0.025064, train_edges_loss: 0.050273\n",
      "[089/00001] train_loss: 0.069145, train_vertices_loss: 0.022659, train_edges_loss: 0.046486\n",
      "[090/00000] train_loss: 0.060317, train_vertices_loss: 0.019617, train_edges_loss: 0.040701\n",
      "[090/00001] train_loss: 0.080968, train_vertices_loss: 0.025663, train_edges_loss: 0.055304\n",
      "[091/00000] train_loss: 0.070106, train_vertices_loss: 0.022324, train_edges_loss: 0.047781\n",
      "[091/00001] train_loss: 0.069861, train_vertices_loss: 0.022897, train_edges_loss: 0.046964\n",
      "[092/00000] train_loss: 0.110139, train_vertices_loss: 0.042516, train_edges_loss: 0.067623\n",
      "[092/00001] train_loss: 0.059824, train_vertices_loss: 0.023141, train_edges_loss: 0.036683\n",
      "[093/00000] train_loss: 0.067690, train_vertices_loss: 0.022539, train_edges_loss: 0.045152\n",
      "[093/00001] train_loss: 0.074569, train_vertices_loss: 0.024688, train_edges_loss: 0.049881\n",
      "[094/00000] train_loss: 0.080696, train_vertices_loss: 0.033704, train_edges_loss: 0.046993\n",
      "[094/00001] train_loss: 0.088625, train_vertices_loss: 0.033096, train_edges_loss: 0.055529\n",
      "[095/00000] train_loss: 0.066902, train_vertices_loss: 0.023259, train_edges_loss: 0.043643\n",
      "[095/00001] train_loss: 0.089574, train_vertices_loss: 0.034510, train_edges_loss: 0.055065\n",
      "[096/00000] train_loss: 0.069763, train_vertices_loss: 0.025161, train_edges_loss: 0.044601\n",
      "[096/00001] train_loss: 0.076635, train_vertices_loss: 0.026346, train_edges_loss: 0.050289\n",
      "[097/00000] train_loss: 0.064312, train_vertices_loss: 0.023109, train_edges_loss: 0.041203\n",
      "[097/00001] train_loss: 0.080636, train_vertices_loss: 0.026981, train_edges_loss: 0.053656\n",
      "[098/00000] train_loss: 0.073966, train_vertices_loss: 0.024130, train_edges_loss: 0.049836\n",
      "[098/00001] train_loss: 0.067490, train_vertices_loss: 0.024761, train_edges_loss: 0.042729\n",
      "[099/00000] train_loss: 0.060071, train_vertices_loss: 0.020639, train_edges_loss: 0.039432\n",
      "[099/00001] train_loss: 0.092390, train_vertices_loss: 0.033162, train_edges_loss: 0.059229\n",
      "[099/00001] val_loss: 0.063742 | best_loss_val: 0.063742 | loss_vertices: 0.021202 | loss_edges: 0.042540\n",
      "[100/00000] train_loss: 0.063506, train_vertices_loss: 0.022121, train_edges_loss: 0.041386\n",
      "[100/00001] train_loss: 0.074660, train_vertices_loss: 0.023717, train_edges_loss: 0.050943\n",
      "[101/00000] train_loss: 0.066903, train_vertices_loss: 0.022941, train_edges_loss: 0.043962\n",
      "[101/00001] train_loss: 0.075932, train_vertices_loss: 0.027243, train_edges_loss: 0.048689\n",
      "[102/00000] train_loss: 0.062687, train_vertices_loss: 0.019886, train_edges_loss: 0.042802\n",
      "[102/00001] train_loss: 0.069689, train_vertices_loss: 0.022866, train_edges_loss: 0.046824\n",
      "[103/00000] train_loss: 0.056277, train_vertices_loss: 0.018098, train_edges_loss: 0.038180\n",
      "[103/00001] train_loss: 0.081832, train_vertices_loss: 0.027779, train_edges_loss: 0.054053\n",
      "[104/00000] train_loss: 0.059998, train_vertices_loss: 0.019444, train_edges_loss: 0.040554\n",
      "[104/00001] train_loss: 0.080522, train_vertices_loss: 0.031459, train_edges_loss: 0.049062\n",
      "[105/00000] train_loss: 0.069057, train_vertices_loss: 0.024739, train_edges_loss: 0.044318\n",
      "[105/00001] train_loss: 0.074849, train_vertices_loss: 0.029063, train_edges_loss: 0.045786\n",
      "[106/00000] train_loss: 0.071014, train_vertices_loss: 0.022571, train_edges_loss: 0.048443\n",
      "[106/00001] train_loss: 0.062832, train_vertices_loss: 0.022580, train_edges_loss: 0.040251\n",
      "[107/00000] train_loss: 0.057588, train_vertices_loss: 0.019526, train_edges_loss: 0.038062\n",
      "[107/00001] train_loss: 0.080849, train_vertices_loss: 0.027174, train_edges_loss: 0.053674\n",
      "[108/00000] train_loss: 0.050052, train_vertices_loss: 0.016635, train_edges_loss: 0.033417\n",
      "[108/00001] train_loss: 0.124397, train_vertices_loss: 0.058554, train_edges_loss: 0.065843\n",
      "[109/00000] train_loss: 0.056692, train_vertices_loss: 0.018771, train_edges_loss: 0.037920\n",
      "[109/00001] train_loss: 0.080802, train_vertices_loss: 0.028225, train_edges_loss: 0.052577\n",
      "[110/00000] train_loss: 0.070777, train_vertices_loss: 0.025872, train_edges_loss: 0.044905\n",
      "[110/00001] train_loss: 0.095400, train_vertices_loss: 0.036698, train_edges_loss: 0.058702\n",
      "[111/00000] train_loss: 0.061476, train_vertices_loss: 0.019852, train_edges_loss: 0.041624\n",
      "[111/00001] train_loss: 0.080238, train_vertices_loss: 0.029930, train_edges_loss: 0.050309\n",
      "[112/00000] train_loss: 0.063165, train_vertices_loss: 0.023293, train_edges_loss: 0.039873\n",
      "[112/00001] train_loss: 0.077466, train_vertices_loss: 0.026088, train_edges_loss: 0.051378\n",
      "[113/00000] train_loss: 0.058742, train_vertices_loss: 0.019865, train_edges_loss: 0.038878\n",
      "[113/00001] train_loss: 0.081451, train_vertices_loss: 0.031594, train_edges_loss: 0.049857\n",
      "[114/00000] train_loss: 0.066096, train_vertices_loss: 0.024205, train_edges_loss: 0.041891\n",
      "[114/00001] train_loss: 0.071303, train_vertices_loss: 0.025857, train_edges_loss: 0.045446\n",
      "[115/00000] train_loss: 0.073863, train_vertices_loss: 0.022936, train_edges_loss: 0.050927\n",
      "[115/00001] train_loss: 0.060134, train_vertices_loss: 0.023940, train_edges_loss: 0.036194\n",
      "[116/00000] train_loss: 0.067590, train_vertices_loss: 0.024800, train_edges_loss: 0.042790\n",
      "[116/00001] train_loss: 0.069527, train_vertices_loss: 0.023370, train_edges_loss: 0.046157\n",
      "[117/00000] train_loss: 0.062499, train_vertices_loss: 0.021464, train_edges_loss: 0.041036\n",
      "[117/00001] train_loss: 0.094452, train_vertices_loss: 0.043502, train_edges_loss: 0.050950\n",
      "[118/00000] train_loss: 0.047673, train_vertices_loss: 0.017504, train_edges_loss: 0.030168\n",
      "[118/00001] train_loss: 0.104621, train_vertices_loss: 0.039508, train_edges_loss: 0.065113\n",
      "[119/00000] train_loss: 0.060315, train_vertices_loss: 0.021026, train_edges_loss: 0.039289\n",
      "[119/00001] train_loss: 0.076388, train_vertices_loss: 0.028357, train_edges_loss: 0.048031\n",
      "[120/00000] train_loss: 0.076129, train_vertices_loss: 0.026406, train_edges_loss: 0.049722\n",
      "[120/00001] train_loss: 0.057740, train_vertices_loss: 0.020850, train_edges_loss: 0.036889\n",
      "[121/00000] train_loss: 0.060867, train_vertices_loss: 0.023106, train_edges_loss: 0.037761\n",
      "[121/00001] train_loss: 0.096273, train_vertices_loss: 0.037570, train_edges_loss: 0.058704\n",
      "[122/00000] train_loss: 0.057281, train_vertices_loss: 0.019959, train_edges_loss: 0.037322\n",
      "[122/00001] train_loss: 0.076679, train_vertices_loss: 0.027346, train_edges_loss: 0.049333\n",
      "[123/00000] train_loss: 0.068715, train_vertices_loss: 0.025413, train_edges_loss: 0.043303\n",
      "[123/00001] train_loss: 0.067811, train_vertices_loss: 0.024742, train_edges_loss: 0.043069\n",
      "[124/00000] train_loss: 0.060210, train_vertices_loss: 0.023202, train_edges_loss: 0.037009\n",
      "[124/00001] train_loss: 0.077389, train_vertices_loss: 0.028036, train_edges_loss: 0.049353\n",
      "[124/00001] val_loss: 0.059274 | best_loss_val: 0.059274 | loss_vertices: 0.019756 | loss_edges: 0.039518\n",
      "[125/00000] train_loss: 0.059229, train_vertices_loss: 0.020000, train_edges_loss: 0.039229\n",
      "[125/00001] train_loss: 0.071963, train_vertices_loss: 0.025815, train_edges_loss: 0.046148\n",
      "[126/00000] train_loss: 0.069263, train_vertices_loss: 0.024723, train_edges_loss: 0.044540\n",
      "[126/00001] train_loss: 0.062883, train_vertices_loss: 0.022563, train_edges_loss: 0.040321\n",
      "[127/00000] train_loss: 0.052884, train_vertices_loss: 0.018990, train_edges_loss: 0.033894\n",
      "[127/00001] train_loss: 0.084022, train_vertices_loss: 0.031397, train_edges_loss: 0.052625\n",
      "[128/00000] train_loss: 0.059031, train_vertices_loss: 0.023222, train_edges_loss: 0.035809\n",
      "[128/00001] train_loss: 0.073215, train_vertices_loss: 0.024950, train_edges_loss: 0.048265\n",
      "[129/00000] train_loss: 0.081485, train_vertices_loss: 0.028556, train_edges_loss: 0.052929\n",
      "[129/00001] train_loss: 0.052797, train_vertices_loss: 0.020484, train_edges_loss: 0.032313\n",
      "[130/00000] train_loss: 0.080227, train_vertices_loss: 0.036706, train_edges_loss: 0.043521\n",
      "[130/00001] train_loss: 0.071093, train_vertices_loss: 0.025910, train_edges_loss: 0.045183\n"
     ]
    },
    {
     "name": "stdout",
     "output_type": "stream",
     "text": [
      "[131/00000] train_loss: 0.067742, train_vertices_loss: 0.028555, train_edges_loss: 0.039187\n",
      "[131/00001] train_loss: 0.127697, train_vertices_loss: 0.059326, train_edges_loss: 0.068371\n",
      "[132/00000] train_loss: 0.055081, train_vertices_loss: 0.021860, train_edges_loss: 0.033221\n",
      "[132/00001] train_loss: 0.094162, train_vertices_loss: 0.036203, train_edges_loss: 0.057958\n",
      "[133/00000] train_loss: 0.070784, train_vertices_loss: 0.025147, train_edges_loss: 0.045637\n",
      "[133/00001] train_loss: 0.064242, train_vertices_loss: 0.024551, train_edges_loss: 0.039691\n",
      "[134/00000] train_loss: 0.062476, train_vertices_loss: 0.022649, train_edges_loss: 0.039828\n",
      "[134/00001] train_loss: 0.075720, train_vertices_loss: 0.028779, train_edges_loss: 0.046941\n",
      "[135/00000] train_loss: 0.077874, train_vertices_loss: 0.030796, train_edges_loss: 0.047078\n",
      "[135/00001] train_loss: 0.072343, train_vertices_loss: 0.026464, train_edges_loss: 0.045879\n",
      "[136/00000] train_loss: 0.110766, train_vertices_loss: 0.049175, train_edges_loss: 0.061591\n",
      "[136/00001] train_loss: 0.054873, train_vertices_loss: 0.023733, train_edges_loss: 0.031140\n",
      "[137/00000] train_loss: 0.052661, train_vertices_loss: 0.020541, train_edges_loss: 0.032120\n",
      "[137/00001] train_loss: 0.109013, train_vertices_loss: 0.043672, train_edges_loss: 0.065341\n",
      "[138/00000] train_loss: 0.072274, train_vertices_loss: 0.028282, train_edges_loss: 0.043992\n",
      "[138/00001] train_loss: 0.067484, train_vertices_loss: 0.025664, train_edges_loss: 0.041820\n",
      "[139/00000] train_loss: 0.055246, train_vertices_loss: 0.020438, train_edges_loss: 0.034808\n",
      "[139/00001] train_loss: 0.104993, train_vertices_loss: 0.043649, train_edges_loss: 0.061344\n",
      "[140/00000] train_loss: 0.079016, train_vertices_loss: 0.030994, train_edges_loss: 0.048022\n",
      "[140/00001] train_loss: 0.063208, train_vertices_loss: 0.026472, train_edges_loss: 0.036736\n",
      "[141/00000] train_loss: 0.060286, train_vertices_loss: 0.021702, train_edges_loss: 0.038584\n",
      "[141/00001] train_loss: 0.073659, train_vertices_loss: 0.028433, train_edges_loss: 0.045226\n",
      "[142/00000] train_loss: 0.060146, train_vertices_loss: 0.022955, train_edges_loss: 0.037191\n",
      "[142/00001] train_loss: 0.073507, train_vertices_loss: 0.027331, train_edges_loss: 0.046176\n",
      "[143/00000] train_loss: 0.058380, train_vertices_loss: 0.021186, train_edges_loss: 0.037194\n",
      "[143/00001] train_loss: 0.092012, train_vertices_loss: 0.041328, train_edges_loss: 0.050684\n",
      "[144/00000] train_loss: 0.086609, train_vertices_loss: 0.033870, train_edges_loss: 0.052739\n",
      "[144/00001] train_loss: 0.047918, train_vertices_loss: 0.017572, train_edges_loss: 0.030347\n",
      "[145/00000] train_loss: 0.061140, train_vertices_loss: 0.024570, train_edges_loss: 0.036569\n",
      "[145/00001] train_loss: 0.073358, train_vertices_loss: 0.027106, train_edges_loss: 0.046252\n",
      "[146/00000] train_loss: 0.066665, train_vertices_loss: 0.024995, train_edges_loss: 0.041670\n",
      "[146/00001] train_loss: 0.063460, train_vertices_loss: 0.024395, train_edges_loss: 0.039065\n",
      "[147/00000] train_loss: 0.082279, train_vertices_loss: 0.032135, train_edges_loss: 0.050144\n",
      "[147/00001] train_loss: 0.054586, train_vertices_loss: 0.020933, train_edges_loss: 0.033652\n",
      "[148/00000] train_loss: 0.070971, train_vertices_loss: 0.025196, train_edges_loss: 0.045775\n",
      "[148/00001] train_loss: 0.055620, train_vertices_loss: 0.022809, train_edges_loss: 0.032810\n",
      "[149/00000] train_loss: 0.078204, train_vertices_loss: 0.029320, train_edges_loss: 0.048884\n",
      "[149/00001] train_loss: 0.048554, train_vertices_loss: 0.018717, train_edges_loss: 0.029837\n",
      "[149/00001] val_loss: 0.060982 | best_loss_val: 0.059274 | loss_vertices: 0.024866 | loss_edges: 0.036117\n",
      "[150/00000] train_loss: 0.080616, train_vertices_loss: 0.033700, train_edges_loss: 0.046916\n",
      "[150/00001] train_loss: 0.055982, train_vertices_loss: 0.021139, train_edges_loss: 0.034843\n",
      "[151/00000] train_loss: 0.063394, train_vertices_loss: 0.022325, train_edges_loss: 0.041069\n",
      "[151/00001] train_loss: 0.063826, train_vertices_loss: 0.025051, train_edges_loss: 0.038775\n",
      "[152/00000] train_loss: 0.101963, train_vertices_loss: 0.047555, train_edges_loss: 0.054409\n",
      "[152/00001] train_loss: 0.044337, train_vertices_loss: 0.016380, train_edges_loss: 0.027957\n",
      "[153/00000] train_loss: 0.070354, train_vertices_loss: 0.024979, train_edges_loss: 0.045374\n",
      "[153/00001] train_loss: 0.057192, train_vertices_loss: 0.021579, train_edges_loss: 0.035614\n",
      "[154/00000] train_loss: 0.056735, train_vertices_loss: 0.020709, train_edges_loss: 0.036026\n",
      "[154/00001] train_loss: 0.082041, train_vertices_loss: 0.033338, train_edges_loss: 0.048703\n",
      "[155/00000] train_loss: 0.055738, train_vertices_loss: 0.020856, train_edges_loss: 0.034883\n",
      "[155/00001] train_loss: 0.093396, train_vertices_loss: 0.039734, train_edges_loss: 0.053663\n",
      "[156/00000] train_loss: 0.066595, train_vertices_loss: 0.024481, train_edges_loss: 0.042114\n",
      "[156/00001] train_loss: 0.058980, train_vertices_loss: 0.022973, train_edges_loss: 0.036007\n",
      "[157/00000] train_loss: 0.066668, train_vertices_loss: 0.026588, train_edges_loss: 0.040080\n",
      "[157/00001] train_loss: 0.109254, train_vertices_loss: 0.048676, train_edges_loss: 0.060578\n",
      "[158/00000] train_loss: 0.060052, train_vertices_loss: 0.023431, train_edges_loss: 0.036620\n",
      "[158/00001] train_loss: 0.070419, train_vertices_loss: 0.026438, train_edges_loss: 0.043981\n",
      "[159/00000] train_loss: 0.064548, train_vertices_loss: 0.026399, train_edges_loss: 0.038149\n",
      "[159/00001] train_loss: 0.084291, train_vertices_loss: 0.034513, train_edges_loss: 0.049777\n",
      "[160/00000] train_loss: 0.089481, train_vertices_loss: 0.037722, train_edges_loss: 0.051759\n",
      "[160/00001] train_loss: 0.056454, train_vertices_loss: 0.023957, train_edges_loss: 0.032497\n",
      "[161/00000] train_loss: 0.064445, train_vertices_loss: 0.026968, train_edges_loss: 0.037477\n",
      "[161/00001] train_loss: 0.076793, train_vertices_loss: 0.031681, train_edges_loss: 0.045113\n",
      "[162/00000] train_loss: 0.066506, train_vertices_loss: 0.025671, train_edges_loss: 0.040835\n",
      "[162/00001] train_loss: 0.067785, train_vertices_loss: 0.027130, train_edges_loss: 0.040655\n",
      "[163/00000] train_loss: 0.054824, train_vertices_loss: 0.021624, train_edges_loss: 0.033201\n",
      "[163/00001] train_loss: 0.086250, train_vertices_loss: 0.034489, train_edges_loss: 0.051761\n",
      "[164/00000] train_loss: 0.054238, train_vertices_loss: 0.020876, train_edges_loss: 0.033361\n",
      "[164/00001] train_loss: 0.084376, train_vertices_loss: 0.034139, train_edges_loss: 0.050237\n",
      "[165/00000] train_loss: 0.061912, train_vertices_loss: 0.022733, train_edges_loss: 0.039179\n",
      "[165/00001] train_loss: 0.061503, train_vertices_loss: 0.024216, train_edges_loss: 0.037287\n",
      "[166/00000] train_loss: 0.062968, train_vertices_loss: 0.023768, train_edges_loss: 0.039200\n",
      "[166/00001] train_loss: 0.085922, train_vertices_loss: 0.038282, train_edges_loss: 0.047640\n",
      "[167/00000] train_loss: 0.056813, train_vertices_loss: 0.021525, train_edges_loss: 0.035288\n",
      "[167/00001] train_loss: 0.081849, train_vertices_loss: 0.033590, train_edges_loss: 0.048259\n",
      "[168/00000] train_loss: 0.058704, train_vertices_loss: 0.022301, train_edges_loss: 0.036403\n",
      "[168/00001] train_loss: 0.072744, train_vertices_loss: 0.028612, train_edges_loss: 0.044132\n",
      "[169/00000] train_loss: 0.059138, train_vertices_loss: 0.020738, train_edges_loss: 0.038399\n",
      "[169/00001] train_loss: 0.067552, train_vertices_loss: 0.027003, train_edges_loss: 0.040549\n",
      "[170/00000] train_loss: 0.056532, train_vertices_loss: 0.022081, train_edges_loss: 0.034450\n",
      "[170/00001] train_loss: 0.086576, train_vertices_loss: 0.039146, train_edges_loss: 0.047430\n",
      "[171/00000] train_loss: 0.061326, train_vertices_loss: 0.022460, train_edges_loss: 0.038867\n",
      "[171/00001] train_loss: 0.060836, train_vertices_loss: 0.024267, train_edges_loss: 0.036569\n",
      "[172/00000] train_loss: 0.062200, train_vertices_loss: 0.023319, train_edges_loss: 0.038881\n",
      "[172/00001] train_loss: 0.065303, train_vertices_loss: 0.026849, train_edges_loss: 0.038453\n",
      "[173/00000] train_loss: 0.063545, train_vertices_loss: 0.024155, train_edges_loss: 0.039389\n",
      "[173/00001] train_loss: 0.063504, train_vertices_loss: 0.024448, train_edges_loss: 0.039056\n",
      "[174/00000] train_loss: 0.070106, train_vertices_loss: 0.027270, train_edges_loss: 0.042837\n",
      "[174/00001] train_loss: 0.051806, train_vertices_loss: 0.020152, train_edges_loss: 0.031653\n"
     ]
    },
    {
     "name": "stdout",
     "output_type": "stream",
     "text": [
      "[174/00001] val_loss: 0.055192 | best_loss_val: 0.055192 | loss_vertices: 0.020982 | loss_edges: 0.034210\n",
      "[175/00000] train_loss: 0.074556, train_vertices_loss: 0.029369, train_edges_loss: 0.045186\n",
      "[175/00001] train_loss: 0.050002, train_vertices_loss: 0.019210, train_edges_loss: 0.030792\n",
      "[176/00000] train_loss: 0.066058, train_vertices_loss: 0.025075, train_edges_loss: 0.040983\n",
      "[176/00001] train_loss: 0.056397, train_vertices_loss: 0.022859, train_edges_loss: 0.033539\n",
      "[177/00000] train_loss: 0.059001, train_vertices_loss: 0.021808, train_edges_loss: 0.037192\n",
      "[177/00001] train_loss: 0.059344, train_vertices_loss: 0.022462, train_edges_loss: 0.036882\n",
      "[178/00000] train_loss: 0.053243, train_vertices_loss: 0.020202, train_edges_loss: 0.033040\n",
      "[178/00001] train_loss: 0.067159, train_vertices_loss: 0.024517, train_edges_loss: 0.042642\n",
      "[179/00000] train_loss: 0.050717, train_vertices_loss: 0.019049, train_edges_loss: 0.031668\n",
      "[179/00001] train_loss: 0.070395, train_vertices_loss: 0.026190, train_edges_loss: 0.044204\n",
      "[180/00000] train_loss: 0.058792, train_vertices_loss: 0.023160, train_edges_loss: 0.035632\n",
      "[180/00001] train_loss: 0.058207, train_vertices_loss: 0.021807, train_edges_loss: 0.036399\n",
      "[181/00000] train_loss: 0.057672, train_vertices_loss: 0.020400, train_edges_loss: 0.037272\n",
      "[181/00001] train_loss: 0.057908, train_vertices_loss: 0.022618, train_edges_loss: 0.035291\n",
      "[182/00000] train_loss: 0.067861, train_vertices_loss: 0.025286, train_edges_loss: 0.042574\n",
      "[182/00001] train_loss: 0.049329, train_vertices_loss: 0.018272, train_edges_loss: 0.031058\n",
      "[183/00000] train_loss: 0.057692, train_vertices_loss: 0.022452, train_edges_loss: 0.035240\n",
      "[183/00001] train_loss: 0.059182, train_vertices_loss: 0.021403, train_edges_loss: 0.037780\n",
      "[184/00000] train_loss: 0.050773, train_vertices_loss: 0.019334, train_edges_loss: 0.031439\n",
      "[184/00001] train_loss: 0.068454, train_vertices_loss: 0.024598, train_edges_loss: 0.043857\n",
      "[185/00000] train_loss: 0.054877, train_vertices_loss: 0.019733, train_edges_loss: 0.035144\n",
      "[185/00001] train_loss: 0.058859, train_vertices_loss: 0.021319, train_edges_loss: 0.037540\n",
      "[186/00000] train_loss: 0.060374, train_vertices_loss: 0.021949, train_edges_loss: 0.038425\n",
      "[186/00001] train_loss: 0.056162, train_vertices_loss: 0.020709, train_edges_loss: 0.035453\n",
      "[187/00000] train_loss: 0.046854, train_vertices_loss: 0.016114, train_edges_loss: 0.030740\n",
      "[187/00001] train_loss: 0.067838, train_vertices_loss: 0.025767, train_edges_loss: 0.042070\n",
      "[188/00000] train_loss: 0.056893, train_vertices_loss: 0.022354, train_edges_loss: 0.034539\n",
      "[188/00001] train_loss: 0.060781, train_vertices_loss: 0.023600, train_edges_loss: 0.037181\n",
      "[189/00000] train_loss: 0.072238, train_vertices_loss: 0.028823, train_edges_loss: 0.043416\n",
      "[189/00001] train_loss: 0.048052, train_vertices_loss: 0.018045, train_edges_loss: 0.030007\n",
      "[190/00000] train_loss: 0.048719, train_vertices_loss: 0.019399, train_edges_loss: 0.029321\n",
      "[190/00001] train_loss: 0.066916, train_vertices_loss: 0.024132, train_edges_loss: 0.042784\n",
      "[191/00000] train_loss: 0.059583, train_vertices_loss: 0.021774, train_edges_loss: 0.037809\n",
      "[191/00001] train_loss: 0.052642, train_vertices_loss: 0.020139, train_edges_loss: 0.032503\n",
      "[192/00000] train_loss: 0.054025, train_vertices_loss: 0.019552, train_edges_loss: 0.034473\n",
      "[192/00001] train_loss: 0.061057, train_vertices_loss: 0.024113, train_edges_loss: 0.036943\n",
      "[193/00000] train_loss: 0.047680, train_vertices_loss: 0.017981, train_edges_loss: 0.029698\n",
      "[193/00001] train_loss: 0.066517, train_vertices_loss: 0.023786, train_edges_loss: 0.042730\n",
      "[194/00000] train_loss: 0.072330, train_vertices_loss: 0.025521, train_edges_loss: 0.046809\n",
      "[194/00001] train_loss: 0.046099, train_vertices_loss: 0.020467, train_edges_loss: 0.025631\n",
      "[195/00000] train_loss: 0.050963, train_vertices_loss: 0.019601, train_edges_loss: 0.031362\n",
      "[195/00001] train_loss: 0.064787, train_vertices_loss: 0.024772, train_edges_loss: 0.040015\n",
      "[196/00000] train_loss: 0.078315, train_vertices_loss: 0.031213, train_edges_loss: 0.047102\n",
      "[196/00001] train_loss: 0.046049, train_vertices_loss: 0.016846, train_edges_loss: 0.029204\n",
      "[197/00000] train_loss: 0.053149, train_vertices_loss: 0.020564, train_edges_loss: 0.032584\n",
      "[197/00001] train_loss: 0.069037, train_vertices_loss: 0.025781, train_edges_loss: 0.043255\n",
      "[198/00000] train_loss: 0.043042, train_vertices_loss: 0.016963, train_edges_loss: 0.026078\n",
      "[198/00001] train_loss: 0.076205, train_vertices_loss: 0.028714, train_edges_loss: 0.047492\n",
      "[199/00000] train_loss: 0.053465, train_vertices_loss: 0.020314, train_edges_loss: 0.033151\n",
      "[199/00001] train_loss: 0.065148, train_vertices_loss: 0.024782, train_edges_loss: 0.040367\n",
      "[199/00001] val_loss: 0.052409 | best_loss_val: 0.052409 | loss_vertices: 0.020026 | loss_edges: 0.032383\n",
      "[200/00000] train_loss: 0.051138, train_vertices_loss: 0.019412, train_edges_loss: 0.031726\n",
      "[200/00001] train_loss: 0.076001, train_vertices_loss: 0.028615, train_edges_loss: 0.047386\n",
      "[201/00000] train_loss: 0.054316, train_vertices_loss: 0.020202, train_edges_loss: 0.034114\n",
      "[201/00001] train_loss: 0.072856, train_vertices_loss: 0.032886, train_edges_loss: 0.039970\n",
      "[202/00000] train_loss: 0.068032, train_vertices_loss: 0.023560, train_edges_loss: 0.044472\n",
      "[202/00001] train_loss: 0.046226, train_vertices_loss: 0.018646, train_edges_loss: 0.027580\n",
      "[203/00000] train_loss: 0.063839, train_vertices_loss: 0.025312, train_edges_loss: 0.038527\n",
      "[203/00001] train_loss: 0.070080, train_vertices_loss: 0.029036, train_edges_loss: 0.041044\n",
      "[204/00000] train_loss: 0.072091, train_vertices_loss: 0.025246, train_edges_loss: 0.046845\n",
      "[204/00001] train_loss: 0.040054, train_vertices_loss: 0.015345, train_edges_loss: 0.024709\n",
      "[205/00000] train_loss: 0.059427, train_vertices_loss: 0.021903, train_edges_loss: 0.037524\n",
      "[205/00001] train_loss: 0.056419, train_vertices_loss: 0.021741, train_edges_loss: 0.034679\n",
      "[206/00000] train_loss: 0.046382, train_vertices_loss: 0.017957, train_edges_loss: 0.028424\n",
      "[206/00001] train_loss: 0.066018, train_vertices_loss: 0.023872, train_edges_loss: 0.042146\n",
      "[207/00000] train_loss: 0.045181, train_vertices_loss: 0.017701, train_edges_loss: 0.027481\n",
      "[207/00001] train_loss: 0.063723, train_vertices_loss: 0.022272, train_edges_loss: 0.041451\n",
      "[208/00000] train_loss: 0.045906, train_vertices_loss: 0.018635, train_edges_loss: 0.027272\n",
      "[208/00001] train_loss: 0.106975, train_vertices_loss: 0.052589, train_edges_loss: 0.054385\n",
      "[209/00000] train_loss: 0.083739, train_vertices_loss: 0.036929, train_edges_loss: 0.046811\n",
      "[209/00001] train_loss: 0.043794, train_vertices_loss: 0.016716, train_edges_loss: 0.027078\n",
      "[210/00000] train_loss: 0.074291, train_vertices_loss: 0.033360, train_edges_loss: 0.040931\n",
      "[210/00001] train_loss: 0.068736, train_vertices_loss: 0.027514, train_edges_loss: 0.041222\n",
      "[211/00000] train_loss: 0.057471, train_vertices_loss: 0.022543, train_edges_loss: 0.034929\n",
      "[211/00001] train_loss: 0.068298, train_vertices_loss: 0.028921, train_edges_loss: 0.039377\n",
      "[212/00000] train_loss: 0.059530, train_vertices_loss: 0.024069, train_edges_loss: 0.035460\n",
      "[212/00001] train_loss: 0.065183, train_vertices_loss: 0.025925, train_edges_loss: 0.039258\n",
      "[213/00000] train_loss: 0.064529, train_vertices_loss: 0.024193, train_edges_loss: 0.040336\n",
      "[213/00001] train_loss: 0.052002, train_vertices_loss: 0.021050, train_edges_loss: 0.030952\n",
      "[214/00000] train_loss: 0.065915, train_vertices_loss: 0.025455, train_edges_loss: 0.040461\n",
      "[214/00001] train_loss: 0.056166, train_vertices_loss: 0.021318, train_edges_loss: 0.034848\n",
      "[215/00000] train_loss: 0.080764, train_vertices_loss: 0.035090, train_edges_loss: 0.045674\n",
      "[215/00001] train_loss: 0.045415, train_vertices_loss: 0.018943, train_edges_loss: 0.026472\n",
      "[216/00000] train_loss: 0.057768, train_vertices_loss: 0.024266, train_edges_loss: 0.033502\n",
      "[216/00001] train_loss: 0.070436, train_vertices_loss: 0.028741, train_edges_loss: 0.041695\n",
      "[217/00000] train_loss: 0.056222, train_vertices_loss: 0.022897, train_edges_loss: 0.033325\n",
      "[217/00001] train_loss: 0.067466, train_vertices_loss: 0.028979, train_edges_loss: 0.038487\n",
      "[218/00000] train_loss: 0.050984, train_vertices_loss: 0.019954, train_edges_loss: 0.031031\n"
     ]
    },
    {
     "name": "stdout",
     "output_type": "stream",
     "text": [
      "[218/00001] train_loss: 0.066833, train_vertices_loss: 0.028683, train_edges_loss: 0.038150\n",
      "[219/00000] train_loss: 0.054447, train_vertices_loss: 0.022163, train_edges_loss: 0.032284\n",
      "[219/00001] train_loss: 0.064202, train_vertices_loss: 0.027022, train_edges_loss: 0.037181\n",
      "[220/00000] train_loss: 0.051991, train_vertices_loss: 0.020296, train_edges_loss: 0.031695\n",
      "[220/00001] train_loss: 0.070493, train_vertices_loss: 0.028914, train_edges_loss: 0.041579\n",
      "[221/00000] train_loss: 0.060146, train_vertices_loss: 0.023573, train_edges_loss: 0.036573\n",
      "[221/00001] train_loss: 0.059825, train_vertices_loss: 0.027486, train_edges_loss: 0.032339\n",
      "[222/00000] train_loss: 0.051170, train_vertices_loss: 0.020258, train_edges_loss: 0.030912\n",
      "[222/00001] train_loss: 0.064725, train_vertices_loss: 0.025481, train_edges_loss: 0.039244\n",
      "[223/00000] train_loss: 0.049884, train_vertices_loss: 0.022110, train_edges_loss: 0.027773\n",
      "[223/00001] train_loss: 0.065052, train_vertices_loss: 0.023249, train_edges_loss: 0.041803\n",
      "[224/00000] train_loss: 0.077122, train_vertices_loss: 0.031937, train_edges_loss: 0.045185\n",
      "[224/00001] train_loss: 0.045474, train_vertices_loss: 0.018131, train_edges_loss: 0.027343\n",
      "[224/00001] val_loss: 0.049606 | best_loss_val: 0.049606 | loss_vertices: 0.018236 | loss_edges: 0.031370\n",
      "[225/00000] train_loss: 0.068990, train_vertices_loss: 0.028290, train_edges_loss: 0.040700\n",
      "[225/00001] train_loss: 0.048996, train_vertices_loss: 0.020163, train_edges_loss: 0.028833\n",
      "[226/00000] train_loss: 0.057598, train_vertices_loss: 0.022978, train_edges_loss: 0.034620\n",
      "[226/00001] train_loss: 0.057458, train_vertices_loss: 0.022937, train_edges_loss: 0.034520\n",
      "[227/00000] train_loss: 0.056124, train_vertices_loss: 0.022000, train_edges_loss: 0.034124\n",
      "[227/00001] train_loss: 0.063258, train_vertices_loss: 0.025885, train_edges_loss: 0.037373\n",
      "[228/00000] train_loss: 0.052368, train_vertices_loss: 0.020721, train_edges_loss: 0.031647\n",
      "[228/00001] train_loss: 0.056259, train_vertices_loss: 0.020662, train_edges_loss: 0.035597\n",
      "[229/00000] train_loss: 0.050966, train_vertices_loss: 0.019395, train_edges_loss: 0.031572\n",
      "[229/00001] train_loss: 0.055995, train_vertices_loss: 0.020853, train_edges_loss: 0.035141\n",
      "[230/00000] train_loss: 0.041058, train_vertices_loss: 0.016552, train_edges_loss: 0.024506\n",
      "[230/00001] train_loss: 0.072906, train_vertices_loss: 0.027224, train_edges_loss: 0.045682\n",
      "[231/00000] train_loss: 0.048720, train_vertices_loss: 0.018324, train_edges_loss: 0.030396\n",
      "[231/00001] train_loss: 0.057714, train_vertices_loss: 0.022137, train_edges_loss: 0.035577\n",
      "[232/00000] train_loss: 0.047009, train_vertices_loss: 0.018617, train_edges_loss: 0.028392\n",
      "[232/00001] train_loss: 0.060309, train_vertices_loss: 0.023066, train_edges_loss: 0.037243\n",
      "[233/00000] train_loss: 0.045417, train_vertices_loss: 0.017477, train_edges_loss: 0.027940\n",
      "[233/00001] train_loss: 0.082149, train_vertices_loss: 0.036931, train_edges_loss: 0.045218\n",
      "[234/00000] train_loss: 0.038350, train_vertices_loss: 0.016386, train_edges_loss: 0.021964\n",
      "[234/00001] train_loss: 0.085710, train_vertices_loss: 0.029826, train_edges_loss: 0.055883\n",
      "[235/00000] train_loss: 0.052083, train_vertices_loss: 0.019853, train_edges_loss: 0.032230\n",
      "[235/00001] train_loss: 0.057976, train_vertices_loss: 0.022119, train_edges_loss: 0.035857\n",
      "[236/00000] train_loss: 0.050242, train_vertices_loss: 0.018617, train_edges_loss: 0.031625\n",
      "[236/00001] train_loss: 0.060507, train_vertices_loss: 0.025382, train_edges_loss: 0.035125\n",
      "[237/00000] train_loss: 0.050646, train_vertices_loss: 0.019566, train_edges_loss: 0.031080\n",
      "[237/00001] train_loss: 0.058595, train_vertices_loss: 0.022980, train_edges_loss: 0.035615\n",
      "[238/00000] train_loss: 0.051503, train_vertices_loss: 0.019479, train_edges_loss: 0.032024\n",
      "[238/00001] train_loss: 0.062795, train_vertices_loss: 0.026359, train_edges_loss: 0.036437\n",
      "[239/00000] train_loss: 0.050983, train_vertices_loss: 0.019052, train_edges_loss: 0.031931\n",
      "[239/00001] train_loss: 0.052995, train_vertices_loss: 0.020214, train_edges_loss: 0.032781\n",
      "[240/00000] train_loss: 0.041176, train_vertices_loss: 0.017811, train_edges_loss: 0.023365\n",
      "[240/00001] train_loss: 0.078906, train_vertices_loss: 0.029210, train_edges_loss: 0.049695\n",
      "[241/00000] train_loss: 0.067797, train_vertices_loss: 0.028583, train_edges_loss: 0.039214\n",
      "[241/00001] train_loss: 0.052594, train_vertices_loss: 0.022082, train_edges_loss: 0.030512\n",
      "[242/00000] train_loss: 0.052465, train_vertices_loss: 0.019522, train_edges_loss: 0.032943\n",
      "[242/00001] train_loss: 0.059725, train_vertices_loss: 0.026558, train_edges_loss: 0.033167\n",
      "[243/00000] train_loss: 0.056627, train_vertices_loss: 0.023460, train_edges_loss: 0.033167\n",
      "[243/00001] train_loss: 0.058000, train_vertices_loss: 0.022654, train_edges_loss: 0.035346\n",
      "[244/00000] train_loss: 0.045030, train_vertices_loss: 0.017345, train_edges_loss: 0.027685\n",
      "[244/00001] train_loss: 0.066840, train_vertices_loss: 0.025556, train_edges_loss: 0.041283\n",
      "[245/00000] train_loss: 0.056481, train_vertices_loss: 0.021755, train_edges_loss: 0.034727\n",
      "[245/00001] train_loss: 0.050146, train_vertices_loss: 0.018926, train_edges_loss: 0.031220\n",
      "[246/00000] train_loss: 0.055733, train_vertices_loss: 0.020797, train_edges_loss: 0.034936\n",
      "[246/00001] train_loss: 0.050742, train_vertices_loss: 0.020755, train_edges_loss: 0.029986\n",
      "[247/00000] train_loss: 0.046107, train_vertices_loss: 0.017622, train_edges_loss: 0.028485\n",
      "[247/00001] train_loss: 0.067982, train_vertices_loss: 0.027691, train_edges_loss: 0.040291\n",
      "[248/00000] train_loss: 0.045932, train_vertices_loss: 0.018065, train_edges_loss: 0.027867\n",
      "[248/00001] train_loss: 0.060331, train_vertices_loss: 0.023226, train_edges_loss: 0.037105\n",
      "[249/00000] train_loss: 0.046453, train_vertices_loss: 0.018285, train_edges_loss: 0.028168\n",
      "[249/00001] train_loss: 0.070229, train_vertices_loss: 0.028663, train_edges_loss: 0.041566\n",
      "[249/00001] val_loss: 0.049274 | best_loss_val: 0.049274 | loss_vertices: 0.019770 | loss_edges: 0.029504\n",
      "[250/00000] train_loss: 0.054920, train_vertices_loss: 0.021280, train_edges_loss: 0.033640\n",
      "[250/00001] train_loss: 0.049687, train_vertices_loss: 0.020248, train_edges_loss: 0.029439\n",
      "[251/00000] train_loss: 0.043532, train_vertices_loss: 0.018303, train_edges_loss: 0.025229\n",
      "[251/00001] train_loss: 0.072087, train_vertices_loss: 0.029477, train_edges_loss: 0.042610\n",
      "[252/00000] train_loss: 0.074137, train_vertices_loss: 0.027306, train_edges_loss: 0.046831\n",
      "[252/00001] train_loss: 0.043652, train_vertices_loss: 0.019626, train_edges_loss: 0.024026\n",
      "[253/00000] train_loss: 0.049578, train_vertices_loss: 0.019977, train_edges_loss: 0.029601\n",
      "[253/00001] train_loss: 0.057065, train_vertices_loss: 0.020912, train_edges_loss: 0.036153\n",
      "[254/00000] train_loss: 0.053329, train_vertices_loss: 0.021053, train_edges_loss: 0.032276\n",
      "[254/00001] train_loss: 0.054178, train_vertices_loss: 0.021210, train_edges_loss: 0.032968\n",
      "[255/00000] train_loss: 0.065416, train_vertices_loss: 0.026184, train_edges_loss: 0.039232\n",
      "[255/00001] train_loss: 0.051533, train_vertices_loss: 0.021491, train_edges_loss: 0.030042\n",
      "[256/00000] train_loss: 0.052546, train_vertices_loss: 0.021306, train_edges_loss: 0.031240\n",
      "[256/00001] train_loss: 0.051263, train_vertices_loss: 0.018858, train_edges_loss: 0.032405\n",
      "[257/00000] train_loss: 0.060112, train_vertices_loss: 0.024080, train_edges_loss: 0.036032\n",
      "[257/00001] train_loss: 0.041922, train_vertices_loss: 0.015992, train_edges_loss: 0.025930\n",
      "[258/00000] train_loss: 0.048349, train_vertices_loss: 0.018478, train_edges_loss: 0.029871\n",
      "[258/00001] train_loss: 0.062850, train_vertices_loss: 0.027883, train_edges_loss: 0.034967\n",
      "[259/00000] train_loss: 0.049558, train_vertices_loss: 0.018777, train_edges_loss: 0.030780\n",
      "[259/00001] train_loss: 0.055504, train_vertices_loss: 0.023400, train_edges_loss: 0.032104\n",
      "[260/00000] train_loss: 0.047254, train_vertices_loss: 0.019560, train_edges_loss: 0.027694\n",
      "[260/00001] train_loss: 0.060169, train_vertices_loss: 0.024455, train_edges_loss: 0.035714\n",
      "[261/00000] train_loss: 0.051031, train_vertices_loss: 0.020853, train_edges_loss: 0.030177\n",
      "[261/00001] train_loss: 0.055189, train_vertices_loss: 0.022922, train_edges_loss: 0.032267\n"
     ]
    },
    {
     "name": "stdout",
     "output_type": "stream",
     "text": [
      "[262/00000] train_loss: 0.049608, train_vertices_loss: 0.020683, train_edges_loss: 0.028925\n",
      "[262/00001] train_loss: 0.058036, train_vertices_loss: 0.022358, train_edges_loss: 0.035678\n",
      "[263/00000] train_loss: 0.059357, train_vertices_loss: 0.023267, train_edges_loss: 0.036090\n",
      "[263/00001] train_loss: 0.045625, train_vertices_loss: 0.018240, train_edges_loss: 0.027385\n",
      "[264/00000] train_loss: 0.052350, train_vertices_loss: 0.022480, train_edges_loss: 0.029870\n",
      "[264/00001] train_loss: 0.053352, train_vertices_loss: 0.020733, train_edges_loss: 0.032619\n",
      "[265/00000] train_loss: 0.057926, train_vertices_loss: 0.023011, train_edges_loss: 0.034915\n",
      "[265/00001] train_loss: 0.045759, train_vertices_loss: 0.017819, train_edges_loss: 0.027940\n",
      "[266/00000] train_loss: 0.074159, train_vertices_loss: 0.031427, train_edges_loss: 0.042732\n",
      "[266/00001] train_loss: 0.047019, train_vertices_loss: 0.019797, train_edges_loss: 0.027223\n",
      "[267/00000] train_loss: 0.064816, train_vertices_loss: 0.027876, train_edges_loss: 0.036941\n",
      "[267/00001] train_loss: 0.048280, train_vertices_loss: 0.020544, train_edges_loss: 0.027736\n",
      "[268/00000] train_loss: 0.043293, train_vertices_loss: 0.018216, train_edges_loss: 0.025077\n",
      "[268/00001] train_loss: 0.085111, train_vertices_loss: 0.033703, train_edges_loss: 0.051408\n",
      "[269/00000] train_loss: 0.055020, train_vertices_loss: 0.021723, train_edges_loss: 0.033298\n",
      "[269/00001] train_loss: 0.051729, train_vertices_loss: 0.021093, train_edges_loss: 0.030635\n",
      "[270/00000] train_loss: 0.062819, train_vertices_loss: 0.026330, train_edges_loss: 0.036489\n",
      "[270/00001] train_loss: 0.046178, train_vertices_loss: 0.017926, train_edges_loss: 0.028251\n",
      "[271/00000] train_loss: 0.041477, train_vertices_loss: 0.017454, train_edges_loss: 0.024023\n",
      "[271/00001] train_loss: 0.075781, train_vertices_loss: 0.031744, train_edges_loss: 0.044037\n",
      "[272/00000] train_loss: 0.046848, train_vertices_loss: 0.018483, train_edges_loss: 0.028365\n",
      "[272/00001] train_loss: 0.071769, train_vertices_loss: 0.028286, train_edges_loss: 0.043483\n",
      "[273/00000] train_loss: 0.045426, train_vertices_loss: 0.018533, train_edges_loss: 0.026893\n",
      "[273/00001] train_loss: 0.068481, train_vertices_loss: 0.027792, train_edges_loss: 0.040690\n",
      "[274/00000] train_loss: 0.051107, train_vertices_loss: 0.021730, train_edges_loss: 0.029377\n",
      "[274/00001] train_loss: 0.055996, train_vertices_loss: 0.021233, train_edges_loss: 0.034763\n",
      "[274/00001] val_loss: 0.048360 | best_loss_val: 0.048360 | loss_vertices: 0.020054 | loss_edges: 0.028306\n",
      "[275/00000] train_loss: 0.057216, train_vertices_loss: 0.022474, train_edges_loss: 0.034742\n",
      "[275/00001] train_loss: 0.044633, train_vertices_loss: 0.017495, train_edges_loss: 0.027138\n",
      "[276/00000] train_loss: 0.043125, train_vertices_loss: 0.016604, train_edges_loss: 0.026522\n",
      "[276/00001] train_loss: 0.065986, train_vertices_loss: 0.025950, train_edges_loss: 0.040035\n",
      "[277/00000] train_loss: 0.057700, train_vertices_loss: 0.022902, train_edges_loss: 0.034798\n",
      "[277/00001] train_loss: 0.048213, train_vertices_loss: 0.019850, train_edges_loss: 0.028363\n",
      "[278/00000] train_loss: 0.056161, train_vertices_loss: 0.022894, train_edges_loss: 0.033267\n",
      "[278/00001] train_loss: 0.045709, train_vertices_loss: 0.017077, train_edges_loss: 0.028632\n",
      "[279/00000] train_loss: 0.055341, train_vertices_loss: 0.020990, train_edges_loss: 0.034351\n",
      "[279/00001] train_loss: 0.047793, train_vertices_loss: 0.020267, train_edges_loss: 0.027526\n",
      "[280/00000] train_loss: 0.058804, train_vertices_loss: 0.023255, train_edges_loss: 0.035549\n",
      "[280/00001] train_loss: 0.044639, train_vertices_loss: 0.017744, train_edges_loss: 0.026895\n",
      "[281/00000] train_loss: 0.050426, train_vertices_loss: 0.019625, train_edges_loss: 0.030802\n",
      "[281/00001] train_loss: 0.047298, train_vertices_loss: 0.018291, train_edges_loss: 0.029006\n",
      "[282/00000] train_loss: 0.044091, train_vertices_loss: 0.016846, train_edges_loss: 0.027244\n",
      "[282/00001] train_loss: 0.058281, train_vertices_loss: 0.023244, train_edges_loss: 0.035036\n",
      "[283/00000] train_loss: 0.173561, train_vertices_loss: 0.098100, train_edges_loss: 0.075461\n",
      "[283/00001] train_loss: 0.033018, train_vertices_loss: 0.014492, train_edges_loss: 0.018527\n",
      "[284/00000] train_loss: 0.047274, train_vertices_loss: 0.018287, train_edges_loss: 0.028987\n",
      "[284/00001] train_loss: 0.060552, train_vertices_loss: 0.022824, train_edges_loss: 0.037727\n",
      "[285/00000] train_loss: 0.064111, train_vertices_loss: 0.025639, train_edges_loss: 0.038472\n",
      "[285/00001] train_loss: 0.046114, train_vertices_loss: 0.018740, train_edges_loss: 0.027375\n",
      "[286/00000] train_loss: 0.039731, train_vertices_loss: 0.018096, train_edges_loss: 0.021635\n",
      "[286/00001] train_loss: 0.167211, train_vertices_loss: 0.085837, train_edges_loss: 0.081374\n",
      "[287/00000] train_loss: 0.097043, train_vertices_loss: 0.042843, train_edges_loss: 0.054201\n",
      "[287/00001] train_loss: 0.035262, train_vertices_loss: 0.015267, train_edges_loss: 0.019995\n",
      "[288/00000] train_loss: 0.065016, train_vertices_loss: 0.027542, train_edges_loss: 0.037475\n",
      "[288/00001] train_loss: 0.064597, train_vertices_loss: 0.027119, train_edges_loss: 0.037478\n",
      "[289/00000] train_loss: 0.069048, train_vertices_loss: 0.029481, train_edges_loss: 0.039567\n",
      "[289/00001] train_loss: 0.057347, train_vertices_loss: 0.023919, train_edges_loss: 0.033429\n",
      "[290/00000] train_loss: 0.099054, train_vertices_loss: 0.048780, train_edges_loss: 0.050274\n",
      "[290/00001] train_loss: 0.048742, train_vertices_loss: 0.019274, train_edges_loss: 0.029468\n",
      "[291/00000] train_loss: 0.059729, train_vertices_loss: 0.024264, train_edges_loss: 0.035465\n",
      "[291/00001] train_loss: 0.073774, train_vertices_loss: 0.033040, train_edges_loss: 0.040734\n",
      "[292/00000] train_loss: 0.057546, train_vertices_loss: 0.021908, train_edges_loss: 0.035638\n",
      "[292/00001] train_loss: 0.058921, train_vertices_loss: 0.025440, train_edges_loss: 0.033482\n",
      "[293/00000] train_loss: 0.054010, train_vertices_loss: 0.022945, train_edges_loss: 0.031065\n",
      "[293/00001] train_loss: 0.061336, train_vertices_loss: 0.024038, train_edges_loss: 0.037298\n",
      "[294/00000] train_loss: 0.054117, train_vertices_loss: 0.022131, train_edges_loss: 0.031987\n",
      "[294/00001] train_loss: 0.059545, train_vertices_loss: 0.024338, train_edges_loss: 0.035207\n",
      "[295/00000] train_loss: 0.092734, train_vertices_loss: 0.041808, train_edges_loss: 0.050926\n",
      "[295/00001] train_loss: 0.041431, train_vertices_loss: 0.018222, train_edges_loss: 0.023209\n",
      "[296/00000] train_loss: 0.041971, train_vertices_loss: 0.016643, train_edges_loss: 0.025328\n",
      "[296/00001] train_loss: 0.083950, train_vertices_loss: 0.038416, train_edges_loss: 0.045534\n",
      "[297/00000] train_loss: 0.049904, train_vertices_loss: 0.022438, train_edges_loss: 0.027467\n",
      "[297/00001] train_loss: 0.077911, train_vertices_loss: 0.032845, train_edges_loss: 0.045066\n",
      "[298/00000] train_loss: 0.049962, train_vertices_loss: 0.021101, train_edges_loss: 0.028862\n",
      "[298/00001] train_loss: 0.070033, train_vertices_loss: 0.031141, train_edges_loss: 0.038891\n",
      "[299/00000] train_loss: 0.040897, train_vertices_loss: 0.018404, train_edges_loss: 0.022494\n",
      "[299/00001] train_loss: 0.173609, train_vertices_loss: 0.094920, train_edges_loss: 0.078689\n",
      "[299/00001] val_loss: 0.059110 | best_loss_val: 0.048360 | loss_vertices: 0.026005 | loss_edges: 0.033105\n",
      "[300/00000] train_loss: 0.054793, train_vertices_loss: 0.021487, train_edges_loss: 0.033305\n",
      "[300/00001] train_loss: 0.068501, train_vertices_loss: 0.028352, train_edges_loss: 0.040149\n",
      "[301/00000] train_loss: 0.061737, train_vertices_loss: 0.024827, train_edges_loss: 0.036910\n",
      "[301/00001] train_loss: 0.057246, train_vertices_loss: 0.025265, train_edges_loss: 0.031981\n",
      "[302/00000] train_loss: 0.049892, train_vertices_loss: 0.021434, train_edges_loss: 0.028457\n",
      "[302/00001] train_loss: 0.080212, train_vertices_loss: 0.033526, train_edges_loss: 0.046685\n",
      "[303/00000] train_loss: 0.057811, train_vertices_loss: 0.024913, train_edges_loss: 0.032898\n",
      "[303/00001] train_loss: 0.057520, train_vertices_loss: 0.023064, train_edges_loss: 0.034456\n",
      "[304/00000] train_loss: 0.055993, train_vertices_loss: 0.023963, train_edges_loss: 0.032030\n",
      "[304/00001] train_loss: 0.062869, train_vertices_loss: 0.027233, train_edges_loss: 0.035635\n",
      "[305/00000] train_loss: 0.048446, train_vertices_loss: 0.018831, train_edges_loss: 0.029615\n"
     ]
    },
    {
     "name": "stdout",
     "output_type": "stream",
     "text": [
      "[305/00001] train_loss: 0.061417, train_vertices_loss: 0.026348, train_edges_loss: 0.035069\n",
      "[306/00000] train_loss: 0.058748, train_vertices_loss: 0.026610, train_edges_loss: 0.032138\n",
      "[306/00001] train_loss: 0.058003, train_vertices_loss: 0.023250, train_edges_loss: 0.034753\n",
      "[307/00000] train_loss: 0.043878, train_vertices_loss: 0.020831, train_edges_loss: 0.023047\n",
      "[307/00001] train_loss: 0.069361, train_vertices_loss: 0.026302, train_edges_loss: 0.043059\n",
      "[308/00000] train_loss: 0.079870, train_vertices_loss: 0.033613, train_edges_loss: 0.046257\n",
      "[308/00001] train_loss: 0.043363, train_vertices_loss: 0.018979, train_edges_loss: 0.024384\n",
      "[309/00000] train_loss: 0.055130, train_vertices_loss: 0.023276, train_edges_loss: 0.031854\n",
      "[309/00001] train_loss: 0.053618, train_vertices_loss: 0.020453, train_edges_loss: 0.033165\n",
      "[310/00000] train_loss: 0.100992, train_vertices_loss: 0.040551, train_edges_loss: 0.060441\n",
      "[310/00001] train_loss: 0.038577, train_vertices_loss: 0.015914, train_edges_loss: 0.022663\n",
      "[311/00000] train_loss: 0.059970, train_vertices_loss: 0.024546, train_edges_loss: 0.035423\n",
      "[311/00001] train_loss: 0.051986, train_vertices_loss: 0.021617, train_edges_loss: 0.030369\n",
      "[312/00000] train_loss: 0.038580, train_vertices_loss: 0.015021, train_edges_loss: 0.023560\n",
      "[312/00001] train_loss: 0.106933, train_vertices_loss: 0.050717, train_edges_loss: 0.056216\n",
      "[313/00000] train_loss: 0.056290, train_vertices_loss: 0.023139, train_edges_loss: 0.033151\n",
      "[313/00001] train_loss: 0.053415, train_vertices_loss: 0.021605, train_edges_loss: 0.031810\n",
      "[314/00000] train_loss: 0.073447, train_vertices_loss: 0.030300, train_edges_loss: 0.043147\n",
      "[314/00001] train_loss: 0.042278, train_vertices_loss: 0.018146, train_edges_loss: 0.024131\n",
      "[315/00000] train_loss: 0.060441, train_vertices_loss: 0.025311, train_edges_loss: 0.035130\n",
      "[315/00001] train_loss: 0.055776, train_vertices_loss: 0.025401, train_edges_loss: 0.030375\n",
      "[316/00000] train_loss: 0.078838, train_vertices_loss: 0.034755, train_edges_loss: 0.044083\n",
      "[316/00001] train_loss: 0.043499, train_vertices_loss: 0.019440, train_edges_loss: 0.024059\n",
      "[317/00000] train_loss: 0.065120, train_vertices_loss: 0.028639, train_edges_loss: 0.036481\n",
      "[317/00001] train_loss: 0.046231, train_vertices_loss: 0.018095, train_edges_loss: 0.028136\n",
      "[318/00000] train_loss: 0.051482, train_vertices_loss: 0.022665, train_edges_loss: 0.028816\n",
      "[318/00001] train_loss: 0.058409, train_vertices_loss: 0.024713, train_edges_loss: 0.033696\n",
      "[319/00000] train_loss: 0.046356, train_vertices_loss: 0.019362, train_edges_loss: 0.026994\n",
      "[319/00001] train_loss: 0.063617, train_vertices_loss: 0.028197, train_edges_loss: 0.035420\n",
      "[320/00000] train_loss: 0.054446, train_vertices_loss: 0.023463, train_edges_loss: 0.030983\n",
      "[320/00001] train_loss: 0.055249, train_vertices_loss: 0.023347, train_edges_loss: 0.031902\n",
      "[321/00000] train_loss: 0.093494, train_vertices_loss: 0.043017, train_edges_loss: 0.050477\n",
      "[321/00001] train_loss: 0.044136, train_vertices_loss: 0.020451, train_edges_loss: 0.023684\n",
      "[322/00000] train_loss: 0.051372, train_vertices_loss: 0.020998, train_edges_loss: 0.030374\n",
      "[322/00001] train_loss: 0.052093, train_vertices_loss: 0.021714, train_edges_loss: 0.030380\n",
      "[323/00000] train_loss: 0.050986, train_vertices_loss: 0.021125, train_edges_loss: 0.029861\n",
      "[323/00001] train_loss: 0.052157, train_vertices_loss: 0.021645, train_edges_loss: 0.030512\n",
      "[324/00000] train_loss: 0.048391, train_vertices_loss: 0.020194, train_edges_loss: 0.028197\n",
      "[324/00001] train_loss: 0.059402, train_vertices_loss: 0.024786, train_edges_loss: 0.034617\n",
      "[324/00001] val_loss: 0.047463 | best_loss_val: 0.047463 | loss_vertices: 0.020807 | loss_edges: 0.026656\n",
      "[325/00000] train_loss: 0.050251, train_vertices_loss: 0.020359, train_edges_loss: 0.029892\n",
      "[325/00001] train_loss: 0.054414, train_vertices_loss: 0.023504, train_edges_loss: 0.030910\n",
      "[326/00000] train_loss: 0.066746, train_vertices_loss: 0.027001, train_edges_loss: 0.039746\n",
      "[326/00001] train_loss: 0.036432, train_vertices_loss: 0.015754, train_edges_loss: 0.020678\n",
      "[327/00000] train_loss: 0.050823, train_vertices_loss: 0.022783, train_edges_loss: 0.028040\n",
      "[327/00001] train_loss: 0.053755, train_vertices_loss: 0.021340, train_edges_loss: 0.032415\n",
      "[328/00000] train_loss: 0.049393, train_vertices_loss: 0.021983, train_edges_loss: 0.027410\n",
      "[328/00001] train_loss: 0.053063, train_vertices_loss: 0.021267, train_edges_loss: 0.031797\n",
      "[329/00000] train_loss: 0.051461, train_vertices_loss: 0.020409, train_edges_loss: 0.031052\n",
      "[329/00001] train_loss: 0.050149, train_vertices_loss: 0.020189, train_edges_loss: 0.029960\n",
      "[330/00000] train_loss: 0.077391, train_vertices_loss: 0.037358, train_edges_loss: 0.040033\n",
      "[330/00001] train_loss: 0.044933, train_vertices_loss: 0.019301, train_edges_loss: 0.025632\n",
      "[331/00000] train_loss: 0.057528, train_vertices_loss: 0.024133, train_edges_loss: 0.033395\n",
      "[331/00001] train_loss: 0.048054, train_vertices_loss: 0.020033, train_edges_loss: 0.028020\n",
      "[332/00000] train_loss: 0.052502, train_vertices_loss: 0.022992, train_edges_loss: 0.029509\n",
      "[332/00001] train_loss: 0.048229, train_vertices_loss: 0.019961, train_edges_loss: 0.028268\n",
      "[333/00000] train_loss: 0.049353, train_vertices_loss: 0.020170, train_edges_loss: 0.029182\n",
      "[333/00001] train_loss: 0.051107, train_vertices_loss: 0.021264, train_edges_loss: 0.029843\n",
      "[334/00000] train_loss: 0.073483, train_vertices_loss: 0.030156, train_edges_loss: 0.043327\n",
      "[334/00001] train_loss: 0.033136, train_vertices_loss: 0.015172, train_edges_loss: 0.017963\n",
      "[335/00000] train_loss: 0.056684, train_vertices_loss: 0.023130, train_edges_loss: 0.033554\n",
      "[335/00001] train_loss: 0.048761, train_vertices_loss: 0.022700, train_edges_loss: 0.026061\n",
      "[336/00000] train_loss: 0.042918, train_vertices_loss: 0.017458, train_edges_loss: 0.025460\n",
      "[336/00001] train_loss: 0.055111, train_vertices_loss: 0.023228, train_edges_loss: 0.031883\n",
      "[337/00000] train_loss: 0.051565, train_vertices_loss: 0.022742, train_edges_loss: 0.028823\n",
      "[337/00001] train_loss: 0.046596, train_vertices_loss: 0.018531, train_edges_loss: 0.028065\n",
      "[338/00000] train_loss: 0.034263, train_vertices_loss: 0.014143, train_edges_loss: 0.020120\n",
      "[338/00001] train_loss: 0.064826, train_vertices_loss: 0.026294, train_edges_loss: 0.038532\n",
      "[339/00000] train_loss: 0.041341, train_vertices_loss: 0.017527, train_edges_loss: 0.023814\n",
      "[339/00001] train_loss: 0.052016, train_vertices_loss: 0.020698, train_edges_loss: 0.031318\n",
      "[340/00000] train_loss: 0.040763, train_vertices_loss: 0.017967, train_edges_loss: 0.022795\n",
      "[340/00001] train_loss: 0.057645, train_vertices_loss: 0.022667, train_edges_loss: 0.034978\n",
      "[341/00000] train_loss: 0.044559, train_vertices_loss: 0.018940, train_edges_loss: 0.025619\n",
      "[341/00001] train_loss: 0.054469, train_vertices_loss: 0.021341, train_edges_loss: 0.033128\n",
      "[342/00000] train_loss: 0.044093, train_vertices_loss: 0.017536, train_edges_loss: 0.026557\n",
      "[342/00001] train_loss: 0.050810, train_vertices_loss: 0.020564, train_edges_loss: 0.030246\n",
      "[343/00000] train_loss: 0.044333, train_vertices_loss: 0.019754, train_edges_loss: 0.024579\n",
      "[343/00001] train_loss: 0.053976, train_vertices_loss: 0.020932, train_edges_loss: 0.033044\n",
      "[344/00000] train_loss: 0.048841, train_vertices_loss: 0.019787, train_edges_loss: 0.029053\n",
      "[344/00001] train_loss: 0.043639, train_vertices_loss: 0.017517, train_edges_loss: 0.026122\n",
      "[345/00000] train_loss: 0.047760, train_vertices_loss: 0.019143, train_edges_loss: 0.028617\n",
      "[345/00001] train_loss: 0.058227, train_vertices_loss: 0.027159, train_edges_loss: 0.031068\n",
      "[346/00000] train_loss: 0.050973, train_vertices_loss: 0.020323, train_edges_loss: 0.030650\n",
      "[346/00001] train_loss: 0.041407, train_vertices_loss: 0.017182, train_edges_loss: 0.024225\n",
      "[347/00000] train_loss: 0.039259, train_vertices_loss: 0.017082, train_edges_loss: 0.022177\n",
      "[347/00001] train_loss: 0.057044, train_vertices_loss: 0.022790, train_edges_loss: 0.034254\n",
      "[348/00000] train_loss: 0.047785, train_vertices_loss: 0.019050, train_edges_loss: 0.028735\n",
      "[348/00001] train_loss: 0.049791, train_vertices_loss: 0.020678, train_edges_loss: 0.029114\n",
      "[349/00000] train_loss: 0.046494, train_vertices_loss: 0.019607, train_edges_loss: 0.026887\n"
     ]
    },
    {
     "name": "stdout",
     "output_type": "stream",
     "text": [
      "[349/00001] train_loss: 0.049674, train_vertices_loss: 0.020802, train_edges_loss: 0.028872\n",
      "[349/00001] val_loss: 0.044754 | best_loss_val: 0.044754 | loss_vertices: 0.020404 | loss_edges: 0.024350\n",
      "[350/00000] train_loss: 0.054741, train_vertices_loss: 0.022499, train_edges_loss: 0.032241\n",
      "[350/00001] train_loss: 0.039338, train_vertices_loss: 0.017325, train_edges_loss: 0.022013\n",
      "[351/00000] train_loss: 0.053027, train_vertices_loss: 0.022426, train_edges_loss: 0.030602\n",
      "[351/00001] train_loss: 0.039678, train_vertices_loss: 0.015170, train_edges_loss: 0.024508\n",
      "[352/00000] train_loss: 0.047286, train_vertices_loss: 0.020370, train_edges_loss: 0.026915\n",
      "[352/00001] train_loss: 0.048853, train_vertices_loss: 0.020149, train_edges_loss: 0.028704\n",
      "[353/00000] train_loss: 0.040083, train_vertices_loss: 0.017178, train_edges_loss: 0.022905\n",
      "[353/00001] train_loss: 0.072969, train_vertices_loss: 0.033058, train_edges_loss: 0.039911\n",
      "[354/00000] train_loss: 0.048796, train_vertices_loss: 0.022030, train_edges_loss: 0.026766\n",
      "[354/00001] train_loss: 0.049561, train_vertices_loss: 0.019641, train_edges_loss: 0.029919\n",
      "[355/00000] train_loss: 0.045809, train_vertices_loss: 0.018816, train_edges_loss: 0.026994\n",
      "[355/00001] train_loss: 0.050900, train_vertices_loss: 0.022164, train_edges_loss: 0.028736\n",
      "[356/00000] train_loss: 0.050069, train_vertices_loss: 0.020906, train_edges_loss: 0.029163\n",
      "[356/00001] train_loss: 0.045171, train_vertices_loss: 0.019911, train_edges_loss: 0.025260\n",
      "[357/00000] train_loss: 0.055015, train_vertices_loss: 0.022998, train_edges_loss: 0.032017\n",
      "[357/00001] train_loss: 0.041060, train_vertices_loss: 0.017823, train_edges_loss: 0.023237\n",
      "[358/00000] train_loss: 0.067016, train_vertices_loss: 0.027550, train_edges_loss: 0.039466\n",
      "[358/00001] train_loss: 0.039977, train_vertices_loss: 0.017798, train_edges_loss: 0.022178\n",
      "[359/00000] train_loss: 0.042628, train_vertices_loss: 0.019371, train_edges_loss: 0.023256\n",
      "[359/00001] train_loss: 0.052288, train_vertices_loss: 0.020165, train_edges_loss: 0.032123\n",
      "[360/00000] train_loss: 0.044609, train_vertices_loss: 0.018200, train_edges_loss: 0.026408\n",
      "[360/00001] train_loss: 0.051003, train_vertices_loss: 0.022487, train_edges_loss: 0.028515\n"
     ]
    },
    {
     "name": "stderr",
     "output_type": "stream",
     "text": [
      "Traceback (most recent call last):\n",
      "  File \"/home/mohamed/anaconda3/envs/pytorch3d/lib/python3.9/multiprocessing/queues.py\", line 251, in _feed\n",
      "    send_bytes(obj)\n",
      "  File \"/home/mohamed/anaconda3/envs/pytorch3d/lib/python3.9/multiprocessing/connection.py\", line 205, in send_bytes\n",
      "    self._send_bytes(m[offset:offset + size])\n",
      "  File \"/home/mohamed/anaconda3/envs/pytorch3d/lib/python3.9/multiprocessing/connection.py\", line 416, in _send_bytes\n",
      "    self._send(header + buf)\n",
      "  File \"/home/mohamed/anaconda3/envs/pytorch3d/lib/python3.9/multiprocessing/connection.py\", line 373, in _send\n",
      "    n = write(self._handle, buf)\n",
      "BrokenPipeError: [Errno 32] Broken pipe\n"
     ]
    },
    {
     "ename": "KeyboardInterrupt",
     "evalue": "",
     "output_type": "error",
     "traceback": [
      "\u001b[0;31m---------------------------------------------------------------------------\u001b[0m",
      "\u001b[0;31mKeyboardInterrupt\u001b[0m                         Traceback (most recent call last)",
      "Input \u001b[0;32mIn [6]\u001b[0m, in \u001b[0;36m<module>\u001b[0;34m\u001b[0m\n\u001b[1;32m      1\u001b[0m \u001b[38;5;28;01mfrom\u001b[39;00m \u001b[38;5;21;01mtraining\u001b[39;00m \u001b[38;5;28;01mimport\u001b[39;00m vertix_edge_train\n\u001b[0;32m----> 3\u001b[0m \u001b[43mvertix_edge_train\u001b[49m\u001b[38;5;241;43m.\u001b[39;49m\u001b[43mmain\u001b[49m\u001b[43m(\u001b[49m\u001b[43mconfig\u001b[49m\u001b[43m)\u001b[49m\n",
      "File \u001b[0;32m~/TUM/first_semester/ML43D_Geometry/Scan2Mesh/training/vertix_edge_train.py:205\u001b[0m, in \u001b[0;36mmain\u001b[0;34m(config)\u001b[0m\n\u001b[1;32m    202\u001b[0m Path(\u001b[38;5;124mf\u001b[39m\u001b[38;5;124m'\u001b[39m\u001b[38;5;124mruns/\u001b[39m\u001b[38;5;132;01m{\u001b[39;00mconfig[\u001b[38;5;124m\"\u001b[39m\u001b[38;5;124mexperiment_name\u001b[39m\u001b[38;5;124m\"\u001b[39m]\u001b[38;5;132;01m}\u001b[39;00m\u001b[38;5;124m'\u001b[39m)\u001b[38;5;241m.\u001b[39mmkdir(exist_ok\u001b[38;5;241m=\u001b[39m\u001b[38;5;28;01mTrue\u001b[39;00m, parents\u001b[38;5;241m=\u001b[39m\u001b[38;5;28;01mTrue\u001b[39;00m)\n\u001b[1;32m    204\u001b[0m \u001b[38;5;66;03m# Start training\u001b[39;00m\n\u001b[0;32m--> 205\u001b[0m \u001b[43mtrain\u001b[49m\u001b[43m(\u001b[49m\u001b[43mmodel\u001b[49m\u001b[43m,\u001b[49m\u001b[43m \u001b[49m\u001b[43mtrain_dataloader\u001b[49m\u001b[43m,\u001b[49m\u001b[43m \u001b[49m\u001b[43mval_dataloader\u001b[49m\u001b[43m,\u001b[49m\u001b[43m \u001b[49m\u001b[43mdevice\u001b[49m\u001b[43m,\u001b[49m\u001b[43m \u001b[49m\u001b[43mconfig\u001b[49m\u001b[43m)\u001b[49m\n",
      "File \u001b[0;32m~/TUM/first_semester/ML43D_Geometry/Scan2Mesh/training/vertix_edge_train.py:77\u001b[0m, in \u001b[0;36mtrain\u001b[0;34m(model, train_dataloader, val_dataloader, device, config)\u001b[0m\n\u001b[1;32m     73\u001b[0m loss_edges \u001b[38;5;241m=\u001b[39m cross_entropy(edges, target_edges\u001b[38;5;241m.\u001b[39mlong())\n\u001b[1;32m     75\u001b[0m loss \u001b[38;5;241m=\u001b[39m loss_vertices \u001b[38;5;241m+\u001b[39m loss_edges\n\u001b[0;32m---> 77\u001b[0m \u001b[43mloss\u001b[49m\u001b[38;5;241;43m.\u001b[39;49m\u001b[43mbackward\u001b[49m\u001b[43m(\u001b[49m\u001b[43m)\u001b[49m\n\u001b[1;32m     79\u001b[0m optimizer\u001b[38;5;241m.\u001b[39mstep()\n\u001b[1;32m     81\u001b[0m \u001b[38;5;66;03m# Logging\u001b[39;00m\n",
      "File \u001b[0;32m~/anaconda3/envs/pytorch3d/lib/python3.9/site-packages/torch/_tensor.py:307\u001b[0m, in \u001b[0;36mTensor.backward\u001b[0;34m(self, gradient, retain_graph, create_graph, inputs)\u001b[0m\n\u001b[1;32m    298\u001b[0m \u001b[38;5;28;01mif\u001b[39;00m has_torch_function_unary(\u001b[38;5;28mself\u001b[39m):\n\u001b[1;32m    299\u001b[0m     \u001b[38;5;28;01mreturn\u001b[39;00m handle_torch_function(\n\u001b[1;32m    300\u001b[0m         Tensor\u001b[38;5;241m.\u001b[39mbackward,\n\u001b[1;32m    301\u001b[0m         (\u001b[38;5;28mself\u001b[39m,),\n\u001b[0;32m   (...)\u001b[0m\n\u001b[1;32m    305\u001b[0m         create_graph\u001b[38;5;241m=\u001b[39mcreate_graph,\n\u001b[1;32m    306\u001b[0m         inputs\u001b[38;5;241m=\u001b[39minputs)\n\u001b[0;32m--> 307\u001b[0m \u001b[43mtorch\u001b[49m\u001b[38;5;241;43m.\u001b[39;49m\u001b[43mautograd\u001b[49m\u001b[38;5;241;43m.\u001b[39;49m\u001b[43mbackward\u001b[49m\u001b[43m(\u001b[49m\u001b[38;5;28;43mself\u001b[39;49m\u001b[43m,\u001b[49m\u001b[43m \u001b[49m\u001b[43mgradient\u001b[49m\u001b[43m,\u001b[49m\u001b[43m \u001b[49m\u001b[43mretain_graph\u001b[49m\u001b[43m,\u001b[49m\u001b[43m \u001b[49m\u001b[43mcreate_graph\u001b[49m\u001b[43m,\u001b[49m\u001b[43m \u001b[49m\u001b[43minputs\u001b[49m\u001b[38;5;241;43m=\u001b[39;49m\u001b[43minputs\u001b[49m\u001b[43m)\u001b[49m\n",
      "File \u001b[0;32m~/anaconda3/envs/pytorch3d/lib/python3.9/site-packages/torch/autograd/__init__.py:154\u001b[0m, in \u001b[0;36mbackward\u001b[0;34m(tensors, grad_tensors, retain_graph, create_graph, grad_variables, inputs)\u001b[0m\n\u001b[1;32m    151\u001b[0m \u001b[38;5;28;01mif\u001b[39;00m retain_graph \u001b[38;5;129;01mis\u001b[39;00m \u001b[38;5;28;01mNone\u001b[39;00m:\n\u001b[1;32m    152\u001b[0m     retain_graph \u001b[38;5;241m=\u001b[39m create_graph\n\u001b[0;32m--> 154\u001b[0m \u001b[43mVariable\u001b[49m\u001b[38;5;241;43m.\u001b[39;49m\u001b[43m_execution_engine\u001b[49m\u001b[38;5;241;43m.\u001b[39;49m\u001b[43mrun_backward\u001b[49m\u001b[43m(\u001b[49m\n\u001b[1;32m    155\u001b[0m \u001b[43m    \u001b[49m\u001b[43mtensors\u001b[49m\u001b[43m,\u001b[49m\u001b[43m \u001b[49m\u001b[43mgrad_tensors_\u001b[49m\u001b[43m,\u001b[49m\u001b[43m \u001b[49m\u001b[43mretain_graph\u001b[49m\u001b[43m,\u001b[49m\u001b[43m \u001b[49m\u001b[43mcreate_graph\u001b[49m\u001b[43m,\u001b[49m\u001b[43m \u001b[49m\u001b[43minputs\u001b[49m\u001b[43m,\u001b[49m\n\u001b[1;32m    156\u001b[0m \u001b[43m    \u001b[49m\u001b[43mallow_unreachable\u001b[49m\u001b[38;5;241;43m=\u001b[39;49m\u001b[38;5;28;43;01mTrue\u001b[39;49;00m\u001b[43m,\u001b[49m\u001b[43m \u001b[49m\u001b[43maccumulate_grad\u001b[49m\u001b[38;5;241;43m=\u001b[39;49m\u001b[38;5;28;43;01mTrue\u001b[39;49;00m\u001b[43m)\u001b[49m\n",
      "\u001b[0;31mKeyboardInterrupt\u001b[0m: "
     ]
    }
   ],
   "source": [
    "from training import vertix_edge_train\n",
    "\n",
    "vertix_edge_train.main(config)"
   ]
  },
  {
   "cell_type": "code",
   "execution_count": 7,
   "id": "fe04aceb",
   "metadata": {},
   "outputs": [],
   "source": [
    "from inference.inference_vertix_edge import InferenceHandlerVertixEdgeModel\n",
    "\n",
    "# create a handler for inference using a trained checkpoint\n",
    "inferer = InferenceHandlerVertixEdgeModel('runs/vertix_edge_overfitting/model_best.ckpt', config[\"num_vertices\"], config[\"feature_size\"])"
   ]
  },
  {
   "cell_type": "code",
   "execution_count": 8,
   "id": "dcadb433",
   "metadata": {},
   "outputs": [],
   "source": [
    "x_indices = []\n",
    "y_indices = []\n",
    "\n",
    "graph = np.ones((1,config[\"num_vertices\"], config[\"num_vertices\"],1))\n",
    "\n",
    "for i in range(config[\"num_vertices\"]):\n",
    "    for j in range(config[\"num_vertices\"]):\n",
    "        x_indices.append(i)\n",
    "        y_indices.append(j)"
   ]
  },
  {
   "cell_type": "code",
   "execution_count": 31,
   "id": "60263481",
   "metadata": {},
   "outputs": [],
   "source": [
    "random_sample = random.randint(0,len(dataset))"
   ]
  },
  {
   "cell_type": "code",
   "execution_count": 32,
   "id": "3d9be6cd",
   "metadata": {},
   "outputs": [],
   "source": [
    "random_input = dataset[random_sample][\"input_sdf\"]\n",
    "gt_pointcloud = dataset[random_sample][\"target_vertices\"]\n",
    "gt_mask = dataset[random_sample][\"input_mask\"]\n",
    "gt_edges = dataset[random_sample][\"target_edges\"]\n",
    "#faces = dataset[random_sample][\"faces\"]"
   ]
  },
  {
   "cell_type": "code",
   "execution_count": 33,
   "id": "b09f2a46",
   "metadata": {},
   "outputs": [],
   "source": [
    "faces = []\n",
    "\n",
    "for i in range(num_vertices):\n",
    "    for j in range(num_vertices):\n",
    "        for k in range(num_vertices):\n",
    "            if gt_edges[i][j] and gt_edges[j][k]:\n",
    "                faces.append(np.array([i,j,k]).reshape(1,-1))"
   ]
  },
  {
   "cell_type": "code",
   "execution_count": null,
   "id": "5d8e0ca0",
   "metadata": {},
   "outputs": [],
   "source": []
  },
  {
   "cell_type": "code",
   "execution_count": 34,
   "id": "bff03402",
   "metadata": {},
   "outputs": [],
   "source": [
    "faces = np.concatenate(faces,0)"
   ]
  },
  {
   "cell_type": "code",
   "execution_count": 35,
   "id": "c738f0f8",
   "metadata": {},
   "outputs": [
    {
     "data": {
      "application/vnd.jupyter.widget-view+json": {
       "model_id": "7855eced51554893a4c24f97457f5b14",
       "version_major": 2,
       "version_minor": 0
      },
      "text/plain": [
       "Output()"
      ]
     },
     "metadata": {},
     "output_type": "display_data"
    }
   ],
   "source": [
    "visualize_pointcloud(gt_pointcloud, point_size=0.01)"
   ]
  },
  {
   "cell_type": "code",
   "execution_count": 36,
   "id": "03334c13",
   "metadata": {},
   "outputs": [
    {
     "data": {
      "application/vnd.jupyter.widget-view+json": {
       "model_id": "6fe62f2b3b7c4b8c9860f0fc2ce57e6a",
       "version_major": 2,
       "version_minor": 0
      },
      "text/plain": [
       "Output()"
      ]
     },
     "metadata": {},
     "output_type": "display_data"
    }
   ],
   "source": [
    "visualize_mesh(gt_pointcloud, faces)"
   ]
  },
  {
   "cell_type": "code",
   "execution_count": 37,
   "id": "5f2e1184",
   "metadata": {},
   "outputs": [],
   "source": [
    "output_pointcloud, edges = inferer.infer_single(random_input, gt_mask, x_indices,y_indices,graph)"
   ]
  },
  {
   "cell_type": "code",
   "execution_count": 38,
   "id": "6c652215",
   "metadata": {},
   "outputs": [
    {
     "data": {
      "text/plain": [
       "(150, 150)"
      ]
     },
     "execution_count": 38,
     "metadata": {},
     "output_type": "execute_result"
    }
   ],
   "source": [
    "edges.shape"
   ]
  },
  {
   "cell_type": "code",
   "execution_count": null,
   "id": "be734189",
   "metadata": {},
   "outputs": [],
   "source": []
  },
  {
   "cell_type": "code",
   "execution_count": 41,
   "id": "0e5f7ffc",
   "metadata": {},
   "outputs": [],
   "source": [
    "faces = []\n",
    "\n",
    "for i in range(num_vertices):\n",
    "    for j in range(num_vertices):\n",
    "        for k in range(num_vertices):\n",
    "            if gt_edges[i][j] and gt_edges[j][k]:\n",
    "                faces.append(np.array([i,j,k]).reshape(1,-1))\n",
    "faces = np.concatenate(faces,0)"
   ]
  },
  {
   "cell_type": "code",
   "execution_count": 42,
   "id": "795bd0be",
   "metadata": {},
   "outputs": [
    {
     "data": {
      "application/vnd.jupyter.widget-view+json": {
       "model_id": "beb9ea977d9541348da668d8b67bcb91",
       "version_major": 2,
       "version_minor": 0
      },
      "text/plain": [
       "Output()"
      ]
     },
     "metadata": {},
     "output_type": "display_data"
    }
   ],
   "source": [
    "visualize_pointcloud(output_pointcloud[:int(gt_mask.sum())].squeeze(),point_size=0.01)"
   ]
  },
  {
   "cell_type": "code",
   "execution_count": null,
   "id": "2651e1a9",
   "metadata": {},
   "outputs": [],
   "source": []
  },
  {
   "cell_type": "code",
   "execution_count": null,
   "id": "ddbdd227",
   "metadata": {},
   "outputs": [],
   "source": []
  },
  {
   "cell_type": "code",
   "execution_count": 40,
   "id": "8bd6cfd0",
   "metadata": {},
   "outputs": [
    {
     "data": {
      "text/plain": [
       "149"
      ]
     },
     "execution_count": 40,
     "metadata": {},
     "output_type": "execute_result"
    }
   ],
   "source": [
    "edges.sum()"
   ]
  },
  {
   "cell_type": "code",
   "execution_count": 41,
   "id": "64fdb434",
   "metadata": {},
   "outputs": [
    {
     "data": {
      "text/plain": [
       "132.0"
      ]
     },
     "execution_count": 41,
     "metadata": {},
     "output_type": "execute_result"
    }
   ],
   "source": [
    "gt_edges.sum()"
   ]
  },
  {
   "cell_type": "code",
   "execution_count": 43,
   "id": "3fa3ff6b",
   "metadata": {},
   "outputs": [],
   "source": [
    "faces = []\n",
    "\n",
    "for i in range(num_vertices):\n",
    "    for j in range(num_vertices):\n",
    "        for k in range(num_vertices):\n",
    "            if edges[i][j] and edges[j][k]:\n",
    "                faces.append(np.array([i,j,k]).reshape(1,-1))"
   ]
  },
  {
   "cell_type": "code",
   "execution_count": 44,
   "id": "41f2cb07",
   "metadata": {},
   "outputs": [],
   "source": [
    "faces = np.concatenate(faces,0)"
   ]
  },
  {
   "cell_type": "code",
   "execution_count": 45,
   "id": "9cf6bf6d",
   "metadata": {},
   "outputs": [
    {
     "data": {
      "application/vnd.jupyter.widget-view+json": {
       "model_id": "1e03c4bbcd7e4030a682d80eabc825e1",
       "version_major": 2,
       "version_minor": 0
      },
      "text/plain": [
       "Output()"
      ]
     },
     "metadata": {},
     "output_type": "display_data"
    }
   ],
   "source": [
    "visualize_mesh(output_pointcloud,faces)"
   ]
  },
  {
   "cell_type": "code",
   "execution_count": 1,
   "id": "e66d0cea",
   "metadata": {},
   "outputs": [
    {
     "ename": "NameError",
     "evalue": "name 'algorithm' is not defined",
     "output_type": "error",
     "traceback": [
      "\u001b[0;31m---------------------------------------------------------------------------\u001b[0m",
      "\u001b[0;31mNameError\u001b[0m                                 Traceback (most recent call last)",
      "Input \u001b[0;32mIn [1]\u001b[0m, in \u001b[0;36m<module>\u001b[0;34m\u001b[0m\n\u001b[0;32m----> 1\u001b[0m \u001b[43malgorithm\u001b[49m\u001b[38;5;241m.\u001b[39mfind_matching(G, matching_type \u001b[38;5;241m=\u001b[39m \u001b[38;5;124m'\u001b[39m\u001b[38;5;124mmax\u001b[39m\u001b[38;5;124m'\u001b[39m, return_type \u001b[38;5;241m=\u001b[39m \u001b[38;5;124m'\u001b[39m\u001b[38;5;124mlist\u001b[39m\u001b[38;5;124m'\u001b[39m)\n",
      "\u001b[0;31mNameError\u001b[0m: name 'algorithm' is not defined"
     ]
    }
   ],
   "source": []
  },
  {
   "cell_type": "code",
   "execution_count": null,
   "id": "729713a6",
   "metadata": {},
   "outputs": [],
   "source": []
  }
 ],
 "metadata": {
  "kernelspec": {
   "display_name": "Python [conda env:pytorch3d]",
   "language": "python",
   "name": "conda-env-pytorch3d-py"
  },
  "language_info": {
   "codemirror_mode": {
    "name": "ipython",
    "version": 3
   },
   "file_extension": ".py",
   "mimetype": "text/x-python",
   "name": "python",
   "nbconvert_exporter": "python",
   "pygments_lexer": "ipython3",
   "version": "3.9.7"
  }
 },
 "nbformat": 4,
 "nbformat_minor": 5
}
