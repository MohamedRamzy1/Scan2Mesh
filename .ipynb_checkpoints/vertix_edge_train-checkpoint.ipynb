{
 "cells": [
  {
   "cell_type": "code",
   "execution_count": 1,
   "id": "f0750b6f",
   "metadata": {},
   "outputs": [],
   "source": [
    "import torch\n",
    "from data.shapenet import ShapeNet\n",
    "from model.vertix_model import VertixModel\n",
    "import tqdm\n",
    "from util.visualization import visualize_pointcloud, visualize_mesh\n",
    "import random\n",
    "%load_ext autoreload\n",
    "%autoreload 2\n",
    "import numpy as np\n",
    "import pickle\n",
    "from scipy.spatial import distance_matrix\n",
    "from scipy.optimize import linear_sum_assignment"
   ]
  },
  {
   "cell_type": "code",
   "execution_count": 2,
   "id": "62ecccda",
   "metadata": {},
   "outputs": [],
   "source": [
    "num_vertices = 100"
   ]
  },
  {
   "cell_type": "code",
   "execution_count": 3,
   "id": "cbe67a4b",
   "metadata": {},
   "outputs": [],
   "source": [
    "config = {\n",
    "    'experiment_name': 'vertix_edge_overfitting',\n",
    "    'device': 'cuda:0',  \n",
    "    'is_overfit': True,\n",
    "    'batch_size': 2,\n",
    "    'resume_ckpt': False,\n",
    "    'learning_rate': 5e-4,\n",
    "    'max_epochs': 50000,\n",
    "    'print_every_n': 1,\n",
    "    'validate_every_n': 1,\n",
    "    'sdf_path': 'data/shapenet_dim32_sdf',\n",
    "    'meshes_path': 'data/shapenet_reduced',\n",
    "    'class_mapping': 'data/shape_info.json',\n",
    "    'split': 'overfit',\n",
    "    'num_vertices': num_vertices,\n",
    "    'feature_size': 512,\n",
    "    'num_trajectories': 2,\n",
    "    'overfit_single': True\n",
    "}"
   ]
  },
  {
   "cell_type": "code",
   "execution_count": 4,
   "id": "33d4f501",
   "metadata": {},
   "outputs": [],
   "source": [
    "dataset = ShapeNet(sdf_path=config[\"sdf_path\"],\n",
    "                         meshes_path=config[\"meshes_path\"],\n",
    "                         class_mapping=config[\"class_mapping\"],\n",
    "                         split = \"overfit\", threshold=config[\"num_vertices\"], num_trajectories=config[\"num_trajectories\"])\n"
   ]
  },
  {
   "cell_type": "code",
   "execution_count": 5,
   "id": "d148f352",
   "metadata": {},
   "outputs": [
    {
     "name": "stdout",
     "output_type": "stream",
     "text": [
      "Length of dataset: 697\n",
      "Filtering data ..\n"
     ]
    },
    {
     "name": "stderr",
     "output_type": "stream",
     "text": [
      "100%|██████████████████████████████████████████████████████████████████████████████████████████████████████████████████████████████████████████████████████████████████████████████████████████████████████████████████████████████████████████| 697/697 [00:00<00:00, 4772.89it/s]"
     ]
    },
    {
     "name": "stdout",
     "output_type": "stream",
     "text": [
      "Length of dataset: 128\n"
     ]
    },
    {
     "name": "stderr",
     "output_type": "stream",
     "text": [
      "\n"
     ]
    }
   ],
   "source": [
    "dataset.filter_data()"
   ]
  },
  {
   "cell_type": "code",
   "execution_count": 6,
   "id": "7ace08c6",
   "metadata": {},
   "outputs": [],
   "source": [
    "dataset.items = [dataset.items[0], dataset.items[1]]"
   ]
  },
  {
   "cell_type": "code",
   "execution_count": null,
   "id": "0a969311",
   "metadata": {
    "scrolled": true
   },
   "outputs": [
    {
     "name": "stdout",
     "output_type": "stream",
     "text": [
      "Device: cuda:0\n",
      "Length of dataset: 697\n",
      "Filtering data ..\n"
     ]
    },
    {
     "name": "stderr",
     "output_type": "stream",
     "text": [
      "100%|██████████████████████████████████████████████████████████████████████████████████████████████████████████████████████████████████████████████████████████████████████████████████████████████████████████████████████████████████████████| 697/697 [00:00<00:00, 5116.46it/s]\n"
     ]
    },
    {
     "name": "stdout",
     "output_type": "stream",
     "text": [
      "Length of dataset: 128\n"
     ]
    },
    {
     "name": "stderr",
     "output_type": "stream",
     "text": [
      "100%|████████████████████████████████████████████████████████████████████████████████████████████████████████████████████████████████████████████████████████████████████████████████████████████████████████████████████████████████████████| 128/128 [00:00<00:00, 888859.13it/s]\n"
     ]
    },
    {
     "name": "stdout",
     "output_type": "stream",
     "text": [
      "Class 03001627 has 23 shapes\n",
      "Class 04379243 has 45 shapes\n",
      "Class 03636649 has 3 shapes\n",
      "Class 02933112 has 11 shapes\n",
      "Class 04530566 has 9 shapes\n",
      "Class 02958343 has 13 shapes\n",
      "Class 04256520 has 16 shapes\n",
      "Class 02691156 has 8 shapes\n",
      "Length of dataset: 697\n",
      "Filtering data ..\n"
     ]
    },
    {
     "name": "stderr",
     "output_type": "stream",
     "text": [
      "100%|██████████████████████████████████████████████████████████████████████████████████████████████████████████████████████████████████████████████████████████████████████████████████████████████████████████████████████████████████████████| 697/697 [00:00<00:00, 5139.36it/s]\n"
     ]
    },
    {
     "name": "stdout",
     "output_type": "stream",
     "text": [
      "Length of dataset: 128\n"
     ]
    },
    {
     "name": "stderr",
     "output_type": "stream",
     "text": [
      "100%|████████████████████████████████████████████████████████████████████████████████████████████████████████████████████████████████████████████████████████████████████████████████████████████████████████████████████████████████████████| 128/128 [00:00<00:00, 795364.31it/s]\n"
     ]
    },
    {
     "name": "stdout",
     "output_type": "stream",
     "text": [
      "Class 03001627 has 23 shapes\n",
      "Class 04379243 has 45 shapes\n",
      "Class 03636649 has 3 shapes\n",
      "Class 02933112 has 11 shapes\n",
      "Class 04530566 has 9 shapes\n",
      "Class 02958343 has 13 shapes\n",
      "Class 04256520 has 16 shapes\n",
      "Class 02691156 has 8 shapes\n",
      "[000/00000] train_loss: 0.111540\n"
     ]
    },
    {
     "name": "stderr",
     "output_type": "stream",
     "text": [
      "[W pthreadpool-cpp.cc:90] Warning: Leaking Caffe2 thread-pool after fork. (function pthreadpool)\n",
      "[W pthreadpool-cpp.cc:90] Warning: Leaking Caffe2 thread-pool after fork. (function pthreadpool)\n"
     ]
    },
    {
     "name": "stdout",
     "output_type": "stream",
     "text": [
      "tensor(11684.1418, device='cuda:0', dtype=torch.float64)\n",
      "tensor(22745.3019, device='cuda:0', dtype=torch.float64)\n",
      "tensor(-7125.2674, device='cuda:0', dtype=torch.float64)\n"
     ]
    },
    {
     "name": "stderr",
     "output_type": "stream",
     "text": [
      "[W pthreadpool-cpp.cc:90] Warning: Leaking Caffe2 thread-pool after fork. (function pthreadpool)\n",
      "[W pthreadpool-cpp.cc:90] Warning: Leaking Caffe2 thread-pool after fork. (function pthreadpool)\n"
     ]
    },
    {
     "name": "stdout",
     "output_type": "stream",
     "text": [
      "tensor(4250.9592, device='cuda:0', dtype=torch.float64)\n",
      "tensor(9792.5155, device='cuda:0', dtype=torch.float64)\n",
      "tensor(11968.0789, device='cuda:0', dtype=torch.float64)\n",
      "tensor(-19821.5402, device='cuda:0', dtype=torch.float64)\n",
      "tensor(-14414.0691, device='cuda:0', dtype=torch.float64)\n",
      "tensor(4113.2253, device='cuda:0', dtype=torch.float64)\n",
      "tensor(17598.9173, device='cuda:0', dtype=torch.float64)\n",
      "tensor(-53569.1033, device='cuda:0', dtype=torch.float64)\n",
      "tensor(-20566.3386, device='cuda:0', dtype=torch.float64)\n",
      "tensor(-27571.3737, device='cuda:0', dtype=torch.float64)\n",
      "tensor(12269.3525, device='cuda:0', dtype=torch.float64)\n",
      "tensor(14723.5881, device='cuda:0', dtype=torch.float64)\n",
      "tensor(18730.9853, device='cuda:0', dtype=torch.float64)\n",
      "tensor(-27472.0336, device='cuda:0', dtype=torch.float64)\n",
      "tensor(-23914.0638, device='cuda:0', dtype=torch.float64)\n",
      "tensor(-40076.9165, device='cuda:0', dtype=torch.float64)\n",
      "tensor(-44410.6502, device='cuda:0', dtype=torch.float64)\n",
      "tensor(13118.1789, device='cuda:0', dtype=torch.float64)\n",
      "tensor(-14228.9194, device='cuda:0', dtype=torch.float64)\n",
      "tensor(-72435.2074, device='cuda:0', dtype=torch.float64)\n",
      "tensor(-99170.7170, device='cuda:0', dtype=torch.float64)\n",
      "tensor(-11206.1478, device='cuda:0', dtype=torch.float64)\n",
      "tensor(-3546.6685, device='cuda:0', dtype=torch.float64)\n",
      "tensor(-25835.2196, device='cuda:0', dtype=torch.float64)\n",
      "tensor(7890.3673, device='cuda:0', dtype=torch.float64)\n",
      "tensor(25587.4701, device='cuda:0', dtype=torch.float64)\n",
      "tensor(-9933.6016, device='cuda:0', dtype=torch.float64)\n",
      "tensor(-22271.0563, device='cuda:0', dtype=torch.float64)\n",
      "tensor(20814.6209, device='cuda:0', dtype=torch.float64)\n",
      "tensor(8827.3172, device='cuda:0', dtype=torch.float64)\n",
      "tensor(1735.6981, device='cuda:0', dtype=torch.float64)\n",
      "tensor(-3864.1689, device='cuda:0', dtype=torch.float64)\n",
      "tensor(-3917.5037, device='cuda:0', dtype=torch.float64)\n",
      "tensor(-47633.2139, device='cuda:0', dtype=torch.float64)\n",
      "tensor(12203.0569, device='cuda:0', dtype=torch.float64)\n",
      "tensor(-35441.9865, device='cuda:0', dtype=torch.float64)\n",
      "tensor(-18221.9159, device='cuda:0', dtype=torch.float64)\n",
      "tensor(-7182.8368, device='cuda:0', dtype=torch.float64)\n",
      "tensor(25642.0631, device='cuda:0', dtype=torch.float64)\n",
      "tensor(15683.8075, device='cuda:0', dtype=torch.float64)\n",
      "tensor(3102.7026, device='cuda:0', dtype=torch.float64)\n",
      "tensor(5257.9772, device='cuda:0', dtype=torch.float64)\n",
      "tensor(-43308.4749, device='cuda:0', dtype=torch.float64)\n",
      "tensor(16009.8424, device='cuda:0', dtype=torch.float64)\n",
      "tensor(9333.8868, device='cuda:0', dtype=torch.float64)\n",
      "tensor(29714.9489, device='cuda:0', dtype=torch.float64)\n",
      "tensor(5086.2732, device='cuda:0', dtype=torch.float64)\n",
      "tensor(34466.9627, device='cuda:0', dtype=torch.float64)\n",
      "tensor(-7792.5693, device='cuda:0', dtype=torch.float64)\n",
      "tensor(16093.8636, device='cuda:0', dtype=torch.float64)\n",
      "tensor(11624.3854, device='cuda:0', dtype=torch.float64)\n",
      "tensor(14146.2629, device='cuda:0', dtype=torch.float64)\n",
      "tensor(9758.0580, device='cuda:0', dtype=torch.float64)\n",
      "tensor(931.2067, device='cuda:0', dtype=torch.float64)\n",
      "tensor(18738.2780, device='cuda:0', dtype=torch.float64)\n",
      "tensor(25502.2666, device='cuda:0', dtype=torch.float64)\n",
      "tensor(-14012.5659, device='cuda:0', dtype=torch.float64)\n",
      "tensor(-16.5418, device='cuda:0', dtype=torch.float64)\n"
     ]
    },
    {
     "name": "stderr",
     "output_type": "stream",
     "text": [
      "[W pthreadpool-cpp.cc:90] Warning: Leaking Caffe2 thread-pool after fork. (function pthreadpool)\n"
     ]
    },
    {
     "name": "stdout",
     "output_type": "stream",
     "text": [
      "tensor(27154.4905, device='cuda:0', dtype=torch.float64)\n",
      "tensor(-42120.4365, device='cuda:0', dtype=torch.float64)\n",
      "tensor(-9123.1979, device='cuda:0', dtype=torch.float64)\n",
      "[000/00000] val_loss: 0.092346 | best_loss_val: 0.092346 | loss_vertices: 0.092346\n",
      "[000/00001] train_loss: 0.110656\n"
     ]
    },
    {
     "name": "stderr",
     "output_type": "stream",
     "text": [
      "[W pthreadpool-cpp.cc:90] Warning: Leaking Caffe2 thread-pool after fork. (function pthreadpool)\n",
      "[W pthreadpool-cpp.cc:90] Warning: Leaking Caffe2 thread-pool after fork. (function pthreadpool)\n"
     ]
    },
    {
     "name": "stdout",
     "output_type": "stream",
     "text": [
      "tensor(19294.5401, device='cuda:0', dtype=torch.float64)\n",
      "tensor(30355.7002, device='cuda:0', dtype=torch.float64)\n",
      "tensor(485.1309, device='cuda:0', dtype=torch.float64)\n",
      "tensor(11861.3575, device='cuda:0', dtype=torch.float64)\n",
      "tensor(17402.9138, device='cuda:0', dtype=torch.float64)\n",
      "tensor(19578.4772, device='cuda:0', dtype=torch.float64)\n"
     ]
    },
    {
     "name": "stderr",
     "output_type": "stream",
     "text": [
      "[W pthreadpool-cpp.cc:90] Warning: Leaking Caffe2 thread-pool after fork. (function pthreadpool)\n",
      "[W pthreadpool-cpp.cc:90] Warning: Leaking Caffe2 thread-pool after fork. (function pthreadpool)\n"
     ]
    },
    {
     "name": "stdout",
     "output_type": "stream",
     "text": [
      "tensor(-12211.1419, device='cuda:0', dtype=torch.float64)\n",
      "tensor(-6803.6708, device='cuda:0', dtype=torch.float64)\n",
      "tensor(11723.6236, device='cuda:0', dtype=torch.float64)\n",
      "tensor(25209.3156, device='cuda:0', dtype=torch.float64)\n",
      "tensor(-45958.7050, device='cuda:0', dtype=torch.float64)\n",
      "tensor(-12955.9402, device='cuda:0', dtype=torch.float64)\n",
      "tensor(-19960.9753, device='cuda:0', dtype=torch.float64)\n",
      "tensor(19879.7509, device='cuda:0', dtype=torch.float64)\n",
      "tensor(22333.9865, device='cuda:0', dtype=torch.float64)\n",
      "tensor(26341.3836, device='cuda:0', dtype=torch.float64)\n",
      "tensor(-19861.6353, device='cuda:0', dtype=torch.float64)\n",
      "tensor(-16303.6655, device='cuda:0', dtype=torch.float64)\n",
      "tensor(-32466.5182, device='cuda:0', dtype=torch.float64)\n",
      "tensor(-36800.2519, device='cuda:0', dtype=torch.float64)\n",
      "tensor(20728.5772, device='cuda:0', dtype=torch.float64)\n",
      "tensor(-6618.5211, device='cuda:0', dtype=torch.float64)\n",
      "tensor(-64824.8090, device='cuda:0', dtype=torch.float64)\n",
      "tensor(-91560.3186, device='cuda:0', dtype=torch.float64)\n",
      "tensor(-3595.7495, device='cuda:0', dtype=torch.float64)\n",
      "tensor(4063.7299, device='cuda:0', dtype=torch.float64)\n",
      "tensor(-18224.8212, device='cuda:0', dtype=torch.float64)\n",
      "tensor(15500.7656, device='cuda:0', dtype=torch.float64)\n",
      "tensor(33197.8685, device='cuda:0', dtype=torch.float64)\n",
      "tensor(-2323.2032, device='cuda:0', dtype=torch.float64)\n",
      "tensor(-14660.6580, device='cuda:0', dtype=torch.float64)\n",
      "tensor(28425.0192, device='cuda:0', dtype=torch.float64)\n",
      "tensor(16437.7155, device='cuda:0', dtype=torch.float64)\n",
      "tensor(9346.0964, device='cuda:0', dtype=torch.float64)\n",
      "tensor(3746.2295, device='cuda:0', dtype=torch.float64)\n",
      "tensor(3692.8947, device='cuda:0', dtype=torch.float64)\n",
      "tensor(-40022.8156, device='cuda:0', dtype=torch.float64)\n",
      "tensor(19813.4552, device='cuda:0', dtype=torch.float64)\n",
      "tensor(-27831.5881, device='cuda:0', dtype=torch.float64)\n",
      "tensor(-10611.5176, device='cuda:0', dtype=torch.float64)\n",
      "tensor(427.5616, device='cuda:0', dtype=torch.float64)\n",
      "tensor(33252.4614, device='cuda:0', dtype=torch.float64)\n",
      "tensor(23294.2058, device='cuda:0', dtype=torch.float64)\n",
      "tensor(10713.1010, device='cuda:0', dtype=torch.float64)\n",
      "tensor(12868.3755, device='cuda:0', dtype=torch.float64)\n",
      "tensor(-35698.0766, device='cuda:0', dtype=torch.float64)\n",
      "tensor(23620.2407, device='cuda:0', dtype=torch.float64)\n",
      "tensor(16944.2851, device='cuda:0', dtype=torch.float64)\n",
      "tensor(37325.3472, device='cuda:0', dtype=torch.float64)\n",
      "tensor(12696.6715, device='cuda:0', dtype=torch.float64)\n",
      "tensor(42077.3610, device='cuda:0', dtype=torch.float64)\n",
      "tensor(-182.1710, device='cuda:0', dtype=torch.float64)\n",
      "tensor(23704.2619, device='cuda:0', dtype=torch.float64)\n",
      "tensor(19234.7837, device='cuda:0', dtype=torch.float64)\n",
      "tensor(21756.6612, device='cuda:0', dtype=torch.float64)\n",
      "tensor(17368.4564, device='cuda:0', dtype=torch.float64)\n",
      "tensor(8541.6050, device='cuda:0', dtype=torch.float64)\n",
      "tensor(26348.6763, device='cuda:0', dtype=torch.float64)\n",
      "tensor(33112.6650, device='cuda:0', dtype=torch.float64)\n",
      "tensor(-6402.1676, device='cuda:0', dtype=torch.float64)\n",
      "tensor(7593.8566, device='cuda:0', dtype=torch.float64)\n",
      "tensor(34764.8889, device='cuda:0', dtype=torch.float64)\n",
      "tensor(-34510.0382, device='cuda:0', dtype=torch.float64)\n",
      "tensor(-1512.7996, device='cuda:0', dtype=torch.float64)\n"
     ]
    },
    {
     "name": "stderr",
     "output_type": "stream",
     "text": [
      "[W pthreadpool-cpp.cc:90] Warning: Leaking Caffe2 thread-pool after fork. (function pthreadpool)\n"
     ]
    },
    {
     "name": "stdout",
     "output_type": "stream",
     "text": [
      "[000/00001] val_loss: 0.092320 | best_loss_val: 0.092320 | loss_vertices: 0.092320\n",
      "[000/00002] train_loss: 0.071900\n"
     ]
    },
    {
     "name": "stderr",
     "output_type": "stream",
     "text": [
      "[W pthreadpool-cpp.cc:90] Warning: Leaking Caffe2 thread-pool after fork. (function pthreadpool)\n",
      "[W pthreadpool-cpp.cc:90] Warning: Leaking Caffe2 thread-pool after fork. (function pthreadpool)\n"
     ]
    },
    {
     "name": "stdout",
     "output_type": "stream",
     "text": [
      "tensor(4355.1110, device='cuda:0', dtype=torch.float64)\n",
      "tensor(15416.2712, device='cuda:0', dtype=torch.float64)\n",
      "tensor(-14454.2982, device='cuda:0', dtype=torch.float64)\n",
      "tensor(-3078.0716, device='cuda:0', dtype=torch.float64)\n",
      "tensor(2463.4847, device='cuda:0', dtype=torch.float64)\n",
      "tensor(4639.0481, device='cuda:0', dtype=torch.float64)\n"
     ]
    },
    {
     "name": "stderr",
     "output_type": "stream",
     "text": [
      "[W pthreadpool-cpp.cc:90] Warning: Leaking Caffe2 thread-pool after fork. (function pthreadpool)\n",
      "[W pthreadpool-cpp.cc:90] Warning: Leaking Caffe2 thread-pool after fork. (function pthreadpool)\n"
     ]
    },
    {
     "name": "stdout",
     "output_type": "stream",
     "text": [
      "tensor(-27150.5710, device='cuda:0', dtype=torch.float64)\n",
      "tensor(-21743.0999, device='cuda:0', dtype=torch.float64)\n",
      "tensor(-3215.8055, device='cuda:0', dtype=torch.float64)\n",
      "tensor(10269.8865, device='cuda:0', dtype=torch.float64)\n",
      "tensor(-60898.1340, device='cuda:0', dtype=torch.float64)\n",
      "tensor(-27895.3693, device='cuda:0', dtype=torch.float64)\n",
      "tensor(-34900.4044, device='cuda:0', dtype=torch.float64)\n",
      "tensor(4940.3218, device='cuda:0', dtype=torch.float64)\n",
      "tensor(7394.5574, device='cuda:0', dtype=torch.float64)\n",
      "tensor(11401.9546, device='cuda:0', dtype=torch.float64)\n",
      "tensor(-34801.0643, device='cuda:0', dtype=torch.float64)\n",
      "tensor(-31243.0945, device='cuda:0', dtype=torch.float64)\n",
      "tensor(-47405.9473, device='cuda:0', dtype=torch.float64)\n",
      "tensor(-51739.6810, device='cuda:0', dtype=torch.float64)\n",
      "tensor(5789.1481, device='cuda:0', dtype=torch.float64)\n",
      "tensor(-21557.9502, device='cuda:0', dtype=torch.float64)\n",
      "tensor(-79764.2381, device='cuda:0', dtype=torch.float64)\n",
      "tensor(-106499.7477, device='cuda:0', dtype=torch.float64)\n",
      "tensor(-18535.1786, device='cuda:0', dtype=torch.float64)\n",
      "tensor(-10875.6992, device='cuda:0', dtype=torch.float64)\n",
      "tensor(-33164.2503, device='cuda:0', dtype=torch.float64)\n",
      "tensor(561.3365, device='cuda:0', dtype=torch.float64)\n",
      "tensor(18258.4394, device='cuda:0', dtype=torch.float64)\n",
      "tensor(-17262.6323, device='cuda:0', dtype=torch.float64)\n",
      "tensor(-29600.0871, device='cuda:0', dtype=torch.float64)\n",
      "tensor(13485.5901, device='cuda:0', dtype=torch.float64)\n",
      "tensor(1498.2865, device='cuda:0', dtype=torch.float64)\n",
      "tensor(-5593.3327, device='cuda:0', dtype=torch.float64)\n",
      "tensor(-11193.1996, device='cuda:0', dtype=torch.float64)\n",
      "tensor(-11246.5344, device='cuda:0', dtype=torch.float64)\n",
      "tensor(-54962.2447, device='cuda:0', dtype=torch.float64)\n",
      "tensor(4874.0261, device='cuda:0', dtype=torch.float64)\n",
      "tensor(-42771.0172, device='cuda:0', dtype=torch.float64)\n",
      "tensor(-25550.9467, device='cuda:0', dtype=torch.float64)\n",
      "tensor(-14511.8675, device='cuda:0', dtype=torch.float64)\n",
      "tensor(18313.0323, device='cuda:0', dtype=torch.float64)\n",
      "tensor(8354.7767, device='cuda:0', dtype=torch.float64)\n",
      "tensor(-4226.3281, device='cuda:0', dtype=torch.float64)\n",
      "tensor(-2071.0536, device='cuda:0', dtype=torch.float64)\n"
     ]
    }
   ],
   "source": [
    "from training import vertix_edge_train\n",
    "\n",
    "vertix_edge_train.main(config)"
   ]
  },
  {
   "cell_type": "code",
   "execution_count": 8,
   "id": "fe04aceb",
   "metadata": {},
   "outputs": [],
   "source": [
    "from inference.inference_vertix_edge import InferenceHandlerVertixEdgeModel\n",
    "\n",
    "# create a handler for inference using a trained checkpoint\n",
    "inferer = InferenceHandlerVertixEdgeModel('runs/vertix_edge_overfitting/model_best.ckpt', config[\"num_vertices\"], config[\"feature_size\"])"
   ]
  },
  {
   "cell_type": "code",
   "execution_count": 9,
   "id": "dcadb433",
   "metadata": {},
   "outputs": [],
   "source": [
    "x_indices = []\n",
    "y_indices = []\n",
    "\n",
    "graph = np.ones((1,config[\"num_vertices\"], config[\"num_vertices\"],1))\n",
    "\n",
    "for i in range(config[\"num_vertices\"]):\n",
    "    for j in range(config[\"num_vertices\"]):\n",
    "        x_indices.append(i)\n",
    "        y_indices.append(j)"
   ]
  },
  {
   "cell_type": "code",
   "execution_count": 10,
   "id": "60263481",
   "metadata": {},
   "outputs": [],
   "source": [
    "random_sample = random.randint(0,len(dataset))"
   ]
  },
  {
   "cell_type": "code",
   "execution_count": 11,
   "id": "3d9be6cd",
   "metadata": {},
   "outputs": [],
   "source": [
    "input_sdf, target_vertices, mask, target_edges, edges_adj = dataset[random_sample]"
   ]
  },
  {
   "cell_type": "code",
   "execution_count": 12,
   "id": "b09f2a46",
   "metadata": {},
   "outputs": [],
   "source": [
    "faces = []\n",
    "\n",
    "for i in range(num_vertices):\n",
    "    for j in range(num_vertices):\n",
    "        for k in range(num_vertices):\n",
    "            if target_edges[i][j] and target_edges[j][k]:\n",
    "                faces.append(np.array([i,j,k]).reshape(1,-1))"
   ]
  },
  {
   "cell_type": "code",
   "execution_count": null,
   "id": "5d8e0ca0",
   "metadata": {},
   "outputs": [],
   "source": []
  },
  {
   "cell_type": "code",
   "execution_count": 13,
   "id": "bff03402",
   "metadata": {},
   "outputs": [],
   "source": [
    "faces = np.concatenate(faces,0)"
   ]
  },
  {
   "cell_type": "code",
   "execution_count": 14,
   "id": "c738f0f8",
   "metadata": {},
   "outputs": [
    {
     "data": {
      "application/vnd.jupyter.widget-view+json": {
       "model_id": "98a7b15f9ad0423a95a3756402cc2b04",
       "version_major": 2,
       "version_minor": 0
      },
      "text/plain": [
       "Output()"
      ]
     },
     "metadata": {},
     "output_type": "display_data"
    }
   ],
   "source": [
    "visualize_pointcloud(target_vertices, point_size=0.01)"
   ]
  },
  {
   "cell_type": "code",
   "execution_count": 15,
   "id": "03334c13",
   "metadata": {},
   "outputs": [
    {
     "data": {
      "application/vnd.jupyter.widget-view+json": {
       "model_id": "edd6c1b3948f4c4cb117fb42c244539b",
       "version_major": 2,
       "version_minor": 0
      },
      "text/plain": [
       "Output()"
      ]
     },
     "metadata": {},
     "output_type": "display_data"
    }
   ],
   "source": [
    "visualize_mesh(target_vertices, faces)"
   ]
  },
  {
   "cell_type": "code",
   "execution_count": 16,
   "id": "5f2e1184",
   "metadata": {},
   "outputs": [],
   "source": [
    "output_pointcloud, edges = inferer.infer_single(input_sdf, mask, x_indices,y_indices,edges_adj)"
   ]
  },
  {
   "cell_type": "code",
   "execution_count": 17,
   "id": "6c652215",
   "metadata": {},
   "outputs": [
    {
     "data": {
      "text/plain": [
       "(100, 100)"
      ]
     },
     "execution_count": 17,
     "metadata": {},
     "output_type": "execute_result"
    }
   ],
   "source": [
    "edges.shape"
   ]
  },
  {
   "cell_type": "code",
   "execution_count": 18,
   "id": "be734189",
   "metadata": {},
   "outputs": [
    {
     "data": {
      "text/plain": [
       "4092"
      ]
     },
     "execution_count": 18,
     "metadata": {},
     "output_type": "execute_result"
    }
   ],
   "source": [
    "edges.sum()"
   ]
  },
  {
   "cell_type": "code",
   "execution_count": 22,
   "id": "0e5f7ffc",
   "metadata": {},
   "outputs": [],
   "source": [
    "faces = []\n",
    "\n",
    "for i in range(num_vertices):\n",
    "    for j in range(num_vertices):\n",
    "        for k in range(num_vertices):\n",
    "            if target_edges[i][j] and target_edges[j][k]:\n",
    "                faces.append(np.array([i,j,k]).reshape(1,-1))\n",
    "faces = np.concatenate(faces,0)"
   ]
  },
  {
   "cell_type": "code",
   "execution_count": 20,
   "id": "e4747159",
   "metadata": {},
   "outputs": [],
   "source": [
    "cost = distance_matrix(output_pointcloud, target_vertices)\n",
    "                        \n",
    "vertix_idx, target_idx = linear_sum_assignment(cost)"
   ]
  },
  {
   "cell_type": "code",
   "execution_count": 21,
   "id": "795bd0be",
   "metadata": {},
   "outputs": [
    {
     "data": {
      "application/vnd.jupyter.widget-view+json": {
       "model_id": "196afbcaf2eb412885260f387de2e424",
       "version_major": 2,
       "version_minor": 0
      },
      "text/plain": [
       "Output()"
      ]
     },
     "metadata": {},
     "output_type": "display_data"
    }
   ],
   "source": [
    "visualize_pointcloud(output_pointcloud[vertix_idx][:int(sum(mask))],point_size=0.01)"
   ]
  },
  {
   "cell_type": "code",
   "execution_count": null,
   "id": "2651e1a9",
   "metadata": {},
   "outputs": [],
   "source": []
  },
  {
   "cell_type": "code",
   "execution_count": 29,
   "id": "ddbdd227",
   "metadata": {},
   "outputs": [
    {
     "data": {
      "text/plain": [
       "120.0"
      ]
     },
     "execution_count": 29,
     "metadata": {},
     "output_type": "execute_result"
    }
   ],
   "source": [
    "target_edges[target_edges > 0].sum()"
   ]
  },
  {
   "cell_type": "code",
   "execution_count": 30,
   "id": "8bd6cfd0",
   "metadata": {},
   "outputs": [
    {
     "data": {
      "text/plain": [
       "19"
      ]
     },
     "execution_count": 30,
     "metadata": {},
     "output_type": "execute_result"
    }
   ],
   "source": [
    "edges.sum()"
   ]
  },
  {
   "cell_type": "code",
   "execution_count": 31,
   "id": "64fdb434",
   "metadata": {},
   "outputs": [
    {
     "ename": "SyntaxError",
     "evalue": "invalid syntax (428943145.py, line 1)",
     "output_type": "error",
     "traceback": [
      "\u001b[0;36m  Input \u001b[0;32mIn [31]\u001b[0;36m\u001b[0m\n\u001b[0;31m    [:int(mask.sum())target_edges.sum()\u001b[0m\n\u001b[0m     ^\u001b[0m\n\u001b[0;31mSyntaxError\u001b[0m\u001b[0;31m:\u001b[0m invalid syntax\n"
     ]
    }
   ],
   "source": [
    "[:int(mask.sum())target_edges.sum()"
   ]
  },
  {
   "cell_type": "code",
   "execution_count": 32,
   "id": "3fa3ff6b",
   "metadata": {},
   "outputs": [],
   "source": [
    "faces = []\n",
    "\n",
    "for i in range(num_vertices):\n",
    "    for j in range(num_vertices):\n",
    "        for k in range(num_vertices):\n",
    "            if edges[i][j] and edges[j][k]:\n",
    "                faces.append(np.array([i,j,k]).reshape(1,-1))"
   ]
  },
  {
   "cell_type": "code",
   "execution_count": 33,
   "id": "41f2cb07",
   "metadata": {},
   "outputs": [],
   "source": [
    "faces = np.concatenate(faces,0)"
   ]
  },
  {
   "cell_type": "code",
   "execution_count": 23,
   "id": "9cf6bf6d",
   "metadata": {},
   "outputs": [
    {
     "data": {
      "application/vnd.jupyter.widget-view+json": {
       "model_id": "e35b892e24e94b0798ddd394f715cc23",
       "version_major": 2,
       "version_minor": 0
      },
      "text/plain": [
       "Output()"
      ]
     },
     "metadata": {},
     "output_type": "display_data"
    }
   ],
   "source": [
    "visualize_mesh(output_pointcloud,faces)"
   ]
  },
  {
   "cell_type": "code",
   "execution_count": 1,
   "id": "e66d0cea",
   "metadata": {},
   "outputs": [
    {
     "ename": "NameError",
     "evalue": "name 'algorithm' is not defined",
     "output_type": "error",
     "traceback": [
      "\u001b[0;31m---------------------------------------------------------------------------\u001b[0m",
      "\u001b[0;31mNameError\u001b[0m                                 Traceback (most recent call last)",
      "Input \u001b[0;32mIn [1]\u001b[0m, in \u001b[0;36m<module>\u001b[0;34m\u001b[0m\n\u001b[0;32m----> 1\u001b[0m \u001b[43malgorithm\u001b[49m\u001b[38;5;241m.\u001b[39mfind_matching(G, matching_type \u001b[38;5;241m=\u001b[39m \u001b[38;5;124m'\u001b[39m\u001b[38;5;124mmax\u001b[39m\u001b[38;5;124m'\u001b[39m, return_type \u001b[38;5;241m=\u001b[39m \u001b[38;5;124m'\u001b[39m\u001b[38;5;124mlist\u001b[39m\u001b[38;5;124m'\u001b[39m)\n",
      "\u001b[0;31mNameError\u001b[0m: name 'algorithm' is not defined"
     ]
    }
   ],
   "source": []
  },
  {
   "cell_type": "code",
   "execution_count": null,
   "id": "729713a6",
   "metadata": {},
   "outputs": [],
   "source": []
  }
 ],
 "metadata": {
  "kernelspec": {
   "display_name": "Python [conda env:pytorch3d]",
   "language": "python",
   "name": "conda-env-pytorch3d-py"
  },
  "language_info": {
   "codemirror_mode": {
    "name": "ipython",
    "version": 3
   },
   "file_extension": ".py",
   "mimetype": "text/x-python",
   "name": "python",
   "nbconvert_exporter": "python",
   "pygments_lexer": "ipython3",
   "version": "3.9.7"
  }
 },
 "nbformat": 4,
 "nbformat_minor": 5
}
