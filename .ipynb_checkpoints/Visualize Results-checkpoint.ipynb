{
 "cells": [
  {
   "cell_type": "code",
   "execution_count": 98,
   "id": "f0750b6f",
   "metadata": {},
   "outputs": [
    {
     "name": "stdout",
     "output_type": "stream",
     "text": [
      "The autoreload extension is already loaded. To reload it, use:\n",
      "  %reload_ext autoreload\n"
     ]
    }
   ],
   "source": [
    "import torch\n",
    "from data.shapenet import ShapeNet\n",
    "from model.vertix_model import VertixModel\n",
    "import tqdm\n",
    "from util.visualization import visualize_pointcloud, visualize_mesh\n",
    "import random\n",
    "%load_ext autoreload\n",
    "%autoreload 2\n",
    "import numpy as np\n",
    "import pickle\n",
    "from scipy.spatial import distance_matrix\n",
    "from scipy.optimize import linear_sum_assignment\n",
    "from sklearn.utils import class_weight\n",
    "import trimesh\n",
    "import pymeshlab as pmlab\n",
    "from util.marching_cubes import *"
   ]
  },
  {
   "cell_type": "code",
   "execution_count": 4,
   "id": "62ecccda",
   "metadata": {},
   "outputs": [],
   "source": [
    "num_vertices = 100"
   ]
  },
  {
   "cell_type": "code",
   "execution_count": 5,
   "id": "cbe67a4b",
   "metadata": {},
   "outputs": [],
   "source": [
    "config = {\n",
    "    'device': 'cpu',  \n",
    "    'sdf_path': 'data/shapenet_dim32_sdf',\n",
    "    'meshes_path': 'data/shapenet_reduced',\n",
    "    'class_mapping': 'data/shape_info.json',\n",
    "    'split': 'val',\n",
    "    'num_vertices': num_vertices,\n",
    "    'feature_size': 512,\n",
    "    'num_trajectories': 2,\n",
    "}"
   ]
  },
  {
   "cell_type": "code",
   "execution_count": 6,
   "id": "33d4f501",
   "metadata": {},
   "outputs": [],
   "source": [
    "dataset = ShapeNet(sdf_path=config[\"sdf_path\"],\n",
    "                         meshes_path=config[\"meshes_path\"],\n",
    "                         class_mapping=config[\"class_mapping\"],\n",
    "                         split = config[\"split\"], threshold=config[\"num_vertices\"], num_trajectories=config[\"num_trajectories\"])\n"
   ]
  },
  {
   "cell_type": "code",
   "execution_count": 7,
   "id": "d148f352",
   "metadata": {},
   "outputs": [
    {
     "name": "stdout",
     "output_type": "stream",
     "text": [
      "Length of dataset: 32304\n",
      "Filtering data ..\n"
     ]
    },
    {
     "name": "stderr",
     "output_type": "stream",
     "text": [
      "100%|███████████████████████████████████| 32304/32304 [00:05<00:00, 5420.48it/s]"
     ]
    },
    {
     "name": "stdout",
     "output_type": "stream",
     "text": [
      "Length of dataset: 5474\n"
     ]
    },
    {
     "name": "stderr",
     "output_type": "stream",
     "text": [
      "\n"
     ]
    }
   ],
   "source": [
    "dataset.filter_data()"
   ]
  },
  {
   "cell_type": "code",
   "execution_count": 12,
   "id": "fe04aceb",
   "metadata": {},
   "outputs": [],
   "source": [
    "from inference.inference_mesh import InferenceHandlerMesh\n",
    "\n",
    "inferer = InferenceHandlerMesh(vertix_edge_ckpt='runs/vertix_edge_hungarian_train/model_best.ckpt',\n",
    "                               face_model_ckpt='runs/face_model_chamfer/model_best.ckpt', \n",
    "                               num_vertices=config[\"num_vertices\"], \n",
    "                               feature_size=config[\"feature_size\"], \n",
    "                               device=config[\"device\"])"
   ]
  },
  {
   "cell_type": "code",
   "execution_count": 13,
   "id": "dcadb433",
   "metadata": {},
   "outputs": [],
   "source": [
    "x_indices = []\n",
    "y_indices = []\n",
    "\n",
    "graph = np.ones((1,config[\"num_vertices\"], config[\"num_vertices\"],1))\n",
    "\n",
    "for i in range(config[\"num_vertices\"]):\n",
    "    for j in range(config[\"num_vertices\"]):\n",
    "        x_indices.append(i)\n",
    "        y_indices.append(j)"
   ]
  },
  {
   "cell_type": "code",
   "execution_count": 149,
   "id": "05b561cf",
   "metadata": {},
   "outputs": [],
   "source": [
    "def visualize_random():\n",
    "    random_sample = random.randint(0,len(dataset)-1)\n",
    "    original_sdf , input_sdf, target_vertices, mask, target_edges, edges_adj = dataset[random_sample]\n",
    "    \n",
    "    gt_faces = []\n",
    "    \n",
    "    num_vertices= config[\"num_vertices\"]\n",
    "    \n",
    "\n",
    "    for i in range(num_vertices):\n",
    "        for j in range(i,num_vertices):\n",
    "            for k in range(j,num_vertices):\n",
    "                if target_edges[i][j] and target_edges[j][k] and target_edges[k][i]:     \n",
    "                    gt_faces.append(np.array([i,j,k]).reshape(1,-1))\n",
    "                    \n",
    "    gt_faces = np.concatenate(gt_faces,0)\n",
    "    \n",
    "    input_vertices, input_edges = marching_cubes(original_sdf)\n",
    "        \n",
    "    predicted_vertices, candidate_faces, predicted_faces = inferer.infer_single(input_sdf, mask, x_indices, y_indices, edges_adj)\n",
    "    \n",
    "    print(\"Input scan\")\n",
    "    \n",
    "    visualize_mesh(input_vertices, input_edges)\n",
    "    \n",
    "    print(\"GT\")\n",
    "\n",
    "    visualize_mesh(predicted_vertices, candidate_faces)\n",
    "    \n",
    "    print(\"Predicted edges\")\n",
    "            \n",
    "    visualize_mesh(predicted_vertices, predicted_faces)\n",
    "    "
   ]
  },
  {
   "cell_type": "code",
   "execution_count": null,
   "id": "1d57066e",
   "metadata": {},
   "outputs": [],
   "source": []
  },
  {
   "cell_type": "code",
   "execution_count": 150,
   "id": "d7cdc632",
   "metadata": {},
   "outputs": [
    {
     "data": {
      "application/vnd.jupyter.widget-view+json": {
       "model_id": "25dedb7f75a048178ea617198ca39024",
       "version_major": 2,
       "version_minor": 0
      },
      "text/plain": [
       "Output()"
      ]
     },
     "metadata": {},
     "output_type": "display_data"
    },
    {
     "data": {
      "application/vnd.jupyter.widget-view+json": {
       "model_id": "12a3dd20dfde427fbff8ccd4d82ff207",
       "version_major": 2,
       "version_minor": 0
      },
      "text/plain": [
       "Output()"
      ]
     },
     "metadata": {},
     "output_type": "display_data"
    },
    {
     "data": {
      "application/vnd.jupyter.widget-view+json": {
       "model_id": "524d81dcc71a42188f9e656c7b03578a",
       "version_major": 2,
       "version_minor": 0
      },
      "text/plain": [
       "Output()"
      ]
     },
     "metadata": {},
     "output_type": "display_data"
    }
   ],
   "source": [
    "visualize_random()"
   ]
  },
  {
   "cell_type": "code",
   "execution_count": null,
   "id": "a8aa7386",
   "metadata": {},
   "outputs": [],
   "source": []
  },
  {
   "cell_type": "code",
   "execution_count": null,
   "id": "8e2362b9",
   "metadata": {},
   "outputs": [],
   "source": []
  },
  {
   "cell_type": "code",
   "execution_count": null,
   "id": "ddfcb024",
   "metadata": {},
   "outputs": [],
   "source": []
  },
  {
   "cell_type": "code",
   "execution_count": null,
   "id": "831709fd",
   "metadata": {},
   "outputs": [],
   "source": []
  },
  {
   "cell_type": "code",
   "execution_count": null,
   "id": "60263481",
   "metadata": {},
   "outputs": [],
   "source": []
  },
  {
   "cell_type": "code",
   "execution_count": 26,
   "id": "a4011db8",
   "metadata": {},
   "outputs": [],
   "source": [
    "def export_mesh_to_obj(path, vertices, faces):\n",
    "\n",
    "    to_write = \"\"\n",
    "\n",
    "    faces += 1\n",
    "\n",
    "    obj_file = open(path, \"w+\")\n",
    "\n",
    "    for i in range(vertices.shape[0]):\n",
    "        vx = vertices[i,:]\n",
    "        l = f\"v {vx[0]} {vx[1]} {vx[2]}\\n\"\n",
    "        to_write += l\n",
    "\n",
    "    for i in range(faces.shape[0]):\n",
    "        face = faces[i,:]\n",
    "        l = f\"f {face[0]} {face[1]} {face[2]}\\n\"\n",
    "        to_write += l\n",
    "\n",
    "    obj_file.write(to_write)\n",
    "\n",
    "    obj_file.close()\n"
   ]
  },
  {
   "cell_type": "code",
   "execution_count": 27,
   "id": "40180a86",
   "metadata": {},
   "outputs": [],
   "source": [
    "import open3d"
   ]
  },
  {
   "cell_type": "code",
   "execution_count": 28,
   "id": "f25c018c",
   "metadata": {},
   "outputs": [],
   "source": [
    "mesh_in = open3d.io.read_triangle_mesh(\"output.obj\")"
   ]
  },
  {
   "cell_type": "code",
   "execution_count": 29,
   "id": "b8162f1e",
   "metadata": {},
   "outputs": [
    {
     "data": {
      "text/plain": [
       "TriangleMesh with 100 points and 35181 triangles."
      ]
     },
     "execution_count": 29,
     "metadata": {},
     "output_type": "execute_result"
    }
   ],
   "source": [
    "mesh_in"
   ]
  },
  {
   "cell_type": "code",
   "execution_count": 30,
   "id": "79c89b39",
   "metadata": {},
   "outputs": [],
   "source": [
    "mesh_smp = mesh_in.simplify_quadric_decimation(target_number_of_triangles=20000)"
   ]
  },
  {
   "cell_type": "code",
   "execution_count": 31,
   "id": "d3ad1161",
   "metadata": {},
   "outputs": [
    {
     "data": {
      "text/plain": [
       "TriangleMesh with 31 points and 19626 triangles."
      ]
     },
     "execution_count": 31,
     "metadata": {},
     "output_type": "execute_result"
    }
   ],
   "source": [
    "mesh_smp"
   ]
  },
  {
   "cell_type": "code",
   "execution_count": 32,
   "id": "f841c456",
   "metadata": {},
   "outputs": [],
   "source": [
    "open3d.visualization.draw_geometries([mesh_smp])"
   ]
  },
  {
   "cell_type": "code",
   "execution_count": 33,
   "id": "793d4ece",
   "metadata": {},
   "outputs": [
    {
     "data": {
      "text/plain": [
       "True"
      ]
     },
     "execution_count": 33,
     "metadata": {},
     "output_type": "execute_result"
    }
   ],
   "source": [
    "open3d.io.write_triangle_mesh(\"simplified.obj\", mesh_smp)"
   ]
  },
  {
   "cell_type": "code",
   "execution_count": 35,
   "id": "3dd445bd",
   "metadata": {},
   "outputs": [
    {
     "data": {
      "text/plain": [
       "array([[ 0.1610322 , -0.29845652, -0.28329909],\n",
       "       [-0.14093108, -0.02186579, -0.24869767],\n",
       "       [ 0.00977515,  0.0844263 , -0.2368125 ],\n",
       "       [ 0.16424899, -0.00437306, -0.23929292],\n",
       "       [-0.15810894, -0.33066337, -0.24130594],\n",
       "       [ 0.07457884, -0.03870672, -0.19639743],\n",
       "       [ 0.14389685, -0.27245843, -0.12635003],\n",
       "       [ 0.13066384, -0.3826485 , -0.22867607],\n",
       "       [ 0.14924926,  0.13215493, -0.21904702],\n",
       "       [ 0.15126379, -0.36364358, -0.07179864],\n",
       "       [ 0.14431539, -0.09431536,  0.08698647],\n",
       "       [ 0.14917452,  0.08565598,  0.22025901],\n",
       "       [ 0.15639293, -0.27986974,  0.20635703],\n",
       "       [ 0.16032607,  0.10863305,  0.11851151],\n",
       "       [ 0.13281418,  0.07716768,  0.00740832],\n",
       "       [ 0.14441749, -0.01945177,  0.16263057],\n",
       "       [-0.03637091, -0.04049452,  0.11493398],\n",
       "       [ 0.13897389,  0.42027318,  0.14827853],\n",
       "       [-0.10913445,  0.11843286,  0.15846808],\n",
       "       [ 0.03900905,  0.47646358,  0.19953372],\n",
       "       [-0.1440687 , -0.19119753,  0.18608132],\n",
       "       [-0.148908  ,  0.11639099,  0.07922168],\n",
       "       [-0.16070224,  0.39944553,  0.22409334],\n",
       "       [-0.17081353,  0.51914722,  0.14520697],\n",
       "       [-0.15830508,  0.29482841,  0.0501288 ],\n",
       "       [-0.14539209, -0.09454535,  0.08942707],\n",
       "       [-0.16587631,  0.03444528,  0.01053898],\n",
       "       [-0.14901391,  0.12155493, -0.21007188],\n",
       "       [-0.17748043, -0.20224345, -0.10383444],\n",
       "       [-0.15104151, -0.36544667,  0.09753505],\n",
       "       [ 0.15215643,  0.26617908,  0.04026433]])"
      ]
     },
     "execution_count": 35,
     "metadata": {},
     "output_type": "execute_result"
    }
   ],
   "source": [
    "np.array(mesh_smp.vertices)"
   ]
  },
  {
   "cell_type": "code",
   "execution_count": 39,
   "id": "2f6e6533",
   "metadata": {},
   "outputs": [
    {
     "data": {
      "text/plain": [
       "array([[ 0,  1,  2],\n",
       "       [ 0,  1,  3],\n",
       "       [ 0,  1,  4],\n",
       "       ...,\n",
       "       [25, 18, 16],\n",
       "       [25, 18, 20],\n",
       "       [25, 18, 20]], dtype=int32)"
      ]
     },
     "execution_count": 39,
     "metadata": {},
     "output_type": "execute_result"
    }
   ],
   "source": [
    "np.array(mesh_smp.triangles)"
   ]
  },
  {
   "cell_type": "code",
   "execution_count": null,
   "id": "bfb470a4",
   "metadata": {},
   "outputs": [],
   "source": []
  }
 ],
 "metadata": {
  "kernelspec": {
   "display_name": "Python [conda env:pytorch3d]",
   "language": "python",
   "name": "conda-env-pytorch3d-py"
  },
  "language_info": {
   "codemirror_mode": {
    "name": "ipython",
    "version": 3
   },
   "file_extension": ".py",
   "mimetype": "text/x-python",
   "name": "python",
   "nbconvert_exporter": "python",
   "pygments_lexer": "ipython3",
   "version": "3.9.7"
  }
 },
 "nbformat": 4,
 "nbformat_minor": 5
}
