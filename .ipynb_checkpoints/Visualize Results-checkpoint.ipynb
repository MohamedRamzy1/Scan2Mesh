{
 "cells": [
  {
   "cell_type": "code",
   "execution_count": 10,
   "id": "f0750b6f",
   "metadata": {},
   "outputs": [
    {
     "name": "stdout",
     "output_type": "stream",
     "text": [
      "The autoreload extension is already loaded. To reload it, use:\n",
      "  %reload_ext autoreload\n"
     ]
    }
   ],
   "source": [
    "import torch\n",
    "from data.shapenet import ShapeNet\n",
    "from model.vertix_model import VertixModel\n",
    "import tqdm\n",
    "from util.visualization import visualize_pointcloud, visualize_mesh\n",
    "import random\n",
    "%load_ext autoreload\n",
    "%autoreload 2\n",
    "import numpy as np\n",
    "import pickle\n",
    "from scipy.spatial import distance_matrix\n",
    "from scipy.optimize import linear_sum_assignment\n",
    "from sklearn.utils import class_weight\n",
    "import trimesh"
   ]
  },
  {
   "cell_type": "code",
   "execution_count": 2,
   "id": "62ecccda",
   "metadata": {},
   "outputs": [],
   "source": [
    "num_vertices = 100"
   ]
  },
  {
   "cell_type": "code",
   "execution_count": 3,
   "id": "cbe67a4b",
   "metadata": {},
   "outputs": [],
   "source": [
    "config = {\n",
    "    'experiment_name': 'vertix_edge_overfitting',\n",
    "    'device': 'cpu',  \n",
    "    'is_overfit': True,\n",
    "    'batch_size': 8,\n",
    "    'resume_ckpt': False,\n",
    "    'learning_rate': 5e-4,\n",
    "    'max_epochs': 50000,\n",
    "    'print_every_n': 10,\n",
    "    'validate_every_n': 50,\n",
    "    'sdf_path': 'data/shapenet_dim32_sdf',\n",
    "    'meshes_path': 'data/shapenet_reduced',\n",
    "    'class_mapping': 'data/shape_info.json',\n",
    "    'split': 'overfit',\n",
    "    'num_vertices': num_vertices,\n",
    "    'feature_size': 512,\n",
    "    'num_trajectories': 2,\n",
    "}"
   ]
  },
  {
   "cell_type": "code",
   "execution_count": 4,
   "id": "33d4f501",
   "metadata": {},
   "outputs": [],
   "source": [
    "dataset = ShapeNet(sdf_path=config[\"sdf_path\"],\n",
    "                         meshes_path=config[\"meshes_path\"],\n",
    "                         class_mapping=config[\"class_mapping\"],\n",
    "                         split = \"val\", threshold=config[\"num_vertices\"], num_trajectories=config[\"num_trajectories\"])\n"
   ]
  },
  {
   "cell_type": "code",
   "execution_count": 5,
   "id": "d148f352",
   "metadata": {},
   "outputs": [
    {
     "name": "stdout",
     "output_type": "stream",
     "text": [
      "Length of dataset: 32304\n",
      "Filtering data ..\n"
     ]
    },
    {
     "name": "stderr",
     "output_type": "stream",
     "text": [
      "100%|██████████████████████████████████████████████████████████████████████████████████████████████████████████████████████████████████████████████████████████████████████████████████████████████████████████████████████████████████████| 32304/32304 [00:06<00:00, 5307.07it/s]"
     ]
    },
    {
     "name": "stdout",
     "output_type": "stream",
     "text": [
      "Length of dataset: 5474\n"
     ]
    },
    {
     "name": "stderr",
     "output_type": "stream",
     "text": [
      "\n"
     ]
    }
   ],
   "source": [
    "dataset.filter_data()"
   ]
  },
  {
   "cell_type": "code",
   "execution_count": 6,
   "id": "fe04aceb",
   "metadata": {},
   "outputs": [],
   "source": [
    "from inference.inference_vertix_edge import InferenceHandlerVertixEdgeModel\n",
    "\n",
    "inferer = InferenceHandlerVertixEdgeModel('runs/vertix_edge_hungarian_train/model_best.ckpt', config[\"num_vertices\"], config[\"feature_size\"], config[\"device\"])"
   ]
  },
  {
   "cell_type": "code",
   "execution_count": 7,
   "id": "dcadb433",
   "metadata": {},
   "outputs": [],
   "source": [
    "x_indices = []\n",
    "y_indices = []\n",
    "\n",
    "graph = np.ones((1,config[\"num_vertices\"], config[\"num_vertices\"],1))\n",
    "\n",
    "for i in range(config[\"num_vertices\"]):\n",
    "    for j in range(config[\"num_vertices\"]):\n",
    "        x_indices.append(i)\n",
    "        y_indices.append(j)"
   ]
  },
  {
   "cell_type": "code",
   "execution_count": 36,
   "id": "05b561cf",
   "metadata": {},
   "outputs": [],
   "source": [
    "def visualize_random():\n",
    "    random_sample = random.randint(0,len(dataset)-1)\n",
    "    _, input_sdf, target_vertices, mask, target_edges, edges_adj = dataset[random_sample]\n",
    "   # faces = []\n",
    "\n",
    "#     for i in range(num_vertices):\n",
    "#         for j in range(num_vertices):\n",
    "#             for k in range(num_vertices):\n",
    "#                 if i != j and j != k and k != i:\n",
    "#                     if target_edges[i][j] ==1 and target_edges[j][k]==1 and target_edges[k][i]==1:\n",
    "#                         faces.append(np.array([i,j,k]).reshape(1,-1))\n",
    "\n",
    "    target_edges_list = np.zeros(int(target_edges.sum(), 2))\n",
    "    \n",
    "    curr_edge = 0\n",
    "    \n",
    "    for i in range(num_vertices):\n",
    "        for j in range(num_vertices):\n",
    "            if target_edges[i][j] and i != j:\n",
    "                \n",
    "                \n",
    "    \n",
    "    for i \n",
    "                    \n",
    "    faces = trimesh.graph.connected_components(target_edges, min_len=3)\n",
    "    \n",
    "    print(faces.shape)\n",
    "    \n",
    "    print(trimesh.graph.face_adjacency(faces).shape)\n",
    "\n",
    "    \n",
    "    \n",
    "\n",
    "                    \n",
    "        \n",
    "    print(\"GT Mesh\")\n",
    "    \n",
    "    \n",
    "    visualize_mesh(target_vertices, faces)\n",
    "    \n",
    "\n",
    "    \n",
    "    output_pointcloud, edges = inferer.infer_single(input_sdf, mask, x_indices,y_indices,edges_adj)\n",
    "    \n",
    "    faces = []\n",
    "    \n",
    "    \n",
    "    print(\"Predicted Pointcloud\")\n",
    "    \n",
    "    visualize_pointcloud(output_pointcloud,point_size=0.05)\n",
    "\n",
    "    \n",
    "    target_size = int(sum(mask))\n",
    "    \n",
    "    matched_edges = np.zeros((num_vertices,num_vertices))\n",
    "                    \n",
    "    cost = distance_matrix(output_pointcloud, target_vertices[:int(sum(mask))])\n",
    "                        \n",
    "    vertix_idx, target_idx = linear_sum_assignment(cost) \n",
    "    \n",
    "    for i in range(target_size):\n",
    "        for j in range(target_size):\n",
    "            curr_v_1 = vertix_idx[i]\n",
    "            curr_t_1 = target_idx[i]\n",
    "            curr_v_2 = vertix_idx[j]\n",
    "            curr_t_2 = target_idx[j]\n",
    "            matched_edges[curr_v_1,curr_v_2] = target_edges[curr_t_1,curr_t_2]\n",
    "            \n",
    "    faces = []\n",
    "    \n",
    "    contrib = {}\n",
    "\n",
    "    for i in range(num_vertices):\n",
    "        for j in range(num_vertices):\n",
    "            for k in range(num_vertices):\n",
    "                \n",
    "                if i != j and j != k and k != i:\n",
    "\n",
    "                    if edges[i][j] and edges[j][k] and edges[k][i]:\n",
    "\n",
    "                        faces.append(np.array([i,j,k]).reshape(1,-1))\n",
    "    faces = np.concatenate(faces,0)\n",
    "    \n",
    "    print(faces)\n",
    "        \n",
    "    print(faces.shape)\n",
    "    \n",
    "    print(trimesh.graph.face_adjacency(faces))\n",
    "    \n",
    "    \n",
    "    #export_mesh_to_obj(\"output.obj\",output_pointcloud.copy(),faces.copy())\n",
    "\n",
    "    \n",
    "\n",
    "    #print(\"Predicted Mesh\")\n",
    "        \n",
    "    visualize_mesh(output_pointcloud,faces)\n",
    "    \n",
    "    "
   ]
  },
  {
   "cell_type": "code",
   "execution_count": 37,
   "id": "d7cdc632",
   "metadata": {},
   "outputs": [
    {
     "ename": "ValueError",
     "evalue": "edges must be (n, 2)!",
     "output_type": "error",
     "traceback": [
      "\u001b[0;31m---------------------------------------------------------------------------\u001b[0m",
      "\u001b[0;31mValueError\u001b[0m                                Traceback (most recent call last)",
      "Input \u001b[0;32mIn [37]\u001b[0m, in \u001b[0;36m<module>\u001b[0;34m\u001b[0m\n\u001b[0;32m----> 1\u001b[0m \u001b[43mvisualize_random\u001b[49m\u001b[43m(\u001b[49m\u001b[43m)\u001b[49m\n",
      "Input \u001b[0;32mIn [36]\u001b[0m, in \u001b[0;36mvisualize_random\u001b[0;34m()\u001b[0m\n\u001b[1;32m      3\u001b[0m     _, input_sdf, target_vertices, mask, target_edges, edges_adj \u001b[38;5;241m=\u001b[39m dataset[random_sample]\n\u001b[1;32m      4\u001b[0m    \u001b[38;5;66;03m# faces = []\u001b[39;00m\n\u001b[1;32m      5\u001b[0m \n\u001b[1;32m      6\u001b[0m \u001b[38;5;66;03m#     for i in range(num_vertices):\u001b[39;00m\n\u001b[0;32m   (...)\u001b[0m\n\u001b[1;32m     10\u001b[0m \u001b[38;5;66;03m#                     if target_edges[i][j] ==1 and target_edges[j][k]==1 and target_edges[k][i]==1:\u001b[39;00m\n\u001b[1;32m     11\u001b[0m \u001b[38;5;66;03m#                         faces.append(np.array([i,j,k]).reshape(1,-1))\u001b[39;00m\n\u001b[0;32m---> 13\u001b[0m     faces \u001b[38;5;241m=\u001b[39m \u001b[43mtrimesh\u001b[49m\u001b[38;5;241;43m.\u001b[39;49m\u001b[43mgraph\u001b[49m\u001b[38;5;241;43m.\u001b[39;49m\u001b[43mconnected_components\u001b[49m\u001b[43m(\u001b[49m\u001b[43mtarget_edges\u001b[49m\u001b[43m,\u001b[49m\u001b[43m \u001b[49m\u001b[43mmin_len\u001b[49m\u001b[38;5;241;43m=\u001b[39;49m\u001b[38;5;241;43m3\u001b[39;49m\u001b[43m)\u001b[49m\n\u001b[1;32m     15\u001b[0m     \u001b[38;5;28mprint\u001b[39m(faces\u001b[38;5;241m.\u001b[39mshape)\n\u001b[1;32m     17\u001b[0m     \u001b[38;5;28mprint\u001b[39m(trimesh\u001b[38;5;241m.\u001b[39mgraph\u001b[38;5;241m.\u001b[39mface_adjacency(faces)\u001b[38;5;241m.\u001b[39mshape)\n",
      "File \u001b[0;32m~/anaconda3/envs/pytorch3d/lib/python3.9/site-packages/trimesh/graph.py:420\u001b[0m, in \u001b[0;36mconnected_components\u001b[0;34m(edges, min_len, nodes, engine)\u001b[0m\n\u001b[1;32m    417\u001b[0m         \u001b[38;5;28;01mreturn\u001b[39;00m []\n\u001b[1;32m    419\u001b[0m \u001b[38;5;28;01mif\u001b[39;00m \u001b[38;5;129;01mnot\u001b[39;00m util\u001b[38;5;241m.\u001b[39mis_shape(edges, (\u001b[38;5;241m-\u001b[39m\u001b[38;5;241m1\u001b[39m, \u001b[38;5;241m2\u001b[39m)):\n\u001b[0;32m--> 420\u001b[0m     \u001b[38;5;28;01mraise\u001b[39;00m \u001b[38;5;167;01mValueError\u001b[39;00m(\u001b[38;5;124m'\u001b[39m\u001b[38;5;124medges must be (n, 2)!\u001b[39m\u001b[38;5;124m'\u001b[39m)\n\u001b[1;32m    422\u001b[0m \u001b[38;5;66;03m# find the maximum index referenced in either nodes or edges\u001b[39;00m\n\u001b[1;32m    423\u001b[0m counts \u001b[38;5;241m=\u001b[39m [\u001b[38;5;241m0\u001b[39m]\n",
      "\u001b[0;31mValueError\u001b[0m: edges must be (n, 2)!"
     ]
    }
   ],
   "source": [
    "visualize_random()"
   ]
  },
  {
   "cell_type": "code",
   "execution_count": null,
   "id": "a8aa7386",
   "metadata": {},
   "outputs": [],
   "source": []
  },
  {
   "cell_type": "code",
   "execution_count": null,
   "id": "8e2362b9",
   "metadata": {},
   "outputs": [],
   "source": []
  },
  {
   "cell_type": "code",
   "execution_count": null,
   "id": "ddfcb024",
   "metadata": {},
   "outputs": [],
   "source": []
  },
  {
   "cell_type": "code",
   "execution_count": null,
   "id": "831709fd",
   "metadata": {},
   "outputs": [],
   "source": []
  },
  {
   "cell_type": "code",
   "execution_count": null,
   "id": "60263481",
   "metadata": {},
   "outputs": [],
   "source": []
  },
  {
   "cell_type": "code",
   "execution_count": 26,
   "id": "a4011db8",
   "metadata": {},
   "outputs": [],
   "source": [
    "def export_mesh_to_obj(path, vertices, faces):\n",
    "\n",
    "    to_write = \"\"\n",
    "\n",
    "    faces += 1\n",
    "\n",
    "    obj_file = open(path, \"w+\")\n",
    "\n",
    "    for i in range(vertices.shape[0]):\n",
    "        vx = vertices[i,:]\n",
    "        l = f\"v {vx[0]} {vx[1]} {vx[2]}\\n\"\n",
    "        to_write += l\n",
    "\n",
    "    for i in range(faces.shape[0]):\n",
    "        face = faces[i,:]\n",
    "        l = f\"f {face[0]} {face[1]} {face[2]}\\n\"\n",
    "        to_write += l\n",
    "\n",
    "    obj_file.write(to_write)\n",
    "\n",
    "    obj_file.close()\n"
   ]
  },
  {
   "cell_type": "code",
   "execution_count": 27,
   "id": "40180a86",
   "metadata": {},
   "outputs": [],
   "source": [
    "import open3d"
   ]
  },
  {
   "cell_type": "code",
   "execution_count": 28,
   "id": "f25c018c",
   "metadata": {},
   "outputs": [],
   "source": [
    "mesh_in = open3d.io.read_triangle_mesh(\"output.obj\")"
   ]
  },
  {
   "cell_type": "code",
   "execution_count": 29,
   "id": "b8162f1e",
   "metadata": {},
   "outputs": [
    {
     "data": {
      "text/plain": [
       "TriangleMesh with 100 points and 35181 triangles."
      ]
     },
     "execution_count": 29,
     "metadata": {},
     "output_type": "execute_result"
    }
   ],
   "source": [
    "mesh_in"
   ]
  },
  {
   "cell_type": "code",
   "execution_count": 30,
   "id": "79c89b39",
   "metadata": {},
   "outputs": [],
   "source": [
    "mesh_smp = mesh_in.simplify_quadric_decimation(target_number_of_triangles=20000)"
   ]
  },
  {
   "cell_type": "code",
   "execution_count": 31,
   "id": "d3ad1161",
   "metadata": {},
   "outputs": [
    {
     "data": {
      "text/plain": [
       "TriangleMesh with 31 points and 19626 triangles."
      ]
     },
     "execution_count": 31,
     "metadata": {},
     "output_type": "execute_result"
    }
   ],
   "source": [
    "mesh_smp"
   ]
  },
  {
   "cell_type": "code",
   "execution_count": 32,
   "id": "f841c456",
   "metadata": {},
   "outputs": [],
   "source": [
    "open3d.visualization.draw_geometries([mesh_smp])"
   ]
  },
  {
   "cell_type": "code",
   "execution_count": 33,
   "id": "793d4ece",
   "metadata": {},
   "outputs": [
    {
     "data": {
      "text/plain": [
       "True"
      ]
     },
     "execution_count": 33,
     "metadata": {},
     "output_type": "execute_result"
    }
   ],
   "source": [
    "open3d.io.write_triangle_mesh(\"simplified.obj\", mesh_smp)"
   ]
  },
  {
   "cell_type": "code",
   "execution_count": 35,
   "id": "3dd445bd",
   "metadata": {},
   "outputs": [
    {
     "data": {
      "text/plain": [
       "array([[ 0.1610322 , -0.29845652, -0.28329909],\n",
       "       [-0.14093108, -0.02186579, -0.24869767],\n",
       "       [ 0.00977515,  0.0844263 , -0.2368125 ],\n",
       "       [ 0.16424899, -0.00437306, -0.23929292],\n",
       "       [-0.15810894, -0.33066337, -0.24130594],\n",
       "       [ 0.07457884, -0.03870672, -0.19639743],\n",
       "       [ 0.14389685, -0.27245843, -0.12635003],\n",
       "       [ 0.13066384, -0.3826485 , -0.22867607],\n",
       "       [ 0.14924926,  0.13215493, -0.21904702],\n",
       "       [ 0.15126379, -0.36364358, -0.07179864],\n",
       "       [ 0.14431539, -0.09431536,  0.08698647],\n",
       "       [ 0.14917452,  0.08565598,  0.22025901],\n",
       "       [ 0.15639293, -0.27986974,  0.20635703],\n",
       "       [ 0.16032607,  0.10863305,  0.11851151],\n",
       "       [ 0.13281418,  0.07716768,  0.00740832],\n",
       "       [ 0.14441749, -0.01945177,  0.16263057],\n",
       "       [-0.03637091, -0.04049452,  0.11493398],\n",
       "       [ 0.13897389,  0.42027318,  0.14827853],\n",
       "       [-0.10913445,  0.11843286,  0.15846808],\n",
       "       [ 0.03900905,  0.47646358,  0.19953372],\n",
       "       [-0.1440687 , -0.19119753,  0.18608132],\n",
       "       [-0.148908  ,  0.11639099,  0.07922168],\n",
       "       [-0.16070224,  0.39944553,  0.22409334],\n",
       "       [-0.17081353,  0.51914722,  0.14520697],\n",
       "       [-0.15830508,  0.29482841,  0.0501288 ],\n",
       "       [-0.14539209, -0.09454535,  0.08942707],\n",
       "       [-0.16587631,  0.03444528,  0.01053898],\n",
       "       [-0.14901391,  0.12155493, -0.21007188],\n",
       "       [-0.17748043, -0.20224345, -0.10383444],\n",
       "       [-0.15104151, -0.36544667,  0.09753505],\n",
       "       [ 0.15215643,  0.26617908,  0.04026433]])"
      ]
     },
     "execution_count": 35,
     "metadata": {},
     "output_type": "execute_result"
    }
   ],
   "source": [
    "np.array(mesh_smp.vertices)"
   ]
  },
  {
   "cell_type": "code",
   "execution_count": 39,
   "id": "2f6e6533",
   "metadata": {},
   "outputs": [
    {
     "data": {
      "text/plain": [
       "array([[ 0,  1,  2],\n",
       "       [ 0,  1,  3],\n",
       "       [ 0,  1,  4],\n",
       "       ...,\n",
       "       [25, 18, 16],\n",
       "       [25, 18, 20],\n",
       "       [25, 18, 20]], dtype=int32)"
      ]
     },
     "execution_count": 39,
     "metadata": {},
     "output_type": "execute_result"
    }
   ],
   "source": [
    "np.array(mesh_smp.triangles)"
   ]
  },
  {
   "cell_type": "code",
   "execution_count": null,
   "id": "bfb470a4",
   "metadata": {},
   "outputs": [],
   "source": []
  }
 ],
 "metadata": {
  "kernelspec": {
   "display_name": "Python [conda env:pytorch3d]",
   "language": "python",
   "name": "conda-env-pytorch3d-py"
  },
  "language_info": {
   "codemirror_mode": {
    "name": "ipython",
    "version": 3
   },
   "file_extension": ".py",
   "mimetype": "text/x-python",
   "name": "python",
   "nbconvert_exporter": "python",
   "pygments_lexer": "ipython3",
   "version": "3.9.7"
  }
 },
 "nbformat": 4,
 "nbformat_minor": 5
}
