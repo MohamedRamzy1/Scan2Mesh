{
 "cells": [
  {
   "cell_type": "code",
   "execution_count": 26,
   "id": "cc392777",
   "metadata": {},
   "outputs": [],
   "source": [
    "import open3d as o3d"
   ]
  },
  {
   "cell_type": "code",
   "execution_count": 27,
   "id": "f1dcd480",
   "metadata": {},
   "outputs": [
    {
     "name": "stdout",
     "output_type": "stream",
     "text": [
      "[Open3D INFO] Skipping non-triangle primitive geometry of type: 2\n",
      "[Open3D INFO] Skipping non-triangle primitive geometry of type: 2\n",
      "[Open3D INFO] Skipping non-triangle primitive geometry of type: 2\n",
      "[Open3D INFO] Skipping non-triangle primitive geometry of type: 2\n",
      "[Open3D INFO] Skipping non-triangle primitive geometry of type: 2\n",
      "[Open3D INFO] Skipping non-triangle primitive geometry of type: 2\n",
      "[Open3D INFO] Skipping non-triangle primitive geometry of type: 2\n",
      "[Open3D INFO] Skipping non-triangle primitive geometry of type: 2\n",
      "[Open3D INFO] Skipping non-triangle primitive geometry of type: 2\n",
      "[Open3D INFO] Skipping non-triangle primitive geometry of type: 2\n",
      "[Open3D INFO] Skipping non-triangle primitive geometry of type: 2\n",
      "[Open3D INFO] Skipping non-triangle primitive geometry of type: 2\n",
      "[Open3D INFO] Skipping non-triangle primitive geometry of type: 2\n",
      "[Open3D INFO] Skipping non-triangle primitive geometry of type: 2\n",
      "[Open3D INFO] Skipping non-triangle primitive geometry of type: 2\n",
      "[Open3D INFO] Skipping non-triangle primitive geometry of type: 2\n",
      "[Open3D INFO] Skipping non-triangle primitive geometry of type: 2\n",
      "[Open3D INFO] Skipping non-triangle primitive geometry of type: 2\n",
      "[Open3D INFO] Skipping non-triangle primitive geometry of type: 2\n",
      "[Open3D INFO] Skipping non-triangle primitive geometry of type: 2\n"
     ]
    }
   ],
   "source": [
    "mesh = o3d.io.read_triangle_mesh(\"model_normalized.obj\")"
   ]
  },
  {
   "cell_type": "code",
   "execution_count": 28,
   "id": "d97611d3",
   "metadata": {},
   "outputs": [],
   "source": [
    "mesh = mesh.simplify_quadric_decimation(target_number_of_triangles=1000)"
   ]
  },
  {
   "cell_type": "code",
   "execution_count": 29,
   "id": "a4cb8c36",
   "metadata": {},
   "outputs": [
    {
     "data": {
      "text/plain": [
       "True"
      ]
     },
     "execution_count": 29,
     "metadata": {},
     "output_type": "execute_result"
    }
   ],
   "source": [
    "o3d.io.write_triangle_mesh(\"model_simplidied.obj\",\n",
    "                               mesh)"
   ]
  },
  {
   "cell_type": "code",
   "execution_count": null,
   "id": "aadbdf3e",
   "metadata": {},
   "outputs": [],
   "source": []
  }
 ],
 "metadata": {
  "kernelspec": {
   "display_name": "Python 3",
   "language": "python",
   "name": "python3"
  },
  "language_info": {
   "codemirror_mode": {
    "name": "ipython",
    "version": 3
   },
   "file_extension": ".py",
   "mimetype": "text/x-python",
   "name": "python",
   "nbconvert_exporter": "python",
   "pygments_lexer": "ipython3",
   "version": "3.7.11"
  }
 },
 "nbformat": 4,
 "nbformat_minor": 5
}
