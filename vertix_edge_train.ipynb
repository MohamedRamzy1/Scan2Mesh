{
 "cells": [
  {
   "cell_type": "code",
   "execution_count": null,
   "id": "f0750b6f",
   "metadata": {},
   "outputs": [],
   "source": [
    "import torch\n",
    "from data.shapenet import ShapeNet\n",
    "from model.vertix_model import VertixModel\n",
    "import tqdm\n",
    "from util.visualization import visualize_pointcloud, visualize_mesh\n",
    "import random\n",
    "%load_ext autoreload\n",
    "%autoreload 2\n",
    "import numpy as np\n",
    "import pickle"
   ]
  },
  {
   "cell_type": "code",
   "execution_count": 17,
   "id": "62ecccda",
   "metadata": {},
   "outputs": [],
   "source": [
    "num_vertices = 100"
   ]
  },
  {
   "cell_type": "code",
   "execution_count": 18,
   "id": "cbe67a4b",
   "metadata": {},
   "outputs": [],
   "source": [
    "config = {\n",
    "    'experiment_name': 'vertix_edge_training_l1_greedy',\n",
    "    'device': 'cuda:0',  \n",
    "    'is_overfit': False,\n",
    "    'batch_size': 8,\n",
    "    'resume_ckpt': None,\n",
    "    'learning_rate': 5e-4,\n",
    "    'max_epochs': 5000,\n",
    "    'print_every_n': 100,\n",
    "    'validate_every_n': 3200,\n",
    "    'sdf_path': 'data/shapenet_dim32_sdf',\n",
    "    'meshes_path': 'data/shapenet_reduced',\n",
    "    'class_mapping': 'data/shape_info.json',\n",
    "    'split': 'train',\n",
    "    'num_vertices': num_vertices,\n",
    "    'feature_size': 512,\n",
    "    'num_trajectories': 2,\n",
    "    'train_pickle': './train_100_2.pickle',\n",
    "    'val_pickle': './val_100_2.pickle'\n",
    "}"
   ]
  },
  {
   "cell_type": "code",
   "execution_count": 13,
   "id": "33d4f501",
   "metadata": {},
   "outputs": [],
   "source": [
    "dataset = ShapeNet(sdf_path=config[\"sdf_path\"],\n",
    "                         meshes_path=config[\"meshes_path\"],\n",
    "                         class_mapping=config[\"class_mapping\"],\n",
    "                         split = \"val\", threshold=config[\"num_vertices\"], num_trajectories=config[\"num_trajectories\"])\n"
   ]
  },
  {
   "cell_type": "code",
   "execution_count": 14,
   "id": "d148f352",
   "metadata": {},
   "outputs": [
    {
     "name": "stdout",
     "output_type": "stream",
     "text": [
      "Length of dataset: 32304\n",
      "Filtering data ..\n"
     ]
    },
    {
     "name": "stderr",
     "output_type": "stream",
     "text": [
      "100%|████████████████████████████████████| 32304/32304 [00:57<00:00, 560.19it/s]"
     ]
    },
    {
     "name": "stdout",
     "output_type": "stream",
     "text": [
      "Length of dataset: 5474\n"
     ]
    },
    {
     "name": "stderr",
     "output_type": "stream",
     "text": [
      "\n"
     ]
    }
   ],
   "source": [
    "dataset.filter_data()"
   ]
  },
  {
   "cell_type": "code",
   "execution_count": 15,
   "id": "7ace08c6",
   "metadata": {},
   "outputs": [],
   "source": [
    "with open('val_100_2.pickle', 'wb') as handle:\n",
    "    pickle.dump(dataset, handle, protocol=pickle.HIGHEST_PROTOCOL)"
   ]
  },
  {
   "cell_type": "code",
   "execution_count": null,
   "id": "0a969311",
   "metadata": {
    "scrolled": false
   },
   "outputs": [
    {
     "name": "stdout",
     "output_type": "stream",
     "text": [
      "Device: cuda:0\n",
      "Length of dataset: 153528\n",
      "Filtering data ..\n"
     ]
    },
    {
     "name": "stderr",
     "output_type": "stream",
     "text": [
      "100%|█████████████████████████████████| 153528/153528 [00:49<00:00, 3071.35it/s]\n"
     ]
    },
    {
     "name": "stdout",
     "output_type": "stream",
     "text": [
      "Length of dataset: 26196\n"
     ]
    },
    {
     "name": "stderr",
     "output_type": "stream",
     "text": [
      "100%|████████████████████████████████| 26196/26196 [00:00<00:00, 1130425.71it/s]\n"
     ]
    },
    {
     "name": "stdout",
     "output_type": "stream",
     "text": [
      "Class 03001627 has 4072 shapes\n",
      "Class 04530566 has 2424 shapes\n",
      "Class 04379243 has 6162 shapes\n",
      "Class 03636649 has 1518 shapes\n",
      "Class 02691156 has 2360 shapes\n",
      "Class 02958343 has 3372 shapes\n",
      "Class 04256520 has 4574 shapes\n",
      "Class 02933112 has 1714 shapes\n",
      "Length of dataset: 32304\n",
      "Filtering data ..\n"
     ]
    },
    {
     "name": "stderr",
     "output_type": "stream",
     "text": [
      "100%|███████████████████████████████████| 32304/32304 [00:30<00:00, 1073.78it/s]\n"
     ]
    },
    {
     "name": "stdout",
     "output_type": "stream",
     "text": [
      "Length of dataset: 5474\n"
     ]
    },
    {
     "name": "stderr",
     "output_type": "stream",
     "text": [
      "100%|██████████████████████████████████| 5474/5474 [00:00<00:00, 1094096.74it/s]\n"
     ]
    },
    {
     "name": "stdout",
     "output_type": "stream",
     "text": [
      "Class 02691156 has 456 shapes\n",
      "Class 04379243 has 1254 shapes\n",
      "Class 02958343 has 700 shapes\n",
      "Class 04256520 has 1016 shapes\n",
      "Class 03636649 has 394 shapes\n",
      "Class 02933112 has 360 shapes\n",
      "Class 04530566 has 500 shapes\n",
      "Class 03001627 has 794 shapes\n",
      "[000/00099] train_loss: 0.223278, train_vertices_loss: 0.111578, train_edges_loss: 0.111700\n",
      "[000/00199] train_loss: 0.178762, train_vertices_loss: 0.096839, train_edges_loss: 0.081923\n",
      "[000/00299] train_loss: 0.176676, train_vertices_loss: 0.096535, train_edges_loss: 0.080142\n",
      "[000/00399] train_loss: 0.176466, train_vertices_loss: 0.096446, train_edges_loss: 0.080020\n",
      "[000/00499] train_loss: 0.171064, train_vertices_loss: 0.094326, train_edges_loss: 0.076738\n",
      "[000/00599] train_loss: 0.185907, train_vertices_loss: 0.104821, train_edges_loss: 0.081085\n",
      "[000/00699] train_loss: 0.174253, train_vertices_loss: 0.095535, train_edges_loss: 0.078718\n",
      "[000/00799] train_loss: 0.177318, train_vertices_loss: 0.097195, train_edges_loss: 0.080122\n",
      "[000/00899] train_loss: 0.172814, train_vertices_loss: 0.095841, train_edges_loss: 0.076973\n",
      "[000/00999] train_loss: 0.175409, train_vertices_loss: 0.097778, train_edges_loss: 0.077631\n",
      "[000/01099] train_loss: 0.177153, train_vertices_loss: 0.096674, train_edges_loss: 0.080479\n",
      "[000/01199] train_loss: 0.178977, train_vertices_loss: 0.095522, train_edges_loss: 0.083455\n",
      "[000/01299] train_loss: 0.167133, train_vertices_loss: 0.088312, train_edges_loss: 0.078821\n",
      "[000/01399] train_loss: 0.168097, train_vertices_loss: 0.087778, train_edges_loss: 0.080319\n",
      "[000/01499] train_loss: 0.174086, train_vertices_loss: 0.092682, train_edges_loss: 0.081404\n",
      "[000/01599] train_loss: 0.161340, train_vertices_loss: 0.084228, train_edges_loss: 0.077112\n",
      "[000/01699] train_loss: 0.165431, train_vertices_loss: 0.088449, train_edges_loss: 0.076982\n",
      "[000/01799] train_loss: 0.171952, train_vertices_loss: 0.090442, train_edges_loss: 0.081510\n",
      "[000/01899] train_loss: 0.162894, train_vertices_loss: 0.087416, train_edges_loss: 0.075477\n",
      "[000/01999] train_loss: 0.164633, train_vertices_loss: 0.085865, train_edges_loss: 0.078768\n",
      "[000/02099] train_loss: 0.166810, train_vertices_loss: 0.090292, train_edges_loss: 0.076518\n",
      "[000/02199] train_loss: 0.160234, train_vertices_loss: 0.084018, train_edges_loss: 0.076216\n",
      "[000/02299] train_loss: 0.161733, train_vertices_loss: 0.084102, train_edges_loss: 0.077630\n",
      "[000/02399] train_loss: 0.157898, train_vertices_loss: 0.081911, train_edges_loss: 0.075987\n",
      "[000/02499] train_loss: 0.163786, train_vertices_loss: 0.084757, train_edges_loss: 0.079029\n",
      "[000/02599] train_loss: 0.159779, train_vertices_loss: 0.082620, train_edges_loss: 0.077159\n",
      "[000/02699] train_loss: 0.152368, train_vertices_loss: 0.078513, train_edges_loss: 0.073856\n",
      "[000/02799] train_loss: 0.162800, train_vertices_loss: 0.082284, train_edges_loss: 0.080516\n",
      "[000/02899] train_loss: 0.156899, train_vertices_loss: 0.079576, train_edges_loss: 0.077323\n",
      "[000/02999] train_loss: 0.164991, train_vertices_loss: 0.083328, train_edges_loss: 0.081663\n",
      "[000/03099] train_loss: 0.154091, train_vertices_loss: 0.078536, train_edges_loss: 0.075555\n",
      "[000/03199] train_loss: 0.158712, train_vertices_loss: 0.081213, train_edges_loss: 0.077499\n",
      "[000/03199] val_loss: 0.155429 | best_loss_val: 0.155429 | loss_vertices: 0.079069 | loss_edges: 0.076360\n",
      "[001/00024] train_loss: 0.158494, train_vertices_loss: 0.080987, train_edges_loss: 0.077506\n",
      "[001/00124] train_loss: 0.156378, train_vertices_loss: 0.079388, train_edges_loss: 0.076990\n",
      "[001/00224] train_loss: 0.151350, train_vertices_loss: 0.077304, train_edges_loss: 0.074046\n",
      "[001/00324] train_loss: 0.162359, train_vertices_loss: 0.082614, train_edges_loss: 0.079745\n",
      "[001/00424] train_loss: 0.152472, train_vertices_loss: 0.078393, train_edges_loss: 0.074079\n",
      "[001/00524] train_loss: 0.157564, train_vertices_loss: 0.080056, train_edges_loss: 0.077508\n",
      "[001/00624] train_loss: 0.158022, train_vertices_loss: 0.081756, train_edges_loss: 0.076266\n",
      "[001/00724] train_loss: 0.154028, train_vertices_loss: 0.080159, train_edges_loss: 0.073869\n",
      "[001/00824] train_loss: 0.150706, train_vertices_loss: 0.078614, train_edges_loss: 0.072092\n",
      "[001/00924] train_loss: 0.156071, train_vertices_loss: 0.079903, train_edges_loss: 0.076168\n",
      "[001/01024] train_loss: 0.146041, train_vertices_loss: 0.076491, train_edges_loss: 0.069550\n",
      "[001/01124] train_loss: 0.158645, train_vertices_loss: 0.082465, train_edges_loss: 0.076180\n",
      "[001/01224] train_loss: 0.156178, train_vertices_loss: 0.081474, train_edges_loss: 0.074704\n",
      "[001/01324] train_loss: 0.150582, train_vertices_loss: 0.078492, train_edges_loss: 0.072090\n",
      "[001/01424] train_loss: 0.152517, train_vertices_loss: 0.080296, train_edges_loss: 0.072221\n",
      "[001/01524] train_loss: 0.147895, train_vertices_loss: 0.076831, train_edges_loss: 0.071064\n",
      "[001/01624] train_loss: 0.145124, train_vertices_loss: 0.076079, train_edges_loss: 0.069045\n",
      "[001/01724] train_loss: 0.155891, train_vertices_loss: 0.080597, train_edges_loss: 0.075293\n",
      "[001/01824] train_loss: 0.146938, train_vertices_loss: 0.076899, train_edges_loss: 0.070039\n",
      "[001/01924] train_loss: 0.155421, train_vertices_loss: 0.079965, train_edges_loss: 0.075456\n",
      "[001/02024] train_loss: 0.156679, train_vertices_loss: 0.080791, train_edges_loss: 0.075887\n",
      "[001/02124] train_loss: 0.160725, train_vertices_loss: 0.082733, train_edges_loss: 0.077991\n",
      "[001/02224] train_loss: 0.153333, train_vertices_loss: 0.079739, train_edges_loss: 0.073594\n",
      "[001/02324] train_loss: 0.143976, train_vertices_loss: 0.075194, train_edges_loss: 0.068783\n",
      "[001/02424] train_loss: 0.153991, train_vertices_loss: 0.081079, train_edges_loss: 0.072912\n",
      "[001/02524] train_loss: 0.156886, train_vertices_loss: 0.079080, train_edges_loss: 0.077806\n",
      "[001/02624] train_loss: 0.154266, train_vertices_loss: 0.080389, train_edges_loss: 0.073877\n",
      "[001/02724] train_loss: 0.153543, train_vertices_loss: 0.079699, train_edges_loss: 0.073844\n",
      "[001/02824] train_loss: 0.151965, train_vertices_loss: 0.079415, train_edges_loss: 0.072550\n",
      "[001/02924] train_loss: 0.149537, train_vertices_loss: 0.077549, train_edges_loss: 0.071988\n",
      "[001/03024] train_loss: 0.152625, train_vertices_loss: 0.079265, train_edges_loss: 0.073360\n",
      "[001/03124] train_loss: 0.146403, train_vertices_loss: 0.076680, train_edges_loss: 0.069723\n",
      "[001/03124] val_loss: 0.150608 | best_loss_val: 0.150608 | loss_vertices: 0.078755 | loss_edges: 0.071853\n",
      "[001/03224] train_loss: 0.152165, train_vertices_loss: 0.079161, train_edges_loss: 0.073004\n",
      "[002/00049] train_loss: 0.157094, train_vertices_loss: 0.081375, train_edges_loss: 0.075719\n",
      "[002/00149] train_loss: 0.151200, train_vertices_loss: 0.078371, train_edges_loss: 0.072829\n",
      "[002/00249] train_loss: 0.158640, train_vertices_loss: 0.082503, train_edges_loss: 0.076137\n",
      "[002/00349] train_loss: 0.157827, train_vertices_loss: 0.081765, train_edges_loss: 0.076062\n",
      "[002/00449] train_loss: 0.148008, train_vertices_loss: 0.076690, train_edges_loss: 0.071318\n",
      "[002/00549] train_loss: 0.154323, train_vertices_loss: 0.080723, train_edges_loss: 0.073600\n",
      "[002/00649] train_loss: 0.154610, train_vertices_loss: 0.079712, train_edges_loss: 0.074898\n",
      "[002/00749] train_loss: 0.155754, train_vertices_loss: 0.080689, train_edges_loss: 0.075065\n",
      "[002/00849] train_loss: 0.154369, train_vertices_loss: 0.080541, train_edges_loss: 0.073827\n",
      "[002/00949] train_loss: 0.153106, train_vertices_loss: 0.079132, train_edges_loss: 0.073974\n",
      "[002/01049] train_loss: 0.149375, train_vertices_loss: 0.077717, train_edges_loss: 0.071658\n",
      "[002/01149] train_loss: 0.149616, train_vertices_loss: 0.077911, train_edges_loss: 0.071704\n",
      "[002/01249] train_loss: 0.158106, train_vertices_loss: 0.081933, train_edges_loss: 0.076173\n",
      "[002/01349] train_loss: 0.148170, train_vertices_loss: 0.076559, train_edges_loss: 0.071611\n",
      "[002/01449] train_loss: 0.151939, train_vertices_loss: 0.078797, train_edges_loss: 0.073143\n",
      "[002/01549] train_loss: 0.150894, train_vertices_loss: 0.078323, train_edges_loss: 0.072571\n",
      "[002/01649] train_loss: 0.151993, train_vertices_loss: 0.078911, train_edges_loss: 0.073083\n",
      "[002/01749] train_loss: 0.149877, train_vertices_loss: 0.077976, train_edges_loss: 0.071901\n",
      "[002/01849] train_loss: 0.147983, train_vertices_loss: 0.077707, train_edges_loss: 0.070276\n",
      "[002/01949] train_loss: 0.157997, train_vertices_loss: 0.082598, train_edges_loss: 0.075399\n"
     ]
    },
    {
     "name": "stdout",
     "output_type": "stream",
     "text": [
      "[002/02049] train_loss: 0.151204, train_vertices_loss: 0.079731, train_edges_loss: 0.071473\n",
      "[002/02149] train_loss: 0.158463, train_vertices_loss: 0.082312, train_edges_loss: 0.076150\n",
      "[002/02249] train_loss: 0.152317, train_vertices_loss: 0.079933, train_edges_loss: 0.072384\n",
      "[002/02349] train_loss: 0.149944, train_vertices_loss: 0.078360, train_edges_loss: 0.071584\n",
      "[002/02449] train_loss: 0.149126, train_vertices_loss: 0.077876, train_edges_loss: 0.071250\n",
      "[002/02549] train_loss: 0.150185, train_vertices_loss: 0.078855, train_edges_loss: 0.071330\n"
     ]
    }
   ],
   "source": [
    "from training import vertix_edge_train\n",
    "\n",
    "vertix_edge_train.main(config)"
   ]
  },
  {
   "cell_type": "code",
   "execution_count": 7,
   "id": "fe04aceb",
   "metadata": {},
   "outputs": [],
   "source": [
    "from inference.inference_vertix_edge import InferenceHandlerVertixEdgeModel\n",
    "\n",
    "# create a handler for inference using a trained checkpoint\n",
    "inferer = InferenceHandlerVertixEdgeModel('runs/vertix_edge_overfitting/model_best.ckpt', config[\"num_vertices\"], config[\"feature_size\"])"
   ]
  },
  {
   "cell_type": "code",
   "execution_count": 8,
   "id": "dcadb433",
   "metadata": {},
   "outputs": [],
   "source": [
    "x_indices = []\n",
    "y_indices = []\n",
    "\n",
    "graph = np.ones((1,config[\"num_vertices\"], config[\"num_vertices\"],1))\n",
    "\n",
    "for i in range(config[\"num_vertices\"]):\n",
    "    for j in range(config[\"num_vertices\"]):\n",
    "        x_indices.append(i)\n",
    "        y_indices.append(j)"
   ]
  },
  {
   "cell_type": "code",
   "execution_count": 31,
   "id": "60263481",
   "metadata": {},
   "outputs": [],
   "source": [
    "random_sample = random.randint(0,len(dataset))"
   ]
  },
  {
   "cell_type": "code",
   "execution_count": 32,
   "id": "3d9be6cd",
   "metadata": {},
   "outputs": [],
   "source": [
    "random_input = dataset[random_sample][\"input_sdf\"]\n",
    "gt_pointcloud = dataset[random_sample][\"target_vertices\"]\n",
    "gt_mask = dataset[random_sample][\"input_mask\"]\n",
    "gt_edges = dataset[random_sample][\"target_edges\"]\n",
    "#faces = dataset[random_sample][\"faces\"]"
   ]
  },
  {
   "cell_type": "code",
   "execution_count": 33,
   "id": "b09f2a46",
   "metadata": {},
   "outputs": [],
   "source": [
    "faces = []\n",
    "\n",
    "for i in range(num_vertices):\n",
    "    for j in range(num_vertices):\n",
    "        for k in range(num_vertices):\n",
    "            if gt_edges[i][j] and gt_edges[j][k]:\n",
    "                faces.append(np.array([i,j,k]).reshape(1,-1))"
   ]
  },
  {
   "cell_type": "code",
   "execution_count": null,
   "id": "5d8e0ca0",
   "metadata": {},
   "outputs": [],
   "source": []
  },
  {
   "cell_type": "code",
   "execution_count": 34,
   "id": "bff03402",
   "metadata": {},
   "outputs": [],
   "source": [
    "faces = np.concatenate(faces,0)"
   ]
  },
  {
   "cell_type": "code",
   "execution_count": 35,
   "id": "c738f0f8",
   "metadata": {},
   "outputs": [
    {
     "data": {
      "application/vnd.jupyter.widget-view+json": {
       "model_id": "7855eced51554893a4c24f97457f5b14",
       "version_major": 2,
       "version_minor": 0
      },
      "text/plain": [
       "Output()"
      ]
     },
     "metadata": {},
     "output_type": "display_data"
    }
   ],
   "source": [
    "visualize_pointcloud(gt_pointcloud, point_size=0.01)"
   ]
  },
  {
   "cell_type": "code",
   "execution_count": 36,
   "id": "03334c13",
   "metadata": {},
   "outputs": [
    {
     "data": {
      "application/vnd.jupyter.widget-view+json": {
       "model_id": "6fe62f2b3b7c4b8c9860f0fc2ce57e6a",
       "version_major": 2,
       "version_minor": 0
      },
      "text/plain": [
       "Output()"
      ]
     },
     "metadata": {},
     "output_type": "display_data"
    }
   ],
   "source": [
    "visualize_mesh(gt_pointcloud, faces)"
   ]
  },
  {
   "cell_type": "code",
   "execution_count": 37,
   "id": "5f2e1184",
   "metadata": {},
   "outputs": [],
   "source": [
    "output_pointcloud, edges = inferer.infer_single(random_input, gt_mask, x_indices,y_indices,graph)"
   ]
  },
  {
   "cell_type": "code",
   "execution_count": 38,
   "id": "6c652215",
   "metadata": {},
   "outputs": [
    {
     "data": {
      "text/plain": [
       "(150, 150)"
      ]
     },
     "execution_count": 38,
     "metadata": {},
     "output_type": "execute_result"
    }
   ],
   "source": [
    "edges.shape"
   ]
  },
  {
   "cell_type": "code",
   "execution_count": null,
   "id": "be734189",
   "metadata": {},
   "outputs": [],
   "source": []
  },
  {
   "cell_type": "code",
   "execution_count": 41,
   "id": "0e5f7ffc",
   "metadata": {},
   "outputs": [],
   "source": [
    "faces = []\n",
    "\n",
    "for i in range(num_vertices):\n",
    "    for j in range(num_vertices):\n",
    "        for k in range(num_vertices):\n",
    "            if gt_edges[i][j] and gt_edges[j][k]:\n",
    "                faces.append(np.array([i,j,k]).reshape(1,-1))\n",
    "faces = np.concatenate(faces,0)"
   ]
  },
  {
   "cell_type": "code",
   "execution_count": 42,
   "id": "795bd0be",
   "metadata": {},
   "outputs": [
    {
     "data": {
      "application/vnd.jupyter.widget-view+json": {
       "model_id": "beb9ea977d9541348da668d8b67bcb91",
       "version_major": 2,
       "version_minor": 0
      },
      "text/plain": [
       "Output()"
      ]
     },
     "metadata": {},
     "output_type": "display_data"
    }
   ],
   "source": [
    "visualize_pointcloud(output_pointcloud[:int(gt_mask.sum())].squeeze(),point_size=0.01)"
   ]
  },
  {
   "cell_type": "code",
   "execution_count": null,
   "id": "2651e1a9",
   "metadata": {},
   "outputs": [],
   "source": []
  },
  {
   "cell_type": "code",
   "execution_count": null,
   "id": "ddbdd227",
   "metadata": {},
   "outputs": [],
   "source": []
  },
  {
   "cell_type": "code",
   "execution_count": 40,
   "id": "8bd6cfd0",
   "metadata": {},
   "outputs": [
    {
     "data": {
      "text/plain": [
       "149"
      ]
     },
     "execution_count": 40,
     "metadata": {},
     "output_type": "execute_result"
    }
   ],
   "source": [
    "edges.sum()"
   ]
  },
  {
   "cell_type": "code",
   "execution_count": 41,
   "id": "64fdb434",
   "metadata": {},
   "outputs": [
    {
     "data": {
      "text/plain": [
       "132.0"
      ]
     },
     "execution_count": 41,
     "metadata": {},
     "output_type": "execute_result"
    }
   ],
   "source": [
    "gt_edges.sum()"
   ]
  },
  {
   "cell_type": "code",
   "execution_count": 43,
   "id": "3fa3ff6b",
   "metadata": {},
   "outputs": [],
   "source": [
    "faces = []\n",
    "\n",
    "for i in range(num_vertices):\n",
    "    for j in range(num_vertices):\n",
    "        for k in range(num_vertices):\n",
    "            if edges[i][j] and edges[j][k]:\n",
    "                faces.append(np.array([i,j,k]).reshape(1,-1))"
   ]
  },
  {
   "cell_type": "code",
   "execution_count": 44,
   "id": "41f2cb07",
   "metadata": {},
   "outputs": [],
   "source": [
    "faces = np.concatenate(faces,0)"
   ]
  },
  {
   "cell_type": "code",
   "execution_count": 45,
   "id": "9cf6bf6d",
   "metadata": {},
   "outputs": [
    {
     "data": {
      "application/vnd.jupyter.widget-view+json": {
       "model_id": "1e03c4bbcd7e4030a682d80eabc825e1",
       "version_major": 2,
       "version_minor": 0
      },
      "text/plain": [
       "Output()"
      ]
     },
     "metadata": {},
     "output_type": "display_data"
    }
   ],
   "source": [
    "visualize_mesh(output_pointcloud,faces)"
   ]
  },
  {
   "cell_type": "code",
   "execution_count": 1,
   "id": "e66d0cea",
   "metadata": {},
   "outputs": [
    {
     "ename": "NameError",
     "evalue": "name 'algorithm' is not defined",
     "output_type": "error",
     "traceback": [
      "\u001b[0;31m---------------------------------------------------------------------------\u001b[0m",
      "\u001b[0;31mNameError\u001b[0m                                 Traceback (most recent call last)",
      "Input \u001b[0;32mIn [1]\u001b[0m, in \u001b[0;36m<module>\u001b[0;34m\u001b[0m\n\u001b[0;32m----> 1\u001b[0m \u001b[43malgorithm\u001b[49m\u001b[38;5;241m.\u001b[39mfind_matching(G, matching_type \u001b[38;5;241m=\u001b[39m \u001b[38;5;124m'\u001b[39m\u001b[38;5;124mmax\u001b[39m\u001b[38;5;124m'\u001b[39m, return_type \u001b[38;5;241m=\u001b[39m \u001b[38;5;124m'\u001b[39m\u001b[38;5;124mlist\u001b[39m\u001b[38;5;124m'\u001b[39m)\n",
      "\u001b[0;31mNameError\u001b[0m: name 'algorithm' is not defined"
     ]
    }
   ],
   "source": []
  },
  {
   "cell_type": "code",
   "execution_count": null,
   "id": "729713a6",
   "metadata": {},
   "outputs": [],
   "source": []
  }
 ],
 "metadata": {
  "kernelspec": {
   "display_name": "Python [conda env:pytorch3d]",
   "language": "python",
   "name": "conda-env-pytorch3d-py"
  },
  "language_info": {
   "codemirror_mode": {
    "name": "ipython",
    "version": 3
   },
   "file_extension": ".py",
   "mimetype": "text/x-python",
   "name": "python",
   "nbconvert_exporter": "python",
   "pygments_lexer": "ipython3",
   "version": "3.9.7"
  }
 },
 "nbformat": 4,
 "nbformat_minor": 5
}
