{
 "cells": [
  {
   "cell_type": "code",
   "execution_count": 1,
   "id": "f0750b6f",
   "metadata": {},
   "outputs": [],
   "source": [
    "import torch\n",
    "from data.shapenet import ShapeNet\n",
    "from model.vertix_model import VertixModel\n",
    "import tqdm\n",
    "from util.visualization import visualize_pointcloud, visualize_mesh\n",
    "import random\n",
    "%load_ext autoreload\n",
    "%autoreload 2\n",
    "import numpy as np\n",
    "import pickle"
   ]
  },
  {
   "cell_type": "code",
   "execution_count": 2,
   "id": "62ecccda",
   "metadata": {},
   "outputs": [],
   "source": [
    "num_vertices = 100"
   ]
  },
  {
   "cell_type": "code",
   "execution_count": 3,
   "id": "cbe67a4b",
   "metadata": {},
   "outputs": [],
   "source": [
    "config = {\n",
    "    'experiment_name': 'vertix_edge_overfitting',\n",
    "    'device': 'cuda:0',  \n",
    "    'is_overfit': True,\n",
    "    'batch_size': 10,\n",
    "    'resume_ckpt': False,\n",
    "    'learning_rate': 5e-4,\n",
    "    'max_epochs': 50000,\n",
    "    'print_every_n': 10,\n",
    "    'validate_every_n': 10,\n",
    "    'sdf_path': 'data/shapenet_dim32_sdf',\n",
    "    'meshes_path': 'data/shapenet_reduced',\n",
    "    'class_mapping': 'data/shape_info.json',\n",
    "    'split': 'overfit',\n",
    "    'num_vertices': num_vertices,\n",
    "    'feature_size': 512,\n",
    "    'num_trajectories': 2,\n",
    "}"
   ]
  },
  {
   "cell_type": "code",
   "execution_count": 4,
   "id": "33d4f501",
   "metadata": {},
   "outputs": [],
   "source": [
    "dataset = ShapeNet(sdf_path=config[\"sdf_path\"],\n",
    "                         meshes_path=config[\"meshes_path\"],\n",
    "                         class_mapping=config[\"class_mapping\"],\n",
    "                         split = \"overfit\", threshold=config[\"num_vertices\"], num_trajectories=config[\"num_trajectories\"])\n"
   ]
  },
  {
   "cell_type": "code",
   "execution_count": 5,
   "id": "d148f352",
   "metadata": {},
   "outputs": [
    {
     "name": "stdout",
     "output_type": "stream",
     "text": [
      "Length of dataset: 697\n",
      "Filtering data ..\n"
     ]
    },
    {
     "name": "stderr",
     "output_type": "stream",
     "text": [
      "100%|████████████████████████████████████████| 697/697 [00:02<00:00, 311.22it/s]"
     ]
    },
    {
     "name": "stdout",
     "output_type": "stream",
     "text": [
      "Length of dataset: 128\n"
     ]
    },
    {
     "name": "stderr",
     "output_type": "stream",
     "text": [
      "\n"
     ]
    }
   ],
   "source": [
    "dataset.filter_data()"
   ]
  },
  {
   "cell_type": "code",
   "execution_count": null,
   "id": "7ace08c6",
   "metadata": {},
   "outputs": [],
   "source": []
  },
  {
   "cell_type": "code",
   "execution_count": null,
   "id": "0a969311",
   "metadata": {
    "scrolled": false
   },
   "outputs": [
    {
     "name": "stdout",
     "output_type": "stream",
     "text": [
      "Device: cuda:0\n",
      "Length of dataset: 697\n",
      "Filtering data ..\n"
     ]
    },
    {
     "name": "stderr",
     "output_type": "stream",
     "text": [
      "100%|███████████████████████████████████████| 697/697 [00:00<00:00, 4911.14it/s]\n"
     ]
    },
    {
     "name": "stdout",
     "output_type": "stream",
     "text": [
      "Length of dataset: 128\n"
     ]
    },
    {
     "name": "stderr",
     "output_type": "stream",
     "text": [
      "100%|█████████████████████████████████████| 128/128 [00:00<00:00, 887389.94it/s]\n"
     ]
    },
    {
     "name": "stdout",
     "output_type": "stream",
     "text": [
      "Class 03001627 has 23 shapes\n",
      "Class 04379243 has 45 shapes\n",
      "Class 03636649 has 3 shapes\n",
      "Class 02933112 has 11 shapes\n",
      "Class 04530566 has 9 shapes\n",
      "Class 02958343 has 13 shapes\n",
      "Class 04256520 has 16 shapes\n",
      "Class 02691156 has 8 shapes\n",
      "Length of dataset: 697\n",
      "Filtering data ..\n"
     ]
    },
    {
     "name": "stderr",
     "output_type": "stream",
     "text": [
      "100%|███████████████████████████████████████| 697/697 [00:00<00:00, 5285.02it/s]\n"
     ]
    },
    {
     "name": "stdout",
     "output_type": "stream",
     "text": [
      "Length of dataset: 128\n"
     ]
    },
    {
     "name": "stderr",
     "output_type": "stream",
     "text": [
      "100%|█████████████████████████████████████| 128/128 [00:00<00:00, 922458.61it/s]\n"
     ]
    },
    {
     "name": "stdout",
     "output_type": "stream",
     "text": [
      "Class 03001627 has 23 shapes\n",
      "Class 04379243 has 45 shapes\n",
      "Class 03636649 has 3 shapes\n",
      "Class 02933112 has 11 shapes\n",
      "Class 04530566 has 9 shapes\n",
      "Class 02958343 has 13 shapes\n",
      "Class 04256520 has 16 shapes\n",
      "Class 02691156 has 8 shapes\n",
      "[000/00009] train_loss: 0.800974, train_vertices_loss: 0.133566, train_edges_loss: 0.667408\n"
     ]
    },
    {
     "name": "stderr",
     "output_type": "stream",
     "text": [
      "[W pthreadpool-cpp.cc:90] Warning: Leaking Caffe2 thread-pool after fork. (function pthreadpool)\n",
      "[W pthreadpool-cpp.cc:90] Warning: Leaking Caffe2 thread-pool after fork. (function pthreadpool)\n",
      "[W pthreadpool-cpp.cc:90] Warning: Leaking Caffe2 thread-pool after fork. (function pthreadpool)\n",
      "[W pthreadpool-cpp.cc:90] Warning: Leaking Caffe2 thread-pool after fork. (function pthreadpool)\n"
     ]
    },
    {
     "name": "stdout",
     "output_type": "stream",
     "text": [
      "[000/00009] val_loss: 0.719556 | best_loss_val: 0.719556 | loss_vertices: 0.116486 | loss_edges: 0.603070\n"
     ]
    },
    {
     "name": "stderr",
     "output_type": "stream",
     "text": [
      "[W pthreadpool-cpp.cc:90] Warning: Leaking Caffe2 thread-pool after fork. (function pthreadpool)\n",
      "[W pthreadpool-cpp.cc:90] Warning: Leaking Caffe2 thread-pool after fork. (function pthreadpool)\n",
      "[W pthreadpool-cpp.cc:90] Warning: Leaking Caffe2 thread-pool after fork. (function pthreadpool)\n",
      "[W pthreadpool-cpp.cc:90] Warning: Leaking Caffe2 thread-pool after fork. (function pthreadpool)\n"
     ]
    },
    {
     "name": "stdout",
     "output_type": "stream",
     "text": [
      "[001/00006] train_loss: 0.478203, train_vertices_loss: 0.119064, train_edges_loss: 0.359139\n"
     ]
    },
    {
     "name": "stderr",
     "output_type": "stream",
     "text": [
      "[W pthreadpool-cpp.cc:90] Warning: Leaking Caffe2 thread-pool after fork. (function pthreadpool)\n",
      "[W pthreadpool-cpp.cc:90] Warning: Leaking Caffe2 thread-pool after fork. (function pthreadpool)\n",
      "[W pthreadpool-cpp.cc:90] Warning: Leaking Caffe2 thread-pool after fork. (function pthreadpool)\n",
      "[W pthreadpool-cpp.cc:90] Warning: Leaking Caffe2 thread-pool after fork. (function pthreadpool)\n",
      "[W pthreadpool-cpp.cc:90] Warning: Leaking Caffe2 thread-pool after fork. (function pthreadpool)\n"
     ]
    },
    {
     "name": "stdout",
     "output_type": "stream",
     "text": [
      "[001/00006] val_loss: 0.361103 | best_loss_val: 0.361103 | loss_vertices: 0.093115 | loss_edges: 0.267989\n"
     ]
    },
    {
     "name": "stderr",
     "output_type": "stream",
     "text": [
      "[W pthreadpool-cpp.cc:90] Warning: Leaking Caffe2 thread-pool after fork. (function pthreadpool)\n",
      "[W pthreadpool-cpp.cc:90] Warning: Leaking Caffe2 thread-pool after fork. (function pthreadpool)\n",
      "[W pthreadpool-cpp.cc:90] Warning: Leaking Caffe2 thread-pool after fork. (function pthreadpool)\n",
      "[W pthreadpool-cpp.cc:90] Warning: Leaking Caffe2 thread-pool after fork. (function pthreadpool)\n"
     ]
    },
    {
     "name": "stdout",
     "output_type": "stream",
     "text": [
      "[002/00003] train_loss: 0.395594, train_vertices_loss: 0.113501, train_edges_loss: 0.282094\n"
     ]
    },
    {
     "name": "stderr",
     "output_type": "stream",
     "text": [
      "[W pthreadpool-cpp.cc:90] Warning: Leaking Caffe2 thread-pool after fork. (function pthreadpool)\n",
      "[W pthreadpool-cpp.cc:90] Warning: Leaking Caffe2 thread-pool after fork. (function pthreadpool)\n",
      "[W pthreadpool-cpp.cc:90] Warning: Leaking Caffe2 thread-pool after fork. (function pthreadpool)\n",
      "[W pthreadpool-cpp.cc:90] Warning: Leaking Caffe2 thread-pool after fork. (function pthreadpool)\n",
      "[W pthreadpool-cpp.cc:90] Warning: Leaking Caffe2 thread-pool after fork. (function pthreadpool)\n"
     ]
    },
    {
     "name": "stdout",
     "output_type": "stream",
     "text": [
      "[002/00003] val_loss: 0.347256 | best_loss_val: 0.347256 | loss_vertices: 0.087994 | loss_edges: 0.259262\n"
     ]
    },
    {
     "name": "stderr",
     "output_type": "stream",
     "text": [
      "[W pthreadpool-cpp.cc:90] Warning: Leaking Caffe2 thread-pool after fork. (function pthreadpool)\n",
      "[W pthreadpool-cpp.cc:90] Warning: Leaking Caffe2 thread-pool after fork. (function pthreadpool)\n",
      "[W pthreadpool-cpp.cc:90] Warning: Leaking Caffe2 thread-pool after fork. (function pthreadpool)\n",
      "[W pthreadpool-cpp.cc:90] Warning: Leaking Caffe2 thread-pool after fork. (function pthreadpool)\n",
      "[W pthreadpool-cpp.cc:90] Warning: Leaking Caffe2 thread-pool after fork. (function pthreadpool)\n",
      "[W pthreadpool-cpp.cc:90] Warning: Leaking Caffe2 thread-pool after fork. (function pthreadpool)\n"
     ]
    },
    {
     "name": "stdout",
     "output_type": "stream",
     "text": [
      "[003/00000] train_loss: 0.366072, train_vertices_loss: 0.106430, train_edges_loss: 0.259641\n"
     ]
    },
    {
     "name": "stderr",
     "output_type": "stream",
     "text": [
      "[W pthreadpool-cpp.cc:90] Warning: Leaking Caffe2 thread-pool after fork. (function pthreadpool)\n",
      "[W pthreadpool-cpp.cc:90] Warning: Leaking Caffe2 thread-pool after fork. (function pthreadpool)\n",
      "[W pthreadpool-cpp.cc:90] Warning: Leaking Caffe2 thread-pool after fork. (function pthreadpool)\n",
      "[W pthreadpool-cpp.cc:90] Warning: Leaking Caffe2 thread-pool after fork. (function pthreadpool)\n"
     ]
    },
    {
     "name": "stdout",
     "output_type": "stream",
     "text": [
      "[003/00000] val_loss: 0.337260 | best_loss_val: 0.337260 | loss_vertices: 0.089352 | loss_edges: 0.247908\n",
      "[003/00010] train_loss: 0.351785, train_vertices_loss: 0.110857, train_edges_loss: 0.240928\n"
     ]
    },
    {
     "name": "stderr",
     "output_type": "stream",
     "text": [
      "[W pthreadpool-cpp.cc:90] Warning: Leaking Caffe2 thread-pool after fork. (function pthreadpool)\n",
      "[W pthreadpool-cpp.cc:90] Warning: Leaking Caffe2 thread-pool after fork. (function pthreadpool)\n",
      "[W pthreadpool-cpp.cc:90] Warning: Leaking Caffe2 thread-pool after fork. (function pthreadpool)\n",
      "[W pthreadpool-cpp.cc:90] Warning: Leaking Caffe2 thread-pool after fork. (function pthreadpool)\n"
     ]
    },
    {
     "name": "stdout",
     "output_type": "stream",
     "text": [
      "[003/00010] val_loss: 0.337162 | best_loss_val: 0.337162 | loss_vertices: 0.097089 | loss_edges: 0.240074\n"
     ]
    },
    {
     "name": "stderr",
     "output_type": "stream",
     "text": [
      "[W pthreadpool-cpp.cc:90] Warning: Leaking Caffe2 thread-pool after fork. (function pthreadpool)\n",
      "[W pthreadpool-cpp.cc:90] Warning: Leaking Caffe2 thread-pool after fork. (function pthreadpool)\n",
      "[W pthreadpool-cpp.cc:90] Warning: Leaking Caffe2 thread-pool after fork. (function pthreadpool)\n",
      "[W pthreadpool-cpp.cc:90] Warning: Leaking Caffe2 thread-pool after fork. (function pthreadpool)\n"
     ]
    },
    {
     "name": "stdout",
     "output_type": "stream",
     "text": [
      "[004/00007] train_loss: 0.343772, train_vertices_loss: 0.097829, train_edges_loss: 0.245943\n"
     ]
    },
    {
     "name": "stderr",
     "output_type": "stream",
     "text": [
      "[W pthreadpool-cpp.cc:90] Warning: Leaking Caffe2 thread-pool after fork. (function pthreadpool)\n",
      "[W pthreadpool-cpp.cc:90] Warning: Leaking Caffe2 thread-pool after fork. (function pthreadpool)\n",
      "[W pthreadpool-cpp.cc:90] Warning: Leaking Caffe2 thread-pool after fork. (function pthreadpool)\n",
      "[W pthreadpool-cpp.cc:90] Warning: Leaking Caffe2 thread-pool after fork. (function pthreadpool)\n",
      "[W pthreadpool-cpp.cc:90] Warning: Leaking Caffe2 thread-pool after fork. (function pthreadpool)\n",
      "[W pthreadpool-cpp.cc:90] Warning: Leaking Caffe2 thread-pool after fork. (function pthreadpool)\n"
     ]
    },
    {
     "name": "stdout",
     "output_type": "stream",
     "text": [
      "[004/00007] val_loss: 0.330495 | best_loss_val: 0.330495 | loss_vertices: 0.097355 | loss_edges: 0.233140\n"
     ]
    },
    {
     "name": "stderr",
     "output_type": "stream",
     "text": [
      "[W pthreadpool-cpp.cc:90] Warning: Leaking Caffe2 thread-pool after fork. (function pthreadpool)\n",
      "[W pthreadpool-cpp.cc:90] Warning: Leaking Caffe2 thread-pool after fork. (function pthreadpool)\n",
      "[W pthreadpool-cpp.cc:90] Warning: Leaking Caffe2 thread-pool after fork. (function pthreadpool)\n",
      "[W pthreadpool-cpp.cc:90] Warning: Leaking Caffe2 thread-pool after fork. (function pthreadpool)\n",
      "[W pthreadpool-cpp.cc:90] Warning: Leaking Caffe2 thread-pool after fork. (function pthreadpool)\n"
     ]
    }
   ],
   "source": [
    "from training import vertix_edge_train\n",
    "\n",
    "vertix_edge_train.main(config)"
   ]
  },
  {
   "cell_type": "code",
   "execution_count": 39,
   "id": "fe04aceb",
   "metadata": {},
   "outputs": [],
   "source": [
    "from inference.inference_vertix_edge import InferenceHandlerVertixEdgeModel\n",
    "\n",
    "# create a handler for inference using a trained checkpoint\n",
    "inferer = InferenceHandlerVertixEdgeModel('runs/vertix_edge_overfitting/model_best.ckpt', config[\"num_vertices\"], config[\"feature_size\"])"
   ]
  },
  {
   "cell_type": "code",
   "execution_count": 40,
   "id": "dcadb433",
   "metadata": {},
   "outputs": [],
   "source": [
    "x_indices = []\n",
    "y_indices = []\n",
    "\n",
    "graph = np.ones((1,config[\"num_vertices\"], config[\"num_vertices\"],1))\n",
    "\n",
    "for i in range(config[\"num_vertices\"]):\n",
    "    for j in range(config[\"num_vertices\"]):\n",
    "        x_indices.append(i)\n",
    "        y_indices.append(j)"
   ]
  },
  {
   "cell_type": "code",
   "execution_count": 41,
   "id": "60263481",
   "metadata": {},
   "outputs": [],
   "source": [
    "random_sample = random.randint(0,len(dataset))"
   ]
  },
  {
   "cell_type": "code",
   "execution_count": 42,
   "id": "3d9be6cd",
   "metadata": {},
   "outputs": [],
   "source": [
    "input_sdf, target_vertices, mask, target_edges, edges_adj = dataset[random_sample]"
   ]
  },
  {
   "cell_type": "code",
   "execution_count": 43,
   "id": "b09f2a46",
   "metadata": {},
   "outputs": [],
   "source": [
    "faces = []\n",
    "\n",
    "for i in range(num_vertices):\n",
    "    for j in range(num_vertices):\n",
    "        for k in range(num_vertices):\n",
    "            if target_edges[i][j] and target_edges[j][k]:\n",
    "                faces.append(np.array([i,j,k]).reshape(1,-1))"
   ]
  },
  {
   "cell_type": "code",
   "execution_count": null,
   "id": "5d8e0ca0",
   "metadata": {},
   "outputs": [],
   "source": []
  },
  {
   "cell_type": "code",
   "execution_count": 44,
   "id": "bff03402",
   "metadata": {},
   "outputs": [],
   "source": [
    "faces = np.concatenate(faces,0)"
   ]
  },
  {
   "cell_type": "code",
   "execution_count": 45,
   "id": "c738f0f8",
   "metadata": {},
   "outputs": [
    {
     "data": {
      "application/vnd.jupyter.widget-view+json": {
       "model_id": "ac1264536206434895ec0264e8f99102",
       "version_major": 2,
       "version_minor": 0
      },
      "text/plain": [
       "Output()"
      ]
     },
     "metadata": {},
     "output_type": "display_data"
    }
   ],
   "source": [
    "visualize_pointcloud(target_vertices, point_size=0.01)"
   ]
  },
  {
   "cell_type": "code",
   "execution_count": 46,
   "id": "03334c13",
   "metadata": {},
   "outputs": [
    {
     "data": {
      "application/vnd.jupyter.widget-view+json": {
       "model_id": "99384590819e4c4f8571cbf4d4843f79",
       "version_major": 2,
       "version_minor": 0
      },
      "text/plain": [
       "Output()"
      ]
     },
     "metadata": {},
     "output_type": "display_data"
    }
   ],
   "source": [
    "visualize_mesh(target_vertices, faces)"
   ]
  },
  {
   "cell_type": "code",
   "execution_count": 47,
   "id": "5f2e1184",
   "metadata": {},
   "outputs": [],
   "source": [
    "output_pointcloud, edges = inferer.infer_single(input_sdf, x_indices,y_indices,edges_adj)"
   ]
  },
  {
   "cell_type": "code",
   "execution_count": 48,
   "id": "6c652215",
   "metadata": {},
   "outputs": [
    {
     "data": {
      "text/plain": [
       "(100, 100)"
      ]
     },
     "execution_count": 48,
     "metadata": {},
     "output_type": "execute_result"
    }
   ],
   "source": [
    "edges.shape"
   ]
  },
  {
   "cell_type": "code",
   "execution_count": 49,
   "id": "be734189",
   "metadata": {},
   "outputs": [
    {
     "data": {
      "text/plain": [
       "4172"
      ]
     },
     "execution_count": 49,
     "metadata": {},
     "output_type": "execute_result"
    }
   ],
   "source": [
    "edges.sum()"
   ]
  },
  {
   "cell_type": "code",
   "execution_count": 50,
   "id": "0e5f7ffc",
   "metadata": {},
   "outputs": [],
   "source": [
    "faces = []\n",
    "\n",
    "for i in range(num_vertices):\n",
    "    for j in range(num_vertices):\n",
    "        for k in range(num_vertices):\n",
    "            if target_edges[i][j] and target_edges[j][k]:\n",
    "                faces.append(np.array([i,j,k]).reshape(1,-1))\n",
    "faces = np.concatenate(faces,0)"
   ]
  },
  {
   "cell_type": "code",
   "execution_count": 52,
   "id": "795bd0be",
   "metadata": {},
   "outputs": [
    {
     "data": {
      "application/vnd.jupyter.widget-view+json": {
       "model_id": "e74a8f3f77594720b7039d3179153887",
       "version_major": 2,
       "version_minor": 0
      },
      "text/plain": [
       "Output()"
      ]
     },
     "metadata": {},
     "output_type": "display_data"
    }
   ],
   "source": [
    "visualize_pointcloud(output_pointcloud,point_size=0.05)"
   ]
  },
  {
   "cell_type": "code",
   "execution_count": null,
   "id": "2651e1a9",
   "metadata": {},
   "outputs": [],
   "source": []
  },
  {
   "cell_type": "code",
   "execution_count": 53,
   "id": "ddbdd227",
   "metadata": {},
   "outputs": [
    {
     "data": {
      "text/plain": [
       "108.0"
      ]
     },
     "execution_count": 53,
     "metadata": {},
     "output_type": "execute_result"
    }
   ],
   "source": [
    "target_edges[target_edges > 0].sum()"
   ]
  },
  {
   "cell_type": "code",
   "execution_count": 54,
   "id": "8bd6cfd0",
   "metadata": {},
   "outputs": [
    {
     "data": {
      "text/plain": [
       "4172"
      ]
     },
     "execution_count": 54,
     "metadata": {},
     "output_type": "execute_result"
    }
   ],
   "source": [
    "edges.sum()"
   ]
  },
  {
   "cell_type": "code",
   "execution_count": 55,
   "id": "64fdb434",
   "metadata": {},
   "outputs": [
    {
     "ename": "SyntaxError",
     "evalue": "invalid syntax (428943145.py, line 1)",
     "output_type": "error",
     "traceback": [
      "\u001b[0;36m  Input \u001b[0;32mIn [55]\u001b[0;36m\u001b[0m\n\u001b[0;31m    [:int(mask.sum())target_edges.sum()\u001b[0m\n\u001b[0m     ^\u001b[0m\n\u001b[0;31mSyntaxError\u001b[0m\u001b[0;31m:\u001b[0m invalid syntax\n"
     ]
    }
   ],
   "source": [
    "[:int(mask.sum())target_edges.sum()"
   ]
  },
  {
   "cell_type": "code",
   "execution_count": 56,
   "id": "3fa3ff6b",
   "metadata": {},
   "outputs": [],
   "source": [
    "faces = []\n",
    "\n",
    "for i in range(num_vertices):\n",
    "    for j in range(num_vertices):\n",
    "        for k in range(num_vertices):\n",
    "            if edges[i][j] and edges[j][k]:\n",
    "                faces.append(np.array([i,j,k]).reshape(1,-1))"
   ]
  },
  {
   "cell_type": "code",
   "execution_count": 57,
   "id": "41f2cb07",
   "metadata": {},
   "outputs": [],
   "source": [
    "faces = np.concatenate(faces,0)"
   ]
  },
  {
   "cell_type": "code",
   "execution_count": 58,
   "id": "9cf6bf6d",
   "metadata": {},
   "outputs": [
    {
     "data": {
      "application/vnd.jupyter.widget-view+json": {
       "model_id": "5dc794b8d0a043739231d033aaabeb7d",
       "version_major": 2,
       "version_minor": 0
      },
      "text/plain": [
       "Output()"
      ]
     },
     "metadata": {},
     "output_type": "display_data"
    }
   ],
   "source": [
    "visualize_mesh(output_pointcloud,faces)"
   ]
  },
  {
   "cell_type": "code",
   "execution_count": 1,
   "id": "e66d0cea",
   "metadata": {},
   "outputs": [
    {
     "ename": "NameError",
     "evalue": "name 'algorithm' is not defined",
     "output_type": "error",
     "traceback": [
      "\u001b[0;31m---------------------------------------------------------------------------\u001b[0m",
      "\u001b[0;31mNameError\u001b[0m                                 Traceback (most recent call last)",
      "Input \u001b[0;32mIn [1]\u001b[0m, in \u001b[0;36m<module>\u001b[0;34m\u001b[0m\n\u001b[0;32m----> 1\u001b[0m \u001b[43malgorithm\u001b[49m\u001b[38;5;241m.\u001b[39mfind_matching(G, matching_type \u001b[38;5;241m=\u001b[39m \u001b[38;5;124m'\u001b[39m\u001b[38;5;124mmax\u001b[39m\u001b[38;5;124m'\u001b[39m, return_type \u001b[38;5;241m=\u001b[39m \u001b[38;5;124m'\u001b[39m\u001b[38;5;124mlist\u001b[39m\u001b[38;5;124m'\u001b[39m)\n",
      "\u001b[0;31mNameError\u001b[0m: name 'algorithm' is not defined"
     ]
    }
   ],
   "source": []
  },
  {
   "cell_type": "code",
   "execution_count": null,
   "id": "729713a6",
   "metadata": {},
   "outputs": [],
   "source": []
  }
 ],
 "metadata": {
  "kernelspec": {
   "display_name": "Python [conda env:pytorch3d]",
   "language": "python",
   "name": "conda-env-pytorch3d-py"
  },
  "language_info": {
   "codemirror_mode": {
    "name": "ipython",
    "version": 3
   },
   "file_extension": ".py",
   "mimetype": "text/x-python",
   "name": "python",
   "nbconvert_exporter": "python",
   "pygments_lexer": "ipython3",
   "version": "3.9.7"
  }
 },
 "nbformat": 4,
 "nbformat_minor": 5
}
