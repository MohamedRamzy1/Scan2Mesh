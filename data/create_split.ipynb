{
 "cells": [
  {
   "cell_type": "code",
   "execution_count": 2,
   "id": "eeac11e9",
   "metadata": {},
   "outputs": [],
   "source": [
    "import os\n",
    "from sklearn.model_selection import train_test_split\n",
    "from pathlib import Path"
   ]
  },
  {
   "cell_type": "code",
   "execution_count": 3,
   "id": "e56cc505",
   "metadata": {},
   "outputs": [],
   "source": [
    "train_split =Path(f\"splits/shapenet/train.txt\").read_text().splitlines()  # keep track of shapes based on split"
   ]
  },
  {
   "cell_type": "code",
   "execution_count": 4,
   "id": "bea55e59",
   "metadata": {},
   "outputs": [],
   "source": [
    "output_file_train = open(f\"splits/shapenet/train_filtered.txt\", \"a+\")"
   ]
  },
  {
   "cell_type": "code",
   "execution_count": 24,
   "id": "c7004eb1",
   "metadata": {},
   "outputs": [],
   "source": [
    "to_write = []\n",
    "\n",
    "for item in train_split:\n",
    "    sdf_id = self.items[index].split()[0]\n",
    "    shape_id = sdf_id[:sdf_id.find(\"_\")]\n",
    "    to_write.append(item)\n",
    "    "
   ]
  },
  {
   "cell_type": "code",
   "execution_count": 28,
   "id": "4558f9b8",
   "metadata": {},
   "outputs": [],
   "source": [
    "train, overfit = train_test_split(to_write, train_size=0.999)"
   ]
  },
  {
   "cell_type": "code",
   "execution_count": 30,
   "id": "a154940e",
   "metadata": {},
   "outputs": [],
   "source": [
    "for item in train:\n",
    "    output_file_train.write(f\"{item}\\n\")"
   ]
  },
  {
   "cell_type": "code",
   "execution_count": 31,
   "id": "7802cfc6",
   "metadata": {},
   "outputs": [],
   "source": [
    "output_file_train.close()"
   ]
  },
  {
   "cell_type": "code",
   "execution_count": 32,
   "id": "2df52982",
   "metadata": {},
   "outputs": [],
   "source": [
    "for item in overfit:\n",
    "    output_file_overfit.write(f\"{item}\\n\")"
   ]
  },
  {
   "cell_type": "code",
   "execution_count": 33,
   "id": "ecadb153",
   "metadata": {},
   "outputs": [],
   "source": [
    "output_file_overfit.close()"
   ]
  },
  {
   "cell_type": "code",
   "execution_count": null,
   "id": "3d64a7f5",
   "metadata": {},
   "outputs": [],
   "source": []
  }
 ],
 "metadata": {
  "kernelspec": {
   "display_name": "Python 3",
   "language": "python",
   "name": "python3"
  },
  "language_info": {
   "codemirror_mode": {
    "name": "ipython",
    "version": 3
   },
   "file_extension": ".py",
   "mimetype": "text/x-python",
   "name": "python",
   "nbconvert_exporter": "python",
   "pygments_lexer": "ipython3",
   "version": "3.7.11"
  }
 },
 "nbformat": 4,
 "nbformat_minor": 5
}
