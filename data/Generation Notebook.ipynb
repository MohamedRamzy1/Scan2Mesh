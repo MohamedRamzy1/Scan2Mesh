{
 "cells": [
  {
   "cell_type": "code",
   "execution_count": 6,
   "id": "23c9e845",
   "metadata": {},
   "outputs": [
    {
     "name": "stdout",
     "output_type": "stream",
     "text": [
      "dict_keys(['02691156', '02933112', '02958343', '03001627', '03636649', '04256520', '04379243', '04530566'])\n"
     ]
    },
    {
     "name": "stderr",
     "output_type": "stream",
     "text": [
      "100%|██████████| 1572/1572 [15:09<00:00,  1.73it/s]  \n",
      "100%|██████████| 3534/3534 [17:22<00:00,  3.39it/s] \n",
      "100%|██████████| 6779/6779 [46:37<00:00,  2.42it/s]  \n",
      "100%|██████████| 2319/2319 [10:47<00:00,  3.58it/s]\n",
      "100%|██████████| 3174/3174 [11:11<00:00,  4.73it/s]\n",
      "100%|██████████| 8437/8437 [36:08<00:00,  3.89it/s]  \n",
      " 91%|█████████ | 1759/1940 [04:12<00:32,  5.61it/s]IOPub message rate exceeded.\n",
      "The notebook server will temporarily stop sending output\n",
      "to the client in order to avoid crashing it.\n",
      "To change this limit, set the config variable\n",
      "`--NotebookApp.iopub_msg_rate_limit`.\n",
      "\n",
      "Current values:\n",
      "NotebookApp.iopub_msg_rate_limit=1000.0 (msgs/sec)\n",
      "NotebookApp.rate_limit_window=3.0 (secs)\n",
      "\n"
     ]
    }
   ],
   "source": [
    "import pybullet as p\n",
    "import pybullet_data as pd\n",
    "import os\n",
    "import tqdm\n",
    "import json\n",
    "from pathlib import Path\n",
    "\n",
    "\n",
    "class_name_mapping = json.loads(Path(\"shape_info.json\").read_text())  # mapping for ShapeNet ids -> names\n",
    "classes = class_name_mapping.keys()\n",
    "dataset_base = \"ShapeNetCore.v2\"\n",
    "\n",
    "print(classes)\n",
    "\n",
    "classes = list(classes)[1:]\n",
    "p.connect(p.DIRECT)\n",
    "\n",
    "for cls in classes:\n",
    "    input_dir = os.path.join(dataset_base, f\"{cls}\")\n",
    "    curr_dir = os.path.join(\"shapenet_reduced\",f\"{cls}\")\n",
    "    if not os.path.exists(curr_dir):\n",
    "        os.mkdir(curr_dir)\n",
    "    for shape in tqdm.tqdm(os.listdir(input_dir)):\n",
    "        if shape != \"7edb40d76dff7455c2ff7551a4114669\" and shape != \"95ebb3fd80f885ad676f197a68a5168a\" and shape != \"ae9b244f9bee122ba35db63c2ad6fc71\":\n",
    "            if not os.path.exists(os.path.join(curr_dir, f\"{shape}\")):\n",
    "                os.mkdir(os.path.join(curr_dir, f\"{shape}\"))\n",
    "            name_in = os.path.join(input_dir,f\"{shape}/models/model_normalized.obj\")\n",
    "            name_out = os.path.join(curr_dir,f\"{shape}/{shape}.obj\")\n",
    "            name_log = os.path.join(curr_dir,f\"{shape}/log.txt\")\n",
    "            p.vhacd(name_in, name_out, name_log, resolution=10000, minVolumePerCH=0.001, maxNumVerticesPerCH=12)"
   ]
  },
  {
   "cell_type": "code",
   "execution_count": 3,
   "id": "3f40c8b6",
   "metadata": {},
   "outputs": [
    {
     "data": {
      "text/plain": [
       "['02958343']"
      ]
     },
     "execution_count": 3,
     "metadata": {},
     "output_type": "execute_result"
    }
   ],
   "source": [
    "classes"
   ]
  },
  {
   "cell_type": "code",
   "execution_count": null,
   "id": "d2193cf9",
   "metadata": {},
   "outputs": [],
   "source": []
  }
 ],
 "metadata": {
  "kernelspec": {
   "display_name": "Python 3 (ipykernel)",
   "language": "python",
   "name": "python3"
  },
  "language_info": {
   "codemirror_mode": {
    "name": "ipython",
    "version": 3
   },
   "file_extension": ".py",
   "mimetype": "text/x-python",
   "name": "python",
   "nbconvert_exporter": "python",
   "pygments_lexer": "ipython3",
   "version": "3.7.11"
  }
 },
 "nbformat": 4,
 "nbformat_minor": 5
}
