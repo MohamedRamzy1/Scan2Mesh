{
 "cells": [
  {
   "cell_type": "code",
   "execution_count": 4,
   "id": "f0750b6f",
   "metadata": {},
   "outputs": [
    {
     "name": "stdout",
     "output_type": "stream",
     "text": [
      "The autoreload extension is already loaded. To reload it, use:\n",
      "  %reload_ext autoreload\n"
     ]
    }
   ],
   "source": [
    "import torch\n",
    "from data.shapenet import ShapeNet\n",
    "from model.vertix_model import VertixModel\n",
    "import tqdm\n",
    "from util.visualization import visualize_pointcloud\n",
    "import random\n",
    "%load_ext autoreload\n",
    "%autoreload 2\n",
    "from chamferdist import ChamferDistance"
   ]
  },
  {
   "cell_type": "code",
   "execution_count": 5,
   "id": "909addf0",
   "metadata": {},
   "outputs": [
    {
     "name": "stdout",
     "output_type": "stream",
     "text": [
      "Looking in links: https://dl.fbaipublicfiles.com/pytorch3d/packaging/wheels/py38_cu102_pyt1100/download.html\n",
      "Requirement already satisfied: pytorch3d in /home/mohamed/anaconda3/lib/python3.7/site-packages (0.3.0)\n",
      "Requirement already satisfied: torchvision>=0.4 in /home/mohamed/anaconda3/lib/python3.7/site-packages (from pytorch3d) (0.11.2)\n",
      "Requirement already satisfied: fvcore in /home/mohamed/anaconda3/lib/python3.7/site-packages (from pytorch3d) (0.1.5.post20210915)\n",
      "Requirement already satisfied: torch==1.10.1 in /home/mohamed/anaconda3/lib/python3.7/site-packages (from torchvision>=0.4->pytorch3d) (1.10.1)\n",
      "Requirement already satisfied: numpy in /home/mohamed/anaconda3/lib/python3.7/site-packages (from torchvision>=0.4->pytorch3d) (1.21.2)\n",
      "Requirement already satisfied: pillow!=8.3.0,>=5.3.0 in /home/mohamed/anaconda3/lib/python3.7/site-packages (from torchvision>=0.4->pytorch3d) (8.4.0)\n",
      "Requirement already satisfied: typing-extensions in /home/mohamed/anaconda3/lib/python3.7/site-packages (from torch==1.10.1->torchvision>=0.4->pytorch3d) (3.10.0.2)\n",
      "Requirement already satisfied: yacs>=0.1.6 in /home/mohamed/anaconda3/lib/python3.7/site-packages (from fvcore->pytorch3d) (0.1.8)\n",
      "Requirement already satisfied: pyyaml>=5.1 in /home/mohamed/anaconda3/lib/python3.7/site-packages (from fvcore->pytorch3d) (6.0)\n",
      "Requirement already satisfied: tqdm in /home/mohamed/anaconda3/lib/python3.7/site-packages (from fvcore->pytorch3d) (4.62.3)\n",
      "Requirement already satisfied: termcolor>=1.1 in /home/mohamed/anaconda3/lib/python3.7/site-packages (from fvcore->pytorch3d) (1.1.0)\n",
      "Requirement already satisfied: tabulate in /home/mohamed/anaconda3/lib/python3.7/site-packages (from fvcore->pytorch3d) (0.8.9)\n",
      "Requirement already satisfied: iopath>=0.1.7 in /home/mohamed/anaconda3/lib/python3.7/site-packages (from fvcore->pytorch3d) (0.1.9)\n",
      "Requirement already satisfied: portalocker in /home/mohamed/anaconda3/lib/python3.7/site-packages (from iopath>=0.1.7->fvcore->pytorch3d) (2.3.0)\n",
      "\u001b[31mERROR: Could not install packages due to an OSError: [Errno 2] No such file or directory: '/home/mohamed/anaconda3/lib/python3.7/site-packages/numpy-1.21.2.dist-info/METADATA'\n",
      "\u001b[0m\n",
      "Note: you may need to restart the kernel to use updated packages.\n"
     ]
    }
   ],
   "source": [
    "pip install pytorch3d -f https://dl.fbaipublicfiles.com/pytorch3d/packaging/wheels/py38_cu102_pyt1100/download.html"
   ]
  },
  {
   "cell_type": "code",
   "execution_count": 5,
   "id": "62ecccda",
   "metadata": {},
   "outputs": [],
   "source": [
    "num_vertices = 150"
   ]
  },
  {
   "cell_type": "code",
   "execution_count": 6,
   "id": "cbe67a4b",
   "metadata": {},
   "outputs": [],
   "source": [
    "config = {\n",
    "    'experiment_name': 'vertix_edge_training',\n",
    "    'device': 'cuda:0',  \n",
    "    'is_overfit': False,\n",
    "    'batch_size': 8,\n",
    "    'resume_ckpt': None,\n",
    "    'learning_rate': 0.0005,\n",
    "    'max_epochs': 1000,\n",
    "    'print_every_n': 10,\n",
    "    'validate_every_n': 4480,\n",
    "    'sdf_path': 'data/shapenet_dim32_sdf',\n",
    "    'meshes_path': 'data/shapenet_reduced',\n",
    "    'class_mapping': 'data/shape_info.json',\n",
    "    'split': 'train',\n",
    "    'num_vertices': num_vertices,\n",
    "    'feature_size': 512,\n",
    "    'num_trajectories': 2\n",
    "}"
   ]
  },
  {
   "cell_type": "code",
   "execution_count": 8,
   "id": "33d4f501",
   "metadata": {},
   "outputs": [],
   "source": [
    "train_dataset = ShapeNet(sdf_path=config[\"sdf_path\"],\n",
    "                         meshes_path=config[\"meshes_path\"],\n",
    "                         class_mapping=config[\"class_mapping\"],\n",
    "                         split = \"train\", threshold=config[\"num_vertices\"], num_trajectories=config[\"num_trajectories\"])\n"
   ]
  },
  {
   "cell_type": "code",
   "execution_count": 9,
   "id": "d148f352",
   "metadata": {},
   "outputs": [
    {
     "name": "stdout",
     "output_type": "stream",
     "text": [
      "Length of dataset: 153528\n",
      "Filtering data ..\n"
     ]
    },
    {
     "name": "stderr",
     "output_type": "stream",
     "text": [
      "100%|██████████████████████████████████| 153528/153528 [03:53<00:00, 658.34it/s]"
     ]
    },
    {
     "name": "stdout",
     "output_type": "stream",
     "text": [
      "Length of dataset: 35840\n"
     ]
    },
    {
     "name": "stderr",
     "output_type": "stream",
     "text": [
      "\n"
     ]
    }
   ],
   "source": [
    "train_dataset.filter_data()"
   ]
  },
  {
   "cell_type": "code",
   "execution_count": null,
   "id": "0a969311",
   "metadata": {
    "scrolled": true
   },
   "outputs": [
    {
     "name": "stdout",
     "output_type": "stream",
     "text": [
      "Device: cuda:0\n",
      "Length of dataset: 153528\n",
      "Filtering data ..\n"
     ]
    },
    {
     "name": "stderr",
     "output_type": "stream",
     "text": [
      "100%|█████████████████████████████████| 153528/153528 [00:29<00:00, 5178.05it/s]\n"
     ]
    },
    {
     "name": "stdout",
     "output_type": "stream",
     "text": [
      "Length of dataset: 35840\n"
     ]
    },
    {
     "name": "stderr",
     "output_type": "stream",
     "text": [
      "100%|████████████████████████████████| 35840/35840 [00:00<00:00, 1072615.58it/s]\n"
     ]
    },
    {
     "name": "stdout",
     "output_type": "stream",
     "text": [
      "Class 03001627 has 6512 shapes\n",
      "Class 04530566 has 2680 shapes\n",
      "Class 04379243 has 8444 shapes\n",
      "Class 02691156 has 5876 shapes\n",
      "Class 03636649 has 2056 shapes\n",
      "Class 02958343 has 3560 shapes\n",
      "Class 04256520 has 4844 shapes\n",
      "Class 02933112 has 1868 shapes\n",
      "Length of dataset: 32304\n",
      "Filtering data ..\n"
     ]
    },
    {
     "name": "stderr",
     "output_type": "stream",
     "text": [
      "100%|███████████████████████████████████| 32304/32304 [00:06<00:00, 5070.35it/s]\n"
     ]
    },
    {
     "name": "stdout",
     "output_type": "stream",
     "text": [
      "Length of dataset: 7548\n"
     ]
    },
    {
     "name": "stderr",
     "output_type": "stream",
     "text": [
      "100%|██████████████████████████████████| 7548/7548 [00:00<00:00, 1038974.98it/s]\n"
     ]
    },
    {
     "name": "stdout",
     "output_type": "stream",
     "text": [
      "Class 02691156 has 1322 shapes\n",
      "Class 03001627 has 1296 shapes\n",
      "Class 04379243 has 1696 shapes\n",
      "Class 02958343 has 726 shapes\n",
      "Class 04256520 has 1060 shapes\n",
      "Class 03636649 has 504 shapes\n",
      "Class 02933112 has 388 shapes\n",
      "Class 04530566 has 556 shapes\n",
      "[000/00009] train_loss: 11.497318, train_vertices_loss: 11.190041, train_edges_loss: 0.307277\n",
      "[000/00019] train_loss: 7.388511, train_vertices_loss: 7.271842, train_edges_loss: 0.116669\n",
      "[000/00029] train_loss: 7.230489, train_vertices_loss: 7.120060, train_edges_loss: 0.110429\n",
      "[000/00039] train_loss: 4.464786, train_vertices_loss: 4.364349, train_edges_loss: 0.100437\n",
      "[000/00049] train_loss: 3.158190, train_vertices_loss: 3.066189, train_edges_loss: 0.092001\n",
      "[000/00059] train_loss: 2.694729, train_vertices_loss: 2.596472, train_edges_loss: 0.098257\n",
      "[000/00069] train_loss: 2.428509, train_vertices_loss: 2.334508, train_edges_loss: 0.094001\n",
      "[000/00079] train_loss: 1.842119, train_vertices_loss: 1.742235, train_edges_loss: 0.099884\n",
      "[000/00089] train_loss: 1.454526, train_vertices_loss: 1.364365, train_edges_loss: 0.090160\n",
      "[000/00099] train_loss: 1.367362, train_vertices_loss: 1.272365, train_edges_loss: 0.094998\n",
      "[000/00109] train_loss: 1.187778, train_vertices_loss: 1.090815, train_edges_loss: 0.096963\n",
      "[000/00119] train_loss: 0.941173, train_vertices_loss: 0.848460, train_edges_loss: 0.092714\n",
      "[000/00129] train_loss: 1.081364, train_vertices_loss: 0.978330, train_edges_loss: 0.103033\n",
      "[000/00139] train_loss: 0.813214, train_vertices_loss: 0.714747, train_edges_loss: 0.098467\n",
      "[000/00149] train_loss: 0.817111, train_vertices_loss: 0.722203, train_edges_loss: 0.094908\n",
      "[000/00159] train_loss: 0.674891, train_vertices_loss: 0.582807, train_edges_loss: 0.092084\n",
      "[000/00169] train_loss: 0.657662, train_vertices_loss: 0.557903, train_edges_loss: 0.099759\n",
      "[000/00179] train_loss: 0.713224, train_vertices_loss: 0.615237, train_edges_loss: 0.097987\n",
      "[000/00189] train_loss: 0.591110, train_vertices_loss: 0.497652, train_edges_loss: 0.093458\n"
     ]
    }
   ],
   "source": [
    "from training import vertix_edge_train\n",
    "\n",
    "vertix_edge_train.main(config)"
   ]
  },
  {
   "cell_type": "code",
   "execution_count": null,
   "id": "fe04aceb",
   "metadata": {},
   "outputs": [],
   "source": [
    "from inference.inference_vertix import InferenceHandlerVertixModel\n",
    "\n",
    "# create a handler for inference using a trained checkpoint\n",
    "inferer = InferenceHandlerVertixModel('runs/vertix_training/model_best.ckpt', num_vertices)"
   ]
  },
  {
   "cell_type": "code",
   "execution_count": 111,
   "id": "60263481",
   "metadata": {},
   "outputs": [],
   "source": [
    "random_sample = random.randint(0,len(train_dataset))"
   ]
  },
  {
   "cell_type": "code",
   "execution_count": 112,
   "id": "3d9be6cd",
   "metadata": {},
   "outputs": [],
   "source": [
    "random_input = train_dataset[random_sample][\"input_sdf\"]\n",
    "gt_pointcloud = train_dataset[random_sample][\"target_vertices\"]\n",
    "num_points = int(train_dataset[random_sample][\"input_mask\"].sum())"
   ]
  },
  {
   "cell_type": "code",
   "execution_count": 113,
   "id": "c738f0f8",
   "metadata": {},
   "outputs": [
    {
     "data": {
      "text/plain": [
       "20"
      ]
     },
     "execution_count": 113,
     "metadata": {},
     "output_type": "execute_result"
    }
   ],
   "source": [
    "num_points"
   ]
  },
  {
   "cell_type": "code",
   "execution_count": 115,
   "id": "03334c13",
   "metadata": {},
   "outputs": [
    {
     "data": {
      "application/vnd.jupyter.widget-view+json": {
       "model_id": "0d6faa2b916d4db7b85e55bf90239128",
       "version_major": 2,
       "version_minor": 0
      },
      "text/plain": [
       "Output()"
      ]
     },
     "metadata": {},
     "output_type": "display_data"
    }
   ],
   "source": [
    "visualize_pointcloud(gt_pointcloud, point_size=0.01)"
   ]
  },
  {
   "cell_type": "code",
   "execution_count": null,
   "id": "a47a0ce8",
   "metadata": {},
   "outputs": [],
   "source": []
  },
  {
   "cell_type": "code",
   "execution_count": 118,
   "id": "5f2e1184",
   "metadata": {},
   "outputs": [],
   "source": [
    "output_pointcloud = inferer.infer_single(random_input)"
   ]
  },
  {
   "cell_type": "code",
   "execution_count": 120,
   "id": "795bd0be",
   "metadata": {},
   "outputs": [
    {
     "data": {
      "application/vnd.jupyter.widget-view+json": {
       "model_id": "7f9ade924c8c43519b009f0920974005",
       "version_major": 2,
       "version_minor": 0
      },
      "text/plain": [
       "Output()"
      ]
     },
     "metadata": {},
     "output_type": "display_data"
    }
   ],
   "source": [
    "visualize_pointcloud(output_pointcloud, point_size=0.01)"
   ]
  },
  {
   "cell_type": "code",
   "execution_count": null,
   "id": "2651e1a9",
   "metadata": {},
   "outputs": [],
   "source": []
  }
 ],
 "metadata": {
  "kernelspec": {
   "display_name": "Python 3 (ipykernel)",
   "language": "python",
   "name": "python3"
  },
  "language_info": {
   "codemirror_mode": {
    "name": "ipython",
    "version": 3
   },
   "file_extension": ".py",
   "mimetype": "text/x-python",
   "name": "python",
   "nbconvert_exporter": "python",
   "pygments_lexer": "ipython3",
   "version": "3.7.11"
  }
 },
 "nbformat": 4,
 "nbformat_minor": 5
}
