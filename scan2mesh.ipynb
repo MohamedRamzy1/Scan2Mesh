{
 "cells": [
  {
   "cell_type": "code",
   "execution_count": 4,
   "id": "f0750b6f",
   "metadata": {},
   "outputs": [
    {
     "name": "stdout",
     "output_type": "stream",
     "text": [
      "The autoreload extension is already loaded. To reload it, use:\n",
      "  %reload_ext autoreload\n"
     ]
    }
   ],
   "source": [
    "import torch\n",
    "from data.shapenet import ShapeNet\n",
    "from model.vertix_model import VertixModel\n",
    "import tqdm\n",
    "from util.visualization import visualize_pointcloud\n",
    "%load_ext autoreload\n",
    "%autoreload 2"
   ]
  },
  {
   "cell_type": "code",
   "execution_count": 5,
   "id": "42e5e27d",
   "metadata": {},
   "outputs": [],
   "source": [
    "num_vertices=250"
   ]
  },
  {
   "cell_type": "code",
   "execution_count": null,
   "id": "0a969311",
   "metadata": {
    "scrolled": true
   },
   "outputs": [
    {
     "name": "stdout",
     "output_type": "stream",
     "text": [
      "Device: cuda:0\n",
      "Length of dataset: 153528\n",
      "Filtering data ..\n"
     ]
    },
    {
     "name": "stderr",
     "output_type": "stream",
     "text": [
      "100%|██████████| 153528/153528 [01:30<00:00, 1703.24it/s]\n"
     ]
    },
    {
     "name": "stdout",
     "output_type": "stream",
     "text": [
      "Length of dataset: 123840\n"
     ]
    },
    {
     "name": "stderr",
     "output_type": "stream",
     "text": [
      "100%|██████████| 123840/123840 [00:00<00:00, 1117506.50it/s]\n"
     ]
    },
    {
     "name": "stdout",
     "output_type": "stream",
     "text": [
      "Class 03001627 has 25944 shapes\n",
      "Class 04256520 has 15198 shapes\n",
      "Class 04379243 has 28782 shapes\n",
      "Class 02691156 has 19590 shapes\n",
      "Class 04530566 has 8628 shapes\n",
      "Class 02958343 has 11106 shapes\n",
      "Class 03636649 has 7890 shapes\n",
      "Class 02933112 has 6702 shapes\n",
      "Length of dataset: 32304\n",
      "Filtering data ..\n"
     ]
    },
    {
     "name": "stderr",
     "output_type": "stream",
     "text": [
      "100%|██████████| 32304/32304 [00:19<00:00, 1682.42it/s]\n"
     ]
    },
    {
     "name": "stdout",
     "output_type": "stream",
     "text": [
      "Length of dataset: 26232\n"
     ]
    },
    {
     "name": "stderr",
     "output_type": "stream",
     "text": [
      "100%|██████████| 26232/26232 [00:00<00:00, 1056692.94it/s]\n"
     ]
    },
    {
     "name": "stdout",
     "output_type": "stream",
     "text": [
      "Class 02691156 has 4404 shapes\n",
      "Class 04530566 has 1782 shapes\n",
      "Class 04379243 has 5778 shapes\n",
      "Class 03001627 has 5286 shapes\n",
      "Class 04256520 has 3330 shapes\n",
      "Class 03636649 has 1998 shapes\n",
      "Class 02958343 has 2262 shapes\n",
      "Class 02933112 has 1392 shapes\n",
      "[000/00009] train_loss: 0.154053\n",
      "[000/00019] train_loss: 0.070303\n",
      "[000/00029] train_loss: 0.052722\n",
      "[000/00039] train_loss: 0.052132\n",
      "[000/00049] train_loss: 0.049295\n",
      "[000/00059] train_loss: 0.044117\n",
      "[000/00069] train_loss: 0.045178\n",
      "[000/00079] train_loss: 0.042708\n",
      "[000/00089] train_loss: 0.041903\n",
      "[000/00099] train_loss: 0.041552\n",
      "[000/00109] train_loss: 0.039046\n",
      "[000/00119] train_loss: 0.036677\n",
      "[000/00129] train_loss: 0.035054\n",
      "[000/00139] train_loss: 0.034048\n",
      "[000/00149] train_loss: 0.032923\n",
      "[000/00159] train_loss: 0.032048\n",
      "[000/00169] train_loss: 0.030834\n",
      "[000/00179] train_loss: 0.033537\n",
      "[000/00189] train_loss: 0.030431\n",
      "[000/00199] train_loss: 0.029923\n",
      "[000/00209] train_loss: 0.029939\n",
      "[000/00219] train_loss: 0.032182\n",
      "[000/00229] train_loss: 0.029180\n",
      "[000/00239] train_loss: 0.027745\n",
      "[000/00249] train_loss: 0.029444\n",
      "[000/00259] train_loss: 0.028640\n",
      "[000/00269] train_loss: 0.030467\n",
      "[000/00279] train_loss: 0.028080\n",
      "[000/00289] train_loss: 0.028735\n",
      "[000/00299] train_loss: 0.026344\n",
      "[000/00309] train_loss: 0.028135\n",
      "[000/00319] train_loss: 0.026804\n",
      "[000/00329] train_loss: 0.026598\n",
      "[000/00339] train_loss: 0.025814\n",
      "[000/00349] train_loss: 0.027400\n",
      "[000/00359] train_loss: 0.026124\n",
      "[000/00369] train_loss: 0.025888\n",
      "[000/00379] train_loss: 0.025642\n",
      "[000/00389] train_loss: 0.025425\n",
      "[000/00399] train_loss: 0.025990\n",
      "[000/00409] train_loss: 0.025218\n",
      "[000/00419] train_loss: 0.026385\n",
      "[000/00429] train_loss: 0.025502\n",
      "[000/00439] train_loss: 0.025928\n",
      "[000/00449] train_loss: 0.027187\n",
      "[000/00459] train_loss: 0.027923\n",
      "[000/00469] train_loss: 0.024243\n",
      "[000/00479] train_loss: 0.024864\n",
      "[000/00489] train_loss: 0.026230\n"
     ]
    }
   ],
   "source": [
    "from training import vertix_train\n",
    "config = {\n",
    "    'experiment_name': 'vertix_training',\n",
    "    'device': 'cuda:0',  \n",
    "    'is_overfit': False,\n",
    "    'batch_size': 64,\n",
    "    'resume_ckpt': None,\n",
    "    'learning_rate': 0.001,\n",
    "    'max_epochs': 100,\n",
    "    'print_every_n': 10,\n",
    "    'validate_every_n': 1000,\n",
    "    'sdf_path': 'data/shapenet_dim32_sdf',\n",
    "    'meshes_path': 'data/shapenet_reduced',\n",
    "    'class_mapping': 'data/shape_info.json',\n",
    "    'split': 'train',\n",
    "    'num_vertices': num_vertices\n",
    "}\n",
    "vertix_train.main(config)"
   ]
  },
  {
   "cell_type": "code",
   "execution_count": null,
   "id": "60263481",
   "metadata": {},
   "outputs": [],
   "source": []
  }
 ],
 "metadata": {
  "kernelspec": {
   "display_name": "Python 3",
   "language": "python",
   "name": "python3"
  },
  "language_info": {
   "codemirror_mode": {
    "name": "ipython",
    "version": 3
   },
   "file_extension": ".py",
   "mimetype": "text/x-python",
   "name": "python",
   "nbconvert_exporter": "python",
   "pygments_lexer": "ipython3",
   "version": "3.7.11"
  }
 },
 "nbformat": 4,
 "nbformat_minor": 5
}
