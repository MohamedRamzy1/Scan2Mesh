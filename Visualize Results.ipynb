{
 "cells": [
  {
   "cell_type": "code",
   "execution_count": 1,
   "id": "f0750b6f",
   "metadata": {},
   "outputs": [],
   "source": [
    "import torch\n",
    "from data.shapenet import ShapeNet\n",
    "from model.vertix_model import VertixModel\n",
    "import tqdm\n",
    "from util.visualization import visualize_pointcloud, visualize_mesh\n",
    "import random\n",
    "%load_ext autoreload\n",
    "%autoreload 2\n",
    "import numpy as np\n",
    "import pickle\n",
    "from scipy.spatial import distance_matrix\n",
    "from scipy.optimize import linear_sum_assignment\n",
    "from sklearn.utils import class_weight"
   ]
  },
  {
   "cell_type": "code",
   "execution_count": 2,
   "id": "62ecccda",
   "metadata": {},
   "outputs": [],
   "source": [
    "num_vertices = 100"
   ]
  },
  {
   "cell_type": "code",
   "execution_count": 3,
   "id": "cbe67a4b",
   "metadata": {},
   "outputs": [],
   "source": [
    "config = {\n",
    "    'experiment_name': 'vertix_edge_overfitting',\n",
    "    'device': 'cuda:0',  \n",
    "    'is_overfit': True,\n",
    "    'batch_size': 8,\n",
    "    'resume_ckpt': False,\n",
    "    'learning_rate': 5e-4,\n",
    "    'max_epochs': 50000,\n",
    "    'print_every_n': 10,\n",
    "    'validate_every_n': 50,\n",
    "    'sdf_path': 'data/shapenet_dim32_sdf',\n",
    "    'meshes_path': 'data/shapenet_reduced',\n",
    "    'class_mapping': 'data/shape_info.json',\n",
    "    'split': 'overfit',\n",
    "    'num_vertices': num_vertices,\n",
    "    'feature_size': 512,\n",
    "    'num_trajectories': 2,\n",
    "}"
   ]
  },
  {
   "cell_type": "code",
   "execution_count": 4,
   "id": "33d4f501",
   "metadata": {},
   "outputs": [],
   "source": [
    "dataset = ShapeNet(sdf_path=config[\"sdf_path\"],\n",
    "                         meshes_path=config[\"meshes_path\"],\n",
    "                         class_mapping=config[\"class_mapping\"],\n",
    "                         split = \"val\", threshold=config[\"num_vertices\"], num_trajectories=config[\"num_trajectories\"])\n"
   ]
  },
  {
   "cell_type": "code",
   "execution_count": 5,
   "id": "d148f352",
   "metadata": {},
   "outputs": [
    {
     "name": "stdout",
     "output_type": "stream",
     "text": [
      "Length of dataset: 32304\n",
      "Filtering data ..\n"
     ]
    },
    {
     "name": "stderr",
     "output_type": "stream",
     "text": [
      "100%|███████████████████████████████████| 32304/32304 [00:06<00:00, 5348.71it/s]"
     ]
    },
    {
     "name": "stdout",
     "output_type": "stream",
     "text": [
      "Length of dataset: 5474\n"
     ]
    },
    {
     "name": "stderr",
     "output_type": "stream",
     "text": [
      "\n"
     ]
    }
   ],
   "source": [
    "dataset.filter_data()"
   ]
  },
  {
   "cell_type": "code",
   "execution_count": 6,
   "id": "fe04aceb",
   "metadata": {},
   "outputs": [],
   "source": [
    "from inference.inference_vertix_edge import InferenceHandlerVertixEdgeModel\n",
    "\n",
    "inferer = InferenceHandlerVertixEdgeModel('runs/vertix_edge_hungarian_train/model_best.ckpt', config[\"num_vertices\"], config[\"feature_size\"])"
   ]
  },
  {
   "cell_type": "code",
   "execution_count": 7,
   "id": "dcadb433",
   "metadata": {},
   "outputs": [],
   "source": [
    "x_indices = []\n",
    "y_indices = []\n",
    "\n",
    "graph = np.ones((1,config[\"num_vertices\"], config[\"num_vertices\"],1))\n",
    "\n",
    "for i in range(config[\"num_vertices\"]):\n",
    "    for j in range(config[\"num_vertices\"]):\n",
    "        x_indices.append(i)\n",
    "        y_indices.append(j)"
   ]
  },
  {
   "cell_type": "code",
   "execution_count": 10,
   "id": "05b561cf",
   "metadata": {},
   "outputs": [],
   "source": [
    "def visualize_random():\n",
    "    random_sample = random.randint(0,len(dataset)-1)\n",
    "    input_sdf, target_vertices, mask, target_edges, edges_adj = dataset[random_sample]\n",
    "    faces = []\n",
    "\n",
    "    for i in range(num_vertices):\n",
    "        for j in range(num_vertices):\n",
    "            for k in range(num_vertices):\n",
    "                if i != j and j != k and k != i:\n",
    "                    if target_edges[i][j] ==1 and target_edges[j][k]==1 and target_edges[k][i]==1:\n",
    "                        faces.append(np.array([i,j,k]).reshape(1,-1))\n",
    "                    \n",
    "    faces = np.concatenate(faces,0)\n",
    "    \n",
    "    \n",
    "\n",
    "                    \n",
    "        \n",
    "    print(\"GT Mesh\")\n",
    "    \n",
    "    \n",
    "    visualize_mesh(target_vertices, faces)\n",
    "    \n",
    "    output_pointcloud, edges = inferer.infer_single(input_sdf, mask, x_indices,y_indices,edges_adj)\n",
    "    \n",
    "    faces = []\n",
    "    \n",
    "    \n",
    "    print(\"Predicted Pointcloud\")\n",
    "    \n",
    "    visualize_pointcloud(output_pointcloud,point_size=0.01)\n",
    "\n",
    "    \n",
    "    target_size = int(sum(mask))\n",
    "    \n",
    "    matched_edges = np.zeros((num_vertices,num_vertices))\n",
    "                    \n",
    "    cost = distance_matrix(output_pointcloud, target_vertices[:int(sum(mask))])\n",
    "                        \n",
    "    vertix_idx, target_idx = linear_sum_assignment(cost) \n",
    "    \n",
    "    for i in range(target_size):\n",
    "        for j in range(target_size):\n",
    "            curr_v_1 = vertix_idx[i]\n",
    "            curr_t_1 = target_idx[i]\n",
    "            curr_v_2 = vertix_idx[j]\n",
    "            curr_t_2 = target_idx[j]\n",
    "            matched_edges[curr_v_1,curr_v_2] = target_edges[curr_t_1,curr_t_2]\n",
    "            \n",
    "    faces = []\n",
    "\n",
    "    for i in range(num_vertices):\n",
    "        for j in range(num_vertices):\n",
    "            for k in range(num_vertices):\n",
    "                if edges[i][j] and edges[j][k] and edges[k][i]:\n",
    "                    faces.append(np.array([i,j,k]).reshape(1,-1))\n",
    "    faces = np.concatenate(faces,0)\n",
    "    \n",
    "\n",
    "    print(\"Predicted Mesh\")\n",
    "    \n",
    "    visualize_mesh(output_pointcloud,faces)\n",
    "    "
   ]
  },
  {
   "cell_type": "code",
   "execution_count": 11,
   "id": "60263481",
   "metadata": {},
   "outputs": [
    {
     "name": "stdout",
     "output_type": "stream",
     "text": [
      "GT Mesh\n"
     ]
    },
    {
     "data": {
      "application/vnd.jupyter.widget-view+json": {
       "model_id": "bedfefd24d5c4aadbeec0ff64132873c",
       "version_major": 2,
       "version_minor": 0
      },
      "text/plain": [
       "Output()"
      ]
     },
     "metadata": {},
     "output_type": "display_data"
    },
    {
     "name": "stdout",
     "output_type": "stream",
     "text": [
      "Predicted Pointcloud\n"
     ]
    },
    {
     "data": {
      "application/vnd.jupyter.widget-view+json": {
       "model_id": "ab8a3a45f92a447993c3695c20a260e4",
       "version_major": 2,
       "version_minor": 0
      },
      "text/plain": [
       "Output()"
      ]
     },
     "metadata": {},
     "output_type": "display_data"
    },
    {
     "name": "stdout",
     "output_type": "stream",
     "text": [
      "Predicted Mesh\n"
     ]
    },
    {
     "data": {
      "application/vnd.jupyter.widget-view+json": {
       "model_id": "a8bcde4e87314dbdaf85adf776f6a5ec",
       "version_major": 2,
       "version_minor": 0
      },
      "text/plain": [
       "Output()"
      ]
     },
     "metadata": {},
     "output_type": "display_data"
    }
   ],
   "source": [
    "visualize_random()"
   ]
  },
  {
   "cell_type": "code",
   "execution_count": 90,
   "id": "c98e16ad",
   "metadata": {},
   "outputs": [],
   "source": []
  },
  {
   "cell_type": "code",
   "execution_count": 91,
   "id": "f49a90cb",
   "metadata": {},
   "outputs": [],
   "source": []
  },
  {
   "cell_type": "code",
   "execution_count": 92,
   "id": "9cf6bf6d",
   "metadata": {},
   "outputs": [
    {
     "data": {
      "application/vnd.jupyter.widget-view+json": {
       "model_id": "d34452900e2046638875b46674e393f8",
       "version_major": 2,
       "version_minor": 0
      },
      "text/plain": [
       "Output()"
      ]
     },
     "metadata": {},
     "output_type": "display_data"
    }
   ],
   "source": []
  },
  {
   "cell_type": "code",
   "execution_count": 1,
   "id": "e66d0cea",
   "metadata": {},
   "outputs": [
    {
     "ename": "NameError",
     "evalue": "name 'algorithm' is not defined",
     "output_type": "error",
     "traceback": [
      "\u001b[0;31m---------------------------------------------------------------------------\u001b[0m",
      "\u001b[0;31mNameError\u001b[0m                                 Traceback (most recent call last)",
      "Input \u001b[0;32mIn [1]\u001b[0m, in \u001b[0;36m<module>\u001b[0;34m\u001b[0m\n\u001b[0;32m----> 1\u001b[0m \u001b[43malgorithm\u001b[49m\u001b[38;5;241m.\u001b[39mfind_matching(G, matching_type \u001b[38;5;241m=\u001b[39m \u001b[38;5;124m'\u001b[39m\u001b[38;5;124mmax\u001b[39m\u001b[38;5;124m'\u001b[39m, return_type \u001b[38;5;241m=\u001b[39m \u001b[38;5;124m'\u001b[39m\u001b[38;5;124mlist\u001b[39m\u001b[38;5;124m'\u001b[39m)\n",
      "\u001b[0;31mNameError\u001b[0m: name 'algorithm' is not defined"
     ]
    }
   ],
   "source": []
  },
  {
   "cell_type": "code",
   "execution_count": null,
   "id": "729713a6",
   "metadata": {},
   "outputs": [],
   "source": []
  }
 ],
 "metadata": {
  "kernelspec": {
   "display_name": "Python [conda env:pytorch3d]",
   "language": "python",
   "name": "conda-env-pytorch3d-py"
  },
  "language_info": {
   "codemirror_mode": {
    "name": "ipython",
    "version": 3
   },
   "file_extension": ".py",
   "mimetype": "text/x-python",
   "name": "python",
   "nbconvert_exporter": "python",
   "pygments_lexer": "ipython3",
   "version": "3.9.7"
  }
 },
 "nbformat": 4,
 "nbformat_minor": 5
}
